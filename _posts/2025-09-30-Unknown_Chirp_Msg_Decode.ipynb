{
 "cells": [
  {
   "cell_type": "markdown",
   "id": "3932f9b3-90ce-4620-9880-6b2f7d7bdac2",
   "metadata": {},
   "source": [
    "# Unknown Chirp Message Decode"
   ]
  },
  {
   "cell_type": "markdown",
   "id": "32d87921-ed22-430c-ab51-d8e47efc8328",
   "metadata": {},
   "source": [
    "Another unknown signal challenge from [DrSDR, the Chip-Text-Message](https://github.com/DrSDR/Chirp-Text-Message)- here a series of linear frequency modulated (LFM) chirps are representing bits, and we need to find the underlying text message in the waveform. An \"upchirp\" (where frequency is _increasing_ as $e^{j \\omega t}$) represents a bit `1`, where as an opposite \"downchirp\" (where frequency _decreases_ as $e^{-j \\omega t}$) represents a bit `0`.\n",
    "\n",
    "We are given the following waveform constants:"
   ]
  },
  {
   "cell_type": "code",
   "execution_count": null,
   "id": "5b53bac8-1d53-4313-904c-063b51c75177",
   "metadata": {},
   "outputs": [],
   "source": [
    "bw = 12e3     # Bandwidth of chirp sweep (Hz)\n",
    "pw = 50e-3    # Chirp pulse width (seconds)\n",
    "n_bits = 144  # Number of bits\n",
    "sps = 2400    # Samples/symbol"
   ]
  },
  {
   "cell_type": "code",
   "execution_count": null,
   "id": "81ee4d17-31bd-4af2-a333-f277459b28ec",
   "metadata": {},
   "outputs": [],
   "source": [
    "import numpy as np\n",
    "import matplotlib.pyplot as plt\n",
    "from scipy.io import wavfile\n",
    "from scipy import signal\n",
    "from rfproto import plot, sig_gen"
   ]
  },
  {
   "cell_type": "markdown",
   "id": "0df720b8-41f0-4295-9b0e-7d5d71fb7fd8",
   "metadata": {},
   "source": [
    "First lets read in the `.wav` file and verify the sampling frequency given in the file metadata."
   ]
  },
  {
   "cell_type": "code",
   "execution_count": null,
   "id": "be51f22d-fa63-4f52-85ca-1f6d5dbb9c6b",
   "metadata": {},
   "outputs": [],
   "source": [
    "fs, wav_data = wavfile.read(\"./Chirp_IQ_Fs48KHz.wav\")\n",
    "N = len(wav_data)\n",
    "print(f\"Read {N} samples with fs={fs}\")"
   ]
  },
  {
   "cell_type": "markdown",
   "id": "0337c563-8c3b-43b1-8bf5-05b500a696a8",
   "metadata": {},
   "source": [
    "Given we know the message is made up of up and down chirps, lets [use time-frequency analysis techniques, like generating a spectrogram](https://john-gentile.com/kb/dsp/Time-Frequency_Analysis.html) to see if we can see the linear frequency sweeps."
   ]
  },
  {
   "cell_type": "code",
   "execution_count": null,
   "id": "20558f09-29a2-4e11-a389-77c139bd929a",
   "metadata": {},
   "outputs": [],
   "source": [
    "input_iq = wav_data[:, 0] + 1j * wav_data[:, 1]\n",
    "min_mag = np.min(np.abs(input_iq))\n",
    "plt.specgram(input_iq, NFFT=256, noverlap=128, pad_to=1024, Fs=fs, vmin=min_mag)\n",
    "plt.xlabel('Time (s)')\n",
    "plt.ylabel('Frequency (Hz)')\n",
    "plt.show()"
   ]
  },
  {
   "cell_type": "markdown",
   "id": "4c82e6af-a3ba-4777-b7a7-0a4b57568014",
   "metadata": {},
   "source": [
    "Here we can see there are varying up and down LFM chirps and that the 12 kHz chirp bandwidth is centered around DC (0 Hz).\n",
    "\n",
    "Similar to [radar pulse compression processing](https://en.wikipedia.org/wiki/Pulse_compression), we can use a [matched filter](https://en.wikipedia.org/wiki/Matched_filter) to de-chirp the input signal. Since we are given the pulse width and chirp bandwidth of the modulated bits, the matched filter is simply a prototype of the generated pulse, then reversed and complex conjugated."
   ]
  },
  {
   "cell_type": "code",
   "execution_count": null,
   "id": "dc8531a1-ca4e-4d95-8a40-b06cbd746bf3",
   "metadata": {},
   "outputs": [],
   "source": [
    "n_chirp = fs * pw # samp_freq (Samples/sec) * pulse_width (sec) => Samples\n",
    "upchirp = sig_gen.cmplx_dt_lfm_chirp(1.0, -6e3, 6e3, fs, int(n_chirp))\n",
    "plt.specgram(upchirp, pad_to=1024, Fs=fs)\n",
    "plt.xlabel('Time (s)')\n",
    "plt.ylabel('Frequency (Hz)')\n",
    "plt.show()\n",
    "\n",
    "mf_up = np.conj(np.flip(upchirp))\n",
    "\n",
    "downchirp = sig_gen.cmplx_dt_lfm_chirp(1.0, 6e3, -6e3, fs, int(n_chirp))\n",
    "plt.specgram(downchirp, pad_to=1024, Fs=fs)\n",
    "plt.xlabel('Time (s)')\n",
    "plt.ylabel('Frequency (Hz)')\n",
    "plt.show()\n",
    "\n",
    "mf_down = np.conj(np.flip(downchirp))"
   ]
  },
  {
   "cell_type": "markdown",
   "id": "00d728c4-7cfe-4b60-9742-75601197f3e0",
   "metadata": {},
   "source": [
    "We could do a frequency domain method of convolution (e.g. take FFT of both input signal and matched filter template, then multiply in frequency domain, then IFFT to get back to time domain), but here lets just stay in time domain and convolve (filter) the input signal using both the up and down chirp matched filters. We take the magnitude of the complex outputs to see the convolution peaks."
   ]
  },
  {
   "cell_type": "code",
   "execution_count": null,
   "id": "f0575e08-5943-49a0-8f08-be94fc85f619",
   "metadata": {},
   "outputs": [],
   "source": [
    "mf_output_1 = np.abs(signal.convolve(input_iq, mf_up, mode='same'))\n",
    "mf_output_0 = np.abs(signal.convolve(input_iq, mf_down, mode='same'))\n",
    "\n",
    "plt.plot(mf_output_1, label='Bit 1')\n",
    "plt.plot(mf_output_0, label='Bit 0')\n",
    "plt.legend()\n",
    "plt.show()"
   ]
  },
  {
   "cell_type": "markdown",
   "id": "42c5839b-b7c5-4669-a1a9-ad72534c745b",
   "metadata": {},
   "source": [
    "We can see lots of convolution peaks! Though given we have 2400 samples/symbol, we should zoom to see that there is lots of dead space (very high SNR post matched filtering!) between detected \"bits\"."
   ]
  },
  {
   "cell_type": "code",
   "execution_count": null,
   "id": "d7ca4a06-1bef-4545-99be-de92bcda0324",
   "metadata": {},
   "outputs": [],
   "source": [
    "plt.plot(mf_output_1[:3*sps], label='Bit 1')\n",
    "plt.plot(mf_output_0[:3*sps], label='Bit 0')\n",
    "plt.legend()\n",
    "plt.show()"
   ]
  },
  {
   "cell_type": "markdown",
   "id": "fbe559c4-e289-4352-ab0e-e9a513c1b82f",
   "metadata": {},
   "source": [
    "We were also given that there are 144 total bits in the signal, which does match the length post-matched-filtering:"
   ]
  },
  {
   "cell_type": "code",
   "execution_count": null,
   "id": "aab80868-1750-4cc4-8b15-dff44d54754e",
   "metadata": {},
   "outputs": [],
   "source": [
    "print(len(mf_output_0) / sps)"
   ]
  },
  {
   "cell_type": "markdown",
   "id": "0a3f6a97-67f0-43f6-9fed-072833548160",
   "metadata": {},
   "source": [
    "We can also visually see that the correlation peaks happen to nicely align around the center of a \"symbol window\" (e.g. we can see a `0` bit peak at around sample 1200 within a 2400 sample/symbol period). Thus, we can build a very simple decoder that looks across both matched filtered outputs in 2400 sample chunks, and whichever chunk has the highest value, we append that bit to an output decode buffer:"
   ]
  },
  {
   "cell_type": "code",
   "execution_count": null,
   "id": "f1b49294-3b10-49b8-ab82-78918c224b83",
   "metadata": {},
   "outputs": [],
   "source": [
    "bits = []\n",
    "for i in range(n_bits):\n",
    "    b0_max = np.max(mf_output_0[i*2400 : (i+1)*2400])\n",
    "    b1_max = np.max(mf_output_1[i*2400 : (i+1)*2400])\n",
    "    bits.append(0 if b0_max > b1_max else 1)"
   ]
  },
  {
   "cell_type": "markdown",
   "id": "8d02046a-c5f2-40ba-8cef-3d01f4a0dee5",
   "metadata": {},
   "source": [
    "Finally, we can then convert the bit vector to 8-bit ASCII characters to get the final text message output!"
   ]
  },
  {
   "cell_type": "code",
   "execution_count": null,
   "id": "b9c546b7-c93e-44ef-89b1-ac4ed12a9167",
   "metadata": {},
   "outputs": [],
   "source": [
    "message = \"\"\n",
    "num_chars = n_bits // 8 # 8 bits per ASCII char\n",
    "for i in range(num_chars):\n",
    "    curr_bits = bits[i * 8 : (i+1) * 8]\n",
    "    byte_str = ''.join(map(str, curr_bits))\n",
    "    byte_val = int(byte_str, 2)\n",
    "    message += chr(byte_val)\n",
    "\n",
    "print(f\"Final demodulated and decoded message: {message}\")"
   ]
  }
 ],
 "metadata": {
  "language_info": {
   "name": "python"
  }
 },
 "nbformat": 4,
 "nbformat_minor": 5
}
