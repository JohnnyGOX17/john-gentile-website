{
 "cells": [
  {
   "cell_type": "markdown",
   "id": "9ac01522-61d5-463f-9b7d-a57ce0bfe188",
   "metadata": {},
   "source": [
    "# Unknown BPSK Decode"
   ]
  },
  {
   "cell_type": "markdown",
   "id": "a3db3be0-7040-4b7d-8316-dbc1c3421d4a",
   "metadata": {},
   "source": [
    "I saw an interesting DSP challenge come up in [r/DSP](https://www.reddit.com/r/DSP/), [DrSDR/BPSK-Decode](https://github.com/DrSDR/BPSK-Decode), in which a `.wav` file is given and we are looking to demodulate and decode the signal to get an \"Amazon gift card claim code\".\n",
    "\n",
    "We are given the following information about it:\n",
    "- Waveform is [BPSK](https://en.wikipedia.org/wiki/Phase-shift_keying) I/Q file with frequency and phase offset applied.\n",
    "- Sampling frequency of $f_{s} = 48kHz$\n",
    "- 40 samples per bit, 144 bits in waveform, so total samples = 40 * 144\n",
    "- Bit mapping: `0 = 0deg, I = 1 & Q = 0` , `1 = 180deg, I = -1 & Q = 0`\n",
    "- 18 characters in waveform, each char is 8 bits (ASCII), with MSB sent first\n",
    "- First 8 bits of message is `01000001` or `A` in 8-bit ASCII"
   ]
  },
  {
   "cell_type": "code",
   "execution_count": null,
   "id": "20109c0c-5d24-409d-8f66-16713f786b7c",
   "metadata": {},
   "outputs": [],
   "source": [
    "import numpy as np\n",
    "import matplotlib.pyplot as plt\n",
    "from scipy.io import wavfile\n",
    "from rfproto import plot"
   ]
  },
  {
   "cell_type": "markdown",
   "id": "31fed947-7748-423e-b3f2-d7ec75a05bd8",
   "metadata": {},
   "source": [
    "First lets read in the `.wav` file and verify the sampling frequency given in the file metadata."
   ]
  },
  {
   "cell_type": "code",
   "execution_count": null,
   "id": "be51f22d-fa63-4f52-85ca-1f6d5dbb9c6b",
   "metadata": {},
   "outputs": [],
   "source": [
    "fs, wav_data = wavfile.read(\"./BPSK_IQ_Fs48KHz.wav\")\n",
    "N = len(wav_data)\n",
    "print(f\"Read {N} samples with fs={fs}\")"
   ]
  },
  {
   "cell_type": "code",
   "execution_count": null,
   "id": "72f35593-eb1f-4551-add7-d369121a79f2",
   "metadata": {},
   "outputs": [],
   "source": [
    "input_iq = wav_data[:, 0] + 1j * wav_data[:, 1]\n",
    "plot.IQ(input_iq, alpha=0.1)\n",
    "plt.show()"
   ]
  },
  {
   "cell_type": "markdown",
   "id": "e870f222-a39a-4916-a4f2-2b8a108d1dff",
   "metadata": {},
   "source": [
    "## Static (Non-Realtime) Demodulation\n",
    "\n",
    "We can assume at first that both frequency and phase offsets are statically set in this synthetic case- thus, we can do some simplifications in both approaching each stage of compensation as full passes across the input data, as well in the type of processing to find and compensate for the given offsets towards carrier recovery.\n",
    "\n",
    "To find the frequency offset error, we can use the [squaring trick](https://dsp.stackexchange.com/questions/32133/phase-synchronization-in-bpsk) which wipes off the modulation of a signal when raising to the power of the modulation-order (e.g. $x^{2}$ squaring for BPSK, $x^{4}$ for QPSK, etc.), which will then show a tone at double (or quadruple in the case of QPSK) when taking the FFT of the signal as the remaining frequency content is the offset of the double/quadrupled signal."
   ]
  },
  {
   "cell_type": "code",
   "execution_count": null,
   "id": "15c3f756-1f25-47fc-af27-83e929d55e05",
   "metadata": {},
   "outputs": [],
   "source": [
    "x2 = input_iq ** 2\n",
    "plot.spec_an(x2, fs, scale_noise=True, norm=True)\n",
    "plt.show()"
   ]
  },
  {
   "cell_type": "code",
   "execution_count": null,
   "id": "d7384fd0-0419-4816-9a7f-8aadf9595b6a",
   "metadata": {},
   "outputs": [],
   "source": [
    "freqs = np.fft.fftfreq(N, 1 / fs)\n",
    "X2 = np.fft.fft(x2)\n",
    "\n",
    "f_offset = freqs[np.argmax(np.abs(X2))] / 2.0\n",
    "print(f\"Frequency offset seen to be {f_offset} Hz\")"
   ]
  },
  {
   "cell_type": "markdown",
   "id": "090517e8-5d65-4676-abcb-d69e2e3f4de5",
   "metadata": {},
   "source": [
    "Now that the frequency offset is found, we can compensate for the rotation by multiplying the input signal by a negative frequency of that offset:\n",
    "$$ Y = x * e^{- j \\omega t } = x * e^{- j 2 \\pi f t }$$"
   ]
  },
  {
   "cell_type": "code",
   "execution_count": null,
   "id": "41bec310-b309-4bea-9abb-8a7956ac5a82",
   "metadata": {},
   "outputs": [],
   "source": [
    "t = np.arange(N) / fs\n",
    "freq_corrected = input_iq * np.exp(-1j * 2 * np.pi * f_offset * t)\n",
    "plot.IQ(freq_corrected, alpha=0.1)\n",
    "plt.show()"
   ]
  },
  {
   "cell_type": "markdown",
   "id": "e2d47849-b854-41f2-a5f7-0c4dbd3436fe",
   "metadata": {},
   "source": [
    "We can see that the BPSK constellation is now not rotating at all! However a phase offset is still seen- in the same way we used the squaring trick to remove the modulation to find the frequency offset, the same trick can be used to find the resultant phase offset (which would also be twice the phase offset of the underlying baseband signal). Here again we assume (and see above in the IQ plot) a static phase offset, so we take the average of all angles and apply the opposite phase correction using the phasor:\n",
    "$$ Y = x * e^{-j \\theta} $$"
   ]
  },
  {
   "cell_type": "code",
   "execution_count": null,
   "id": "939e11c5-315b-4eb6-b956-67081a7ea3cf",
   "metadata": {},
   "outputs": [],
   "source": [
    "x2 = freq_corrected ** 2\n",
    "theta_avg = np.mean(np.angle(x2) / 2)\n",
    "phase_corrected = freq_corrected * np.exp(-1j * theta_avg)\n",
    "\n",
    "plot.IQ(phase_corrected, alpha = 0.1)\n",
    "plt.show()"
   ]
  },
  {
   "cell_type": "markdown",
   "id": "90f1dc93-5f07-4229-bcaa-88f6c566882f",
   "metadata": {},
   "source": [
    "Now there's no phase offset! As well, we can see in this IQ plot that the synthetically generated BPSK dataset has no timing offset, so we can go directly to decimating (downsampling) the data before taking hard-decisions to get output bits."
   ]
  },
  {
   "cell_type": "code",
   "execution_count": null,
   "id": "0d822957-d096-4c3b-b7fc-70b8809e21f2",
   "metadata": {},
   "outputs": [],
   "source": [
    "sps = 40 # Samples / symbol\n",
    "decimated = phase_corrected[::sps]\n",
    "plot.IQ(decimated, alpha = 0.4)\n",
    "plt.show()"
   ]
  },
  {
   "cell_type": "markdown",
   "id": "18d8ce82-0a15-462c-97e9-ec1962ebe900",
   "metadata": {},
   "source": [
    "For hard-decision bits in BPSK, we can simply take the sign of the real portion:"
   ]
  },
  {
   "cell_type": "code",
   "execution_count": null,
   "id": "f5d5f737-5c35-465d-8287-5d5cb031d9b4",
   "metadata": {},
   "outputs": [],
   "source": [
    "bits = []\n",
    "for sample in decimated:\n",
    "    bit = 0 if sample.real > 0 else 1\n",
    "    bits.append(bit)"
   ]
  },
  {
   "cell_type": "markdown",
   "id": "9f9b4798-3728-4876-a780-f7f49bcc3b26",
   "metadata": {},
   "source": [
    "Given the phase ambiguity of BPSK, we are given the first ASCII character is `A`- so if we don't match that immediately, invert bits (or rotate phase in real-time system) to see if matching."
   ]
  },
  {
   "cell_type": "code",
   "execution_count": null,
   "id": "0be2d5c1-b14f-4ca9-a737-24d640fff55f",
   "metadata": {},
   "outputs": [],
   "source": [
    "preamble = [0, 1, 0, 0, 0, 0, 0, 1]\n",
    "if bits[:8] == preamble:\n",
    "    print(\"Preamble found and matches expected, no inversion needed\")\n",
    "else:\n",
    "    for i in range(len(bits)):\n",
    "        bits[i] = 0 if bits[i] > 0 else 1\n",
    "    if bits[:8] == preamble:\n",
    "        print(\"Preamble found after inversion\")\n",
    "    else:\n",
    "        print(\"Preamble not found!\")\n",
    "\n",
    "print(bits[:8])"
   ]
  },
  {
   "cell_type": "code",
   "execution_count": null,
   "id": "fff563be-82cf-47f0-986d-2191b5c5f33a",
   "metadata": {},
   "outputs": [],
   "source": [
    "message = \"\"\n",
    "num_chars = 18\n",
    "for i in range(num_chars):\n",
    "    curr_bits = bits[i * 8 : (i+1) * 8]\n",
    "    byte_str = ''.join(map(str, curr_bits))\n",
    "    byte_val = int(byte_str, 2)\n",
    "    message += chr(byte_val)\n",
    "\n",
    "print(f\"Final demodulated and decoded message: {message}\")"
   ]
  }
 ],
 "metadata": {
  "language_info": {
   "name": "python"
  }
 },
 "nbformat": 4,
 "nbformat_minor": 5
}
