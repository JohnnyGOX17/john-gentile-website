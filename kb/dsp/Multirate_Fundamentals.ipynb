{
 "cells": [
  {
   "cell_type": "markdown",
   "id": "cee7ae67-e6dd-453e-b9b1-bbe9d271786b",
   "metadata": {},
   "source": [
    "# Multirate DSP\n",
    "\n",
    "Multirate signal processing is the study and implementation of concepts, algorithms, and architectures that embed sample rate changes at one or more places in the signal data flow. Multirate signal processing is a subset of Digital Signal Processing (DSP) as we primarily deal with sampled, discrete systems (rather than analog, continuous-time systems). The two main reasons to implement Multirate signal processing in a design are:\n",
    "1. Reducing the cost of design implementation\n",
    "2. Enhancing the performance of the implementation\n",
    "\n",
    "Some of the common tenets of Multirate DSP are:\n",
    "* A processing task should always be performed at the lowest rate commensurate with the signal bandwidth (the Nyquist rate of the signal of interest (SOI))\n",
    "* To achieve the above, Multirate DSP often deals with interchanging traditional DSP processing stages, and accepting intentional aliasing, by use of the _Noble Identity_ \n",
    "\n",
    "For example, a common DSP task is to reduce the bandwidth of a sampled signal to isolate a SOI (e.x. using a low-pass filter (LPF)), and then reduce the sample rate to match the SOI's bandwidth. However with the Noble Identity, we can reduce the sample rate first, and then perform the filtering at the lower sample rate (and often with a lower order filter compared to it processing at the higher sample rate). This intentional aliasing can be unwrapped by the subsequent Multirate processing. This powerful tool can even be used to intentionally alias a signal from one center frequency to another (e.g. from an Intermediate Frequency (IF) to baseband) while reducing sample rate."
   ]
  },
  {
   "cell_type": "code",
   "execution_count": null,
   "id": "7bda728d-6676-4a20-ae6b-9c195256e4ec",
   "metadata": {},
   "outputs": [],
   "source": [
    "import numpy as np\n",
    "import matplotlib.pyplot as plt\n",
    "\n",
    "from rfproto import multirate, plot, sig_gen"
   ]
  },
  {
   "attachments": {
    "d6e56041-6f14-4d17-81d0-da5a870d231a.png": {
     "image/png": "[encoded data removed]"
    }
   },
   "cell_type": "markdown",
   "id": "57a115b2-938e-4540-beeb-f88a776b6dbb",
   "metadata": {},
   "source": [
    "## Sample Rate Conversion\n",
    "\n",
    "### Downsampling\n",
    "\n",
    "Also known as _decimation_ (though technically the \"deci\" was a historical term to \"remove every tenth one\"), _downsampling_ is the process of reducing the sample rate of a system. To downsample by an integer factor $M$, we can simply keep every $M$th sample from an input stream, discarding the rest.\n",
    "\n",
    "$$ y[m] = x[n]|_{n=mM}\\quad \\text{for } n=0,1,2,\\cdots N;\\quad m=0,1,2,\\cdots \\frac{N}{M} $$\n",
    "\n",
    "![image.png](attachment:d6e56041-6f14-4d17-81d0-da5a870d231a.png)"
   ]
  },
  {
   "cell_type": "code",
   "execution_count": null,
   "id": "e60119df-b9f9-4bba-913d-7674f8bc0b81",
   "metadata": {},
   "outputs": [],
   "source": [
    "f_start = 20e3\n",
    "f_end = 25e3\n",
    "fs = 100e3\n",
    "num_samples = 16384\n",
    "\n",
    "lfm_chirp_sig = sig_gen.cmplx_dt_lfm_chirp(1, f_start, f_end, fs, num_samples)\n",
    "lfm_chirp_sig = lfm_chirp_sig.real + 1j*np.zeros(num_samples)\n",
    "plot.spec_an(lfm_chirp_sig, fs, fft_shift=True, show_SFDR=False)\n",
    "plt.show()"
   ]
  },
  {
   "cell_type": "code",
   "execution_count": null,
   "id": "fd72f527-0916-4620-b307-013a16a9528f",
   "metadata": {},
   "outputs": [],
   "source": [
    "M = 4\n",
    "y_ds = multirate.decimate(lfm_chirp_sig, M)\n",
    "plot.spec_an(y_ds, fs/M, fft_shift=True, show_SFDR=False)\n",
    "plt.show()"
   ]
  },
  {
   "attachments": {
    "75717cb2-cbc9-4f1b-b79c-fca454699e87.png": {
     "image/png": "[encoded data removed]"
    }
   },
   "cell_type": "markdown",
   "id": "a59c3d04-2e69-4703-853b-e41865b16ebd",
   "metadata": {},
   "source": [
    "### Upsampling\n",
    "\n",
    "_Upsampling_ is the opposite of downsampling and is the process of _increasing_ the sample rate of a system. To upsample by an integer factor $L$, we can insert $L-1$ zeros between every sample from an input stream.\n",
    "\n",
    "$$ y[n] = x[m]|_{m=n/L} $$\n",
    "\n",
    "![image.png](attachment:75717cb2-cbc9-4f1b-b79c-fca454699e87.png)"
   ]
  },
  {
   "cell_type": "code",
   "execution_count": null,
   "id": "711f6342-4139-46fb-87c8-be4f2bfd9614",
   "metadata": {},
   "outputs": [],
   "source": [
    "f_start = -5e3\n",
    "f_end = 5e3\n",
    "fs = 100e3\n",
    "num_samples = 16384\n",
    "\n",
    "lfm_chirp_sig = sig_gen.cmplx_dt_lfm_chirp(1, f_start, f_end, fs, num_samples)\n",
    "plot.spec_an(lfm_chirp_sig, fs, fft_shift=True, show_SFDR=False)\n",
    "plt.show()"
   ]
  },
  {
   "cell_type": "code",
   "execution_count": null,
   "id": "643461fa-e3e6-4048-8942-1c7d2733e036",
   "metadata": {},
   "outputs": [],
   "source": [
    "L = 4\n",
    "y_us = multirate.interpolate(lfm_chirp_sig, L)\n",
    "plot.spec_an(y_us, fs*L, fft_shift=True, show_SFDR=False)\n",
    "plt.show()"
   ]
  },
  {
   "cell_type": "code",
   "execution_count": null,
   "id": "21a85fbc-a8b8-4ee0-a31d-52b02095f7ce",
   "metadata": {},
   "outputs": [],
   "source": []
  }
 ],
 "metadata": {
  "language_info": {
   "name": "python"
  }
 },
 "nbformat": 4,
 "nbformat_minor": 5
}
