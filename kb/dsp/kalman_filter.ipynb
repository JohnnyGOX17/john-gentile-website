{
 "cells": [
  {
   "cell_type": "markdown",
   "id": "9acdf143-f5f6-4485-8e8a-288a20c21096",
   "metadata": {},
   "source": [
    "# Kalman Filtering (KF)"
   ]
  },
  {
   "cell_type": "markdown",
   "id": "8646ec53-889b-4328-a9ab-3cad3829bf71",
   "metadata": {},
   "source": [
    "## References\n",
    "\n",
    "* [Kalman filter - Wikipedia](https://en.wikipedia.org/wiki/Kalman_filter)\n",
    "* [kalman_intro.pdf](https://www.cs.unc.edu/~welch/media/pdf/kalman_intro.pdf)\n",
    "* [rlabbe/Kalman-and-Bayesian-Filters-in-Python: Kalman Filter book using Jupyter Notebook. Focuses on building intuition and experience, not formal proofs. Includes Kalman filters,extended Kalman filters, unscented Kalman filters, particle filters, and more. All exercises include solutions.](https://github.com/rlabbe/Kalman-and-Bayesian-Filters-in-Python)\n",
    "* [How a Kalman filter works, in pictures- Bzarg](https://www.bzarg.com/p/how-a-kalman-filter-works-in-pictures/)\n",
    "* [Kalman Filter Simulation](https://www.cs.utexas.edu/~teammco/misc/kalman_filter/)\n",
    "* [Derive yourself a Kalman filter - Arthur Carcano](https://ngr.yt/blog/kalman/)\n",
    "* [Kalman Filter Tutorial](https://www.kalmanfilter.net/default.aspx)\n",
    "* [Extended Kalman Filter Software Implementation - Sensor Fusion \\#4 - Phil&#39;s Lab \\#73 - YouTube](https://www.youtube.com/watch?v=7HVPjkWOrLE)\n",
    "* [Kalman Filtering - backprop to have better starting estimates](http://arl.cs.utah.edu/resources/Kalman%20Smoothing.pdf)\n",
    "* [How to Create Kalman Filter in Python](https://blog.quantinsti.com/kalman-filter/)\n",
    "* [The Easiest Tutorial on Kalman Filter - Wireless Pi](https://wirelesspi.com/the-easiest-tutorial-on-kalman-filter/)\n",
    "* [KFCore](https://github.com/jnz/KFCore): A lightweight, high-performance Kalman Filter library in C, C++, and MATLAB, offering superior numerical stability and efficiency with minimal dependencies."
   ]
  }
 ],
 "metadata": {
  "language_info": {
   "name": "python"
  }
 },
 "nbformat": 4,
 "nbformat_minor": 5
}
