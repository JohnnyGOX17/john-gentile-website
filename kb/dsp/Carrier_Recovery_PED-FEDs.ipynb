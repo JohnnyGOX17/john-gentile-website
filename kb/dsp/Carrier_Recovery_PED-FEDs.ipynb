{
 "cells": [
  {
   "cell_type": "markdown",
   "id": "059c7451-79d2-42e8-8948-ba05744928e3",
   "metadata": {
    "editable": true,
    "slideshow": {
     "slide_type": ""
    },
    "tags": []
   },
   "source": [
    "# Carrier Recovery & PED/FEDs"
   ]
  },
  {
   "cell_type": "markdown",
   "id": "9e52a288-a87d-4378-a9e5-94ecb015b49a",
   "metadata": {},
   "source": [
    "## Frequency Error Detector (FED)"
   ]
  },
  {
   "cell_type": "code",
   "execution_count": null,
   "id": "441d5d8e-9eae-4f04-a86c-955801bf6459",
   "metadata": {},
   "outputs": [],
   "source": [
    "import numpy as np\n",
    "import matplotlib.pyplot as plt\n",
    "from scipy import signal\n",
    "\n",
    "from rfproto import filter, impairments, measurements, multirate, nco, pi_filter, plot, sig_gen"
   ]
  },
  {
   "cell_type": "code",
   "execution_count": null,
   "id": "866c6b4e-df9f-42aa-b5cb-9912cc90c676",
   "metadata": {},
   "outputs": [],
   "source": [
    "fs = 100.0e3\n",
    "f_start = -fs/2\n",
    "f_end = fs/2\n",
    "num_samples = int(fs) # 1 second\n",
    "\n",
    "lfm_chirp_sig = sig_gen.cmplx_dt_lfm_chirp(100, f_start, f_end, fs, num_samples)\n",
    "mid_pt = int(len(lfm_chirp_sig)/2)\n",
    "margin = 1000\n",
    "plot.samples(np.real(lfm_chirp_sig[mid_pt - margin:mid_pt + margin]))\n",
    "plt.show()\n",
    "\n",
    "f, t, Zxx = signal.stft(np.real(lfm_chirp_sig), fs, nperseg=100)\n",
    "plt.pcolormesh(t, f, np.abs(Zxx), vmin=0, vmax=2, shading='gouraud')\n",
    "plt.title('STFT Magnitude')\n",
    "plt.ylabel('Frequency [Hz]')\n",
    "plt.xlabel('Time [sec]')\n",
    "plt.show()"
   ]
  },
  {
   "cell_type": "code",
   "execution_count": null,
   "id": "51231a0a-19e7-4d4d-933b-432cbf0f1328",
   "metadata": {},
   "outputs": [],
   "source": [
    "class Dfd:\n",
    "    def __init__(self):\n",
    "       self.z1 = 0 + 1j*0\n",
    "\n",
    "    def Step(self, x):\n",
    "        retval = (self.z1.imag * x.real) - (self.z1.real * x.imag)\n",
    "        self.z1 = x\n",
    "        return retval"
   ]
  },
  {
   "cell_type": "code",
   "execution_count": null,
   "id": "97d012e4-3d75-428d-bb85-b69d4db61009",
   "metadata": {},
   "outputs": [],
   "source": [
    "freq_disc = np.zeros(len(lfm_chirp_sig))\n",
    "test_dfd = Dfd()\n",
    "\n",
    "for i in range(len(lfm_chirp_sig)):\n",
    "    freq_disc[i] = test_dfd.Step(lfm_chirp_sig[i])\n",
    "\n",
    "plt.plot(freq_disc)\n",
    "plt.show()"
   ]
  },
  {
   "cell_type": "markdown",
   "id": "25efa817-d4cd-4b8c-8759-c1a78733b1f3",
   "metadata": {},
   "source": [
    "Blind, Non-Data Aided (NDA) FLL can be made by RRC/match filtering, Mth power to fold phase into sinusoid which has frequency offset at $M$ times the CFO, LPF'ing then using L&R type autocorrelation FED (see above) loop filtered to drive frequency error to zero."
   ]
  },
  {
   "cell_type": "markdown",
   "id": "e92c13dd-1c9d-423e-b3fc-906eb30e3b8c",
   "metadata": {},
   "source": [
    "### References\n",
    "\n",
    "* [MATLAB comm.CoarseFrequencyCompensator - Algorithms](https://www.mathworks.com/help/comm/ref/comm.coarsefrequencycompensator-system-object.html#buu65t5-1_sep_buu7878)"
   ]
  },
  {
   "cell_type": "markdown",
   "id": "a7b834f3-4e1b-4e02-b1d0-1a3aeb42cbe9",
   "metadata": {},
   "source": [
    "## Phase Error Detector (PED)"
   ]
  },
  {
   "cell_type": "markdown",
   "id": "6a787eb0-b00a-4e01-9f04-e21bace70f89",
   "metadata": {},
   "source": [
    "## Combined Carrier Recovery\n",
    "\n",
    "When frequency offset is not significant (e.x. majority of signal bandwidth is still within passband of matched filter, and/or when Coarse Frequency Correction (CFC) has already been applied upstream), frequency and phase errors can be jointly compensated in a _carrier recovery_ scheme.\n",
    "\n"
   ]
  },
  {
   "cell_type": "code",
   "execution_count": null,
   "id": "96a2868a-be29-4e6e-aceb-a005552bae78",
   "metadata": {},
   "outputs": [],
   "source": [
    "symbol_rate = 5e6\n",
    "OSR = 10\n",
    "output_fs = OSR * symbol_rate\n",
    "rrc_alpha = 0.25\n",
    "num_symbols = 4096\n",
    "in_symbols = np.random.randint(0, 4, num_symbols).tolist()\n",
    "output_iq = sig_gen.gen_mod_signal(\n",
    "    \"QPSK\",\n",
    "    in_symbols,\n",
    "    output_fs,\n",
    "    symbol_rate,\n",
    "    \"RRC\",\n",
    "    rrc_alpha,\n",
    ")\n",
    "\n",
    "output_iq = impairments.freq_offset_static(output_iq, 1e3, output_fs)\n",
    "\n",
    "plot.IQ(output_iq, alpha=0.1)\n",
    "plot.plt.show()"
   ]
  },
  {
   "cell_type": "code",
   "execution_count": null,
   "id": "ad96b1c6-1307-49c2-9530-3ed74e1e1830",
   "metadata": {},
   "outputs": [],
   "source": [
    "plot.spec_an(output_iq, fs=output_fs, fft_shift=True, show_SFDR=False, y_unit=\"dB\")\n",
    "plt.show()"
   ]
  },
  {
   "cell_type": "code",
   "execution_count": null,
   "id": "81a55af0-1120-4f0c-91ab-795d48f8be2a",
   "metadata": {},
   "outputs": [],
   "source": [
    "M = OSR // 2 # Decimation factor to get to 2x Samples/Symbol (SPS)\n",
    "rx_rrc = filter.RootRaisedCosine(output_fs, symbol_rate, rrc_alpha, M * 5)\n",
    "rx_shaped = signal.lfilter(rx_rrc, 1, output_iq)\n",
    "\n",
    "downsampled=multirate.decimate(rx_shaped, M)\n",
    "\n",
    "# Scale and quantize output similar to 16b input\n",
    "max_val = max(max(abs(downsampled.real)), max(abs(downsampled.imag)))\n",
    "scale_val = ((2**15) - 1) / max_val\n",
    "downsampled *= scale_val\n",
    "downsampled = np.round(downsampled)\n",
    "\n",
    "plot.spec_an(downsampled, fs=output_fs/M, fft_shift=True, show_SFDR=False, y_unit=\"dB\")\n",
    "plt.show()\n",
    "\n",
    "plot.IQ(downsampled[::2], alpha=0.1)\n",
    "plt.show()"
   ]
  },
  {
   "cell_type": "code",
   "execution_count": null,
   "id": "1d6cb3f4-273e-465b-8a10-3f89334ec3ef",
   "metadata": {},
   "outputs": [],
   "source": [
    "last_samp = 0 + 1j*0\n",
    "\n",
    "def mpsk_costa(x):\n",
    "    global last_samp\n",
    "    retval = np.angle(x * np.conj(last_samp))\n",
    "    last_samp = x\n",
    "    return 32768 * retval / np.pi\n",
    "    #return (np.sign(x.real) * x.imag) - (np.sign(x.imag) * x.real)"
   ]
  },
  {
   "cell_type": "code",
   "execution_count": null,
   "id": "ba7df284-a627-42ad-b49d-9033dfdc3a68",
   "metadata": {},
   "outputs": [],
   "source": [
    "cr_nco = nco.Nco(32, 16, 10, output_fs/M)\n",
    "#cr_nco.SetOutputFreq(-1e3)\n",
    "cr_filt = pi_filter.PiFilter(0.01, 1.0, 32768)\n",
    "cr_dfd = Dfd()\n",
    "\n",
    "N_out = len(downsampled)\n",
    "nco_out = np.zeros(N_out) + 1j*np.zeros(N_out)\n",
    "ped_out = np.zeros(N_out)\n",
    "pi_filt_out = np.zeros(N_out)\n",
    "for i in range(N_out):\n",
    "    nco_out[i] = (downsampled[i] * cr_nco.GetCurrentNcoOutput()) / 32768\n",
    "    ped_out[i] = mpsk_costa(nco_out[i])\n",
    "    #ped_out[i] = cr_dfd.Step(nco_out[i])\n",
    "    pi_filt_out[i] = cr_filt.Step(ped_out[i])\n",
    "    cr_nco.IncPhaseAcc(pi_filt_out[i])\n",
    "\n",
    "plt.plot(ped_out, '.', alpha=0.1)\n",
    "plt.show()\n",
    "\n",
    "plt.plot(pi_filt_out, '.', alpha=0.1)\n",
    "plt.show()\n",
    "\n",
    "plt.plot(nco.FcwToFreq(pi_filt_out, 32, output_fs/M), '.', alpha=0.1)\n",
    "plt.show()\n",
    "\n",
    "plot.IQ(nco_out[::2], alpha=0.1)\n",
    "plt.show()"
   ]
  },
  {
   "cell_type": "markdown",
   "id": "3efdc7e3-aece-4fbb-98cd-457becefa00f",
   "metadata": {},
   "source": [
    "## References\n",
    "\n",
    "* [High modulation index PSK - carrier recovery - DSP Stack Exchange](https://dsp.stackexchange.com/questions/17297/high-modulation-index-psk-carrier-recovery)\n",
    "  + [How does this FLL work? - DSP Stack Exchange](https://dsp.stackexchange.com/questions/42239/how-does-this-fll-work/52163#52163)\n",
    "* [Mathworks Carrier Synchronizer System Object](https://www.mathworks.com/help/comm/ref/comm.carriersynchronizer-system-object.html)"
   ]
  }
 ],
 "metadata": {
  "language_info": {
   "name": "python"
  }
 },
 "nbformat": 4,
 "nbformat_minor": 5
}
