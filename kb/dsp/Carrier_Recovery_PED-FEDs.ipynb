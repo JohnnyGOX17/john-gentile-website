{
 "cells": [
  {
   "cell_type": "markdown",
   "id": "059c7451-79d2-42e8-8948-ba05744928e3",
   "metadata": {
    "editable": true,
    "slideshow": {
     "slide_type": ""
    },
    "tags": []
   },
   "source": [
    "# Carrier Recovery & PED/FEDs"
   ]
  },
  {
   "cell_type": "markdown",
   "id": "9e52a288-a87d-4378-a9e5-94ecb015b49a",
   "metadata": {},
   "source": [
    "## Frequency Error Detector (FED)"
   ]
  },
  {
   "cell_type": "code",
   "execution_count": null,
   "id": "441d5d8e-9eae-4f04-a86c-955801bf6459",
   "metadata": {},
   "outputs": [],
   "source": [
    "import numpy as np\n",
    "import matplotlib.pyplot as plt\n",
    "from scipy import signal\n",
    "\n",
    "from rfproto import measurements, multirate, plot, sig_gen"
   ]
  },
  {
   "cell_type": "code",
   "execution_count": null,
   "id": "866c6b4e-df9f-42aa-b5cb-9912cc90c676",
   "metadata": {},
   "outputs": [],
   "source": [
    "fs = 100.0e3\n",
    "f_start = -fs/2\n",
    "f_end = fs/2\n",
    "num_samples = int(fs) # 1 second\n",
    "\n",
    "lfm_chirp_sig = sig_gen.cmplx_dt_lfm_chirp(100, f_start, f_end, fs, num_samples)\n",
    "mid_pt = int(len(lfm_chirp_sig)/2)\n",
    "margin = 1000\n",
    "plot.samples(np.real(lfm_chirp_sig[mid_pt - margin:mid_pt + margin]))\n",
    "plt.show()\n",
    "\n",
    "f, t, Zxx = signal.stft(np.real(lfm_chirp_sig), fs, nperseg=100)\n",
    "plt.pcolormesh(t, f, np.abs(Zxx), vmin=0, vmax=2, shading='gouraud')\n",
    "plt.title('STFT Magnitude')\n",
    "plt.ylabel('Frequency [Hz]')\n",
    "plt.xlabel('Time [sec]')\n",
    "plt.show()"
   ]
  },
  {
   "cell_type": "code",
   "execution_count": null,
   "id": "97d012e4-3d75-428d-bb85-b69d4db61009",
   "metadata": {},
   "outputs": [],
   "source": [
    "i_z1 = 0\n",
    "q_z1 = 0\n",
    "freq_disc = np.zeros(len(lfm_chirp_sig))\n",
    "\n",
    "for i in range(len(lfm_chirp_sig)):\n",
    "    i_val = np.real(lfm_chirp_sig[i])\n",
    "    q_val = np.imag(lfm_chirp_sig[i])\n",
    "    a0 = i_z1 * q_val\n",
    "    a1 = q_z1 * i_val\n",
    "    freq_disc[i] = a1 - a0\n",
    "    i_z1 = i_val\n",
    "    q_z1 = q_val\n",
    "\n",
    "plt.plot(freq_disc)\n",
    "plt.show()"
   ]
  },
  {
   "cell_type": "markdown",
   "id": "25efa817-d4cd-4b8c-8759-c1a78733b1f3",
   "metadata": {},
   "source": [
    "Blind, Non-Data Aided (NDA) FLL can be made by RRC/match filtering, Mth power to fold phase into sinusoid which has frequency offset at $M$ times the CFO, LPF'ing then using L&R type autocorrelation FED (see above) loop filtered to drive frequency error to zero."
   ]
  },
  {
   "cell_type": "markdown",
   "id": "a7b834f3-4e1b-4e02-b1d0-1a3aeb42cbe9",
   "metadata": {},
   "source": [
    "## Phase Error Detector (PED)"
   ]
  },
  {
   "cell_type": "markdown",
   "id": "6a787eb0-b00a-4e01-9f04-e21bace70f89",
   "metadata": {},
   "source": [
    "## Combined Carrier Recovery\n",
    "\n",
    "When frequency offset is not significant (e.x. majority of signal bandwidth is still within passband of matched filter, and/or when Coarse Frequency Correction (CFC) has already been applied upstream), frequency and phase errors can be jointly compensated in a _carrier recovery_ scheme.\n",
    "\n"
   ]
  },
  {
   "cell_type": "code",
   "execution_count": null,
   "id": "96a2868a-be29-4e6e-aceb-a005552bae78",
   "metadata": {},
   "outputs": [],
   "source": [
    "symbol_rate = 5e6\n",
    "output_fs = 8.0 * symbol_rate\n",
    "in_symbols = np.random.randint(0, 4, 2400).tolist()\n",
    "output_iq = sig_gen.gen_mod_signal(\n",
    "    \"QPSK\",\n",
    "    in_symbols,\n",
    "    output_fs,\n",
    "    symbol_rate,\n",
    "    \"RRC\",\n",
    "    0.25,\n",
    ")\n",
    "\n",
    "plot.IQ(output_iq, alpha=0.1)\n",
    "plot.plt.show()"
   ]
  },
  {
   "cell_type": "code",
   "execution_count": null,
   "id": "ad96b1c6-1307-49c2-9530-3ed74e1e1830",
   "metadata": {},
   "outputs": [],
   "source": [
    "plot.spec_an(output_iq, fs=output_fs, fft_shift=True, show_SFDR=False, y_unit=\"dB\")\n",
    "plt.show()"
   ]
  },
  {
   "cell_type": "code",
   "execution_count": null,
   "id": "81a55af0-1120-4f0c-91ab-795d48f8be2a",
   "metadata": {},
   "outputs": [],
   "source": [
    "downsampled=multirate.decimate(output_iq[1:], 4)\n",
    "plot.spec_an(downsampled, fs=output_fs/4, fft_shift=True, show_SFDR=False, y_unit=\"dB\")\n",
    "plt.show()\n",
    "\n",
    "plot.IQ(downsampled, alpha=0.1)\n",
    "plt.show()"
   ]
  },
  {
   "cell_type": "markdown",
   "id": "3efdc7e3-aece-4fbb-98cd-457becefa00f",
   "metadata": {},
   "source": [
    "## References\n",
    "\n",
    "* [High modulation index PSK - carrier recovery - DSP Stack Exchange](https://dsp.stackexchange.com/questions/17297/high-modulation-index-psk-carrier-recovery)\n",
    "  + [How does this FLL work? - DSP Stack Exchange](https://dsp.stackexchange.com/questions/42239/how-does-this-fll-work/52163#52163)\n",
    "* [Mathworks Carrier Synchronizer System Object](https://www.mathworks.com/help/comm/ref/comm.carriersynchronizer-system-object.html)"
   ]
  }
 ],
 "metadata": {
  "language_info": {
   "name": "python"
  }
 },
 "nbformat": 4,
 "nbformat_minor": 5
}
