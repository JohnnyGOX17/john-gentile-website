{
 "cells": [
  {
   "cell_type": "markdown",
   "id": "7bbcbb8f-45e5-43ad-a71b-675a807e5b1c",
   "metadata": {},
   "source": [
    "# Digital Up & Down Conversion"
   ]
  },
  {
   "cell_type": "code",
   "execution_count": null,
   "id": "e6f71cc4-f8d3-4304-95da-4f51822d33fe",
   "metadata": {},
   "outputs": [],
   "source": [
    "import numpy as np\n",
    "import matplotlib.pyplot as plt\n",
    "\n",
    "from rfproto import measurements, nco, plot, sig_gen"
   ]
  },
  {
   "cell_type": "code",
   "execution_count": null,
   "id": "ce15a864-9598-4e12-bc12-efa4cf174287",
   "metadata": {},
   "outputs": [],
   "source": [
    "f  = 440.5 # desired output frequency\n",
    "n  = 48000 # number of output points to compute\n",
    "fs = 48000 # sampling frequency\n",
    "N  = 32    # phase accumulator length (num bits)\n",
    "P  = 9     # LUT table address length (total depth = 2^P)\n",
    "M  = 16    # quantized word length (num bits)\n",
    "\n",
    "test_NCO = nco.Nco(N, M, P, fs)\n",
    "\n",
    "y = np.zeros(n) + 1j*np.zeros(n)\n",
    "test_NCO.SetOutputFreq(f)\n",
    "for i in range (n):\n",
    "    # just take imag part (starts at 0) for this\n",
    "    y[i] = test_NCO.Step()\n",
    "\n",
    "plot.spec_an(y, fs, \"DDS Output Spectrum\", scale_noise=True, norm=True)\n",
    "plt.show()"
   ]
  },
  {
   "cell_type": "code",
   "execution_count": null,
   "id": "49e43324-0a42-41a9-8c7d-931bcf917941",
   "metadata": {},
   "outputs": [],
   "source": [
    "input_sig = sig_gen.cmplx_dt_sinusoid(2**15, 10000, fs, n)\n",
    "plot.spec_an(input_sig, fs, \"Input Signal Spectrum\", scale_noise=False, norm=True)\n",
    "plt.show()"
   ]
  },
  {
   "cell_type": "markdown",
   "id": "caaf5d4f-c6fa-4ad6-b97a-9d93e1e3d4bc",
   "metadata": {},
   "source": [
    "Complex NCO- which acts as discrete-time form of analog heterodyne system's Local Oscillator (LO)- allows us to mix an input signal up or down in frequency, without worrying about images that would occur with a real-valued NCO (e.g. real valued NCO has frequencies at both $\\pm f$). The process can be seen as:\n",
    "$$ A_{NCO}e^{j\\omega_{NCO}t} * A_{sig}e^{j\\omega{sig}t} = A_{NCO}A_{sig}e^{jt(\\omega{sig}+\\omega_{NCO})} $$\n",
    "It can be seen that mixing adds frequencies, causing an associated shift upwards in total signal output frequency of $f_{NCO} + f_{sig}$."
   ]
  },
  {
   "cell_type": "code",
   "execution_count": null,
   "id": "0819b20f-1a6a-4edc-8c42-3d6068bef0fb",
   "metadata": {},
   "outputs": [],
   "source": [
    "mixed = np.zeros(n) + 1j*np.zeros(n)\n",
    "\n",
    "for i in range(n):\n",
    "    # NOTE: conj(NCO output) moves mixed signal down, while input * y moves signal up\n",
    "    mixed[i] = input_sig[i] * y[i]\n",
    "\n",
    "# NOTE: since both input signal and NCO are complex, there are no images created in mixing\n",
    "plot.spec_an(mixed, fs, \"Mixed Signal Spectrum\", scale_noise=False, norm=True)\n",
    "plt.show()"
   ]
  },
  {
   "cell_type": "markdown",
   "id": "771c4d39-7a0a-4f37-b144-b70944bf70b0",
   "metadata": {},
   "source": [
    "To shift the output frequency down, we can simply take the complex conjugate of the NCO output (e.g. $z=e^{j\\omega t}\\rightarrow \\overline{z}=e^{-j\\omega t}$ ) to create a \"negative\" frequency, since:\n",
    "$$ \\overline{A_{NCO}e^{j\\omega_{NCO}t}} * A_{sig}e^{j\\omega{sig}t} = A_{NCO}A_{sig}e^{jt(\\omega{sig}-\\omega_{NCO})} $$\n",
    "This mixing subtracts frequencies, causing an associated shift downwards in total signal output frequency of $f_{sig} - f_{NCO}$."
   ]
  },
  {
   "cell_type": "code",
   "execution_count": null,
   "id": "8dd059e9-c14b-42ce-a48c-c8ebe6d786b3",
   "metadata": {},
   "outputs": [],
   "source": [
    "mixed = np.zeros(n) + 1j*np.zeros(n)\n",
    "\n",
    "for i in range(n):\n",
    "    mixed[i] = input_sig[i] * np.conj(y[i])\n",
    "\n",
    "plot.spec_an(mixed, fs, \"Mixed Signal Spectrum\", scale_noise=False, norm=True)\n",
    "plt.show()"
   ]
  },
  {
   "cell_type": "markdown",
   "id": "b6a9cf66-395f-47e4-976b-993dac202db6",
   "metadata": {},
   "source": [
    "## $f_{s}/4$ Simplification\n",
    "\n",
    "`#TODO:` when mixer equals $f_{s}/2$ or $f_{s}/4$, can just use alternating `+/-1` (for $f_{s}/2$) or `+1,0,-1,0` (for $f_{s}/4$) very cheaply! Can also be used in lieu of `fftshift()` type applications.\n",
    "\n",
    "* [DSP Trick: Complex Downconverters for Signals at Fs/4 or 3Fs/4 - DSP Guru](http://dspguru.com/dsp/tricks/complex-downconverters-at-fs-over-4/)"
   ]
  },
  {
   "cell_type": "markdown",
   "id": "01016f5e-70f4-40b3-aada-c9b33a1b92af",
   "metadata": {},
   "source": [
    "## Transmit Simplification\n",
    "\n",
    "Since Digital-to-Analog Converters (DACs) operate on real digital data (real input to real analog output)- except in [direct conversion (zero IF)](https://wirelesspi.com/direct-conversion-zero-if-receiver/) front ends- we only need the real output of a digital upconverter (DUC), either $I$ or $Q$. In this case, we can simplify the digital mixer (the complex multiplier used to combine the NCO output and transmit I/Q stream) to not have to compute the full complex product (requiring 4x multiplies), but rather just the $I$ term (2x multiplies) as:\n",
    "$$Y_{DUC} = (I_{NCO} + jQ_{NCO})(I_{TX} + jQ_{TX})$$\n",
    "$$Y_{DUC} = \\underline{(I_{NCO}I_{TX} - Q_{NCO}Q_{TX})} + \\cancel{j(I_{NCO}Q_{TX} + I_{TX}Q_{NCO})}$$"
   ]
  },
  {
   "cell_type": "markdown",
   "id": "2fadc243-4be0-4249-b17b-e8866ab3c9ed",
   "metadata": {},
   "source": [
    "## References\n",
    "\n",
    "* [DUC/DDC Compiler - AMD/Xilinx](https://docs.xilinx.com/v/u/en-US/pg147-duc-ddc-compiler)\n",
    "* [Designing DDC systems using CIC and FIR Filters - Intel/Altera](https://www.intel.com/content/www/us/en/support/programmable/support-resources/design-examples/horizontal/exm-digital-down-conv-cic-fir.html)\n",
    "* [DUC/DDC MATLAB](https://www.mathworks.com/help/dsp/ug/digital-up-and-down-conversion-for-family-radio-service.html)\n",
    "* [Designing Efficient Digital Up and Down Converters for Narrowband Systems - Xilinx](https://docs.xilinx.com/v/u/en-US/xapp1113)\n",
    "* [What's Up with Digital Downconverters Part I - ADI](https://www.analog.com/en/analog-dialogue/articles/whats-up-with-digital-downconverters-part-1.html)\n",
    "* [What's Up with Digital Downconverters Part II - ADI](https://www.analog.com/en/analog-dialogue/articles/whats-up-with-digital-downconverters-part-2.html)\n",
    "* [Complex RF Mixers, Zero-IF Architecture, and Advanced Algorithms: The Black Magic in Next-Generation SDR Transceivers - ADI](https://www.analog.com/en/analog-dialogue/articles/complex-mixers-zif-architecture-advanced-algorithms-black-magic-next-generation-sdr-transceivers.html)"
   ]
  }
 ],
 "metadata": {
  "language_info": {
   "name": "python"
  }
 },
 "nbformat": 4,
 "nbformat_minor": 5
}
