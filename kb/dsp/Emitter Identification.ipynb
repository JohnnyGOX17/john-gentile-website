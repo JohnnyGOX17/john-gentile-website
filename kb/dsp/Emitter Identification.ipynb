{
 "cells": [
  {
   "cell_type": "markdown",
   "id": "da27388f-ae72-479c-a6a6-d6b4d8549b57",
   "metadata": {},
   "source": [
    "# Emitter Identification"
   ]
  },
  {
   "cell_type": "code",
   "execution_count": null,
   "id": "e552cd03-ab60-4c94-99e1-8018b394821f",
   "metadata": {},
   "outputs": [],
   "source": [
    "import numpy as np\n",
    "import plotly.graph_objects as go\n",
    "import plotly.io as pio\n",
    "pio.renderers.default = \"png\" # \"notebook_connected\" "
   ]
  },
  {
   "cell_type": "code",
   "execution_count": null,
   "id": "b9bb3b82-bfb7-423c-b237-f771070a6e7f",
   "metadata": {},
   "outputs": [],
   "source": [
    "def ellipse(x_center=0, y_center=0, angle=0.0, a=1, b=1, N=100):\n",
    "    angle = np.deg2rad(angle)\n",
    "    ax1 = [np.cos(angle), np.sin(angle)]\n",
    "    ax2 = [-np.sin(angle), np.cos(angle)]\n",
    "    t = np.linspace(0, 2*np.pi, N)\n",
    "    xs = a * np.cos(t)\n",
    "    ys = b * np.sin(t)\n",
    "    R = np.array([ax1, ax2]).T\n",
    "    xp, yp = np.dot(R, [xs, ys])\n",
    "    x = xp + x_center\n",
    "    y = yp + y_center\n",
    "    return x, y"
   ]
  },
  {
   "cell_type": "code",
   "execution_count": null,
   "id": "2c173813-7340-458d-8616-86cc19d5239e",
   "metadata": {},
   "outputs": [],
   "source": [
    "fig = go.Figure(go.Scattermap(mode=\"markers\"))\n",
    "fig.update_layout(\n",
    "    margin={'r':0,'t':0,'l':0,'b':0},\n",
    "    map = {\n",
    "        #'style': \"carto-darkmatter\",\n",
    "        'style': \"dark\",\n",
    "        'center': {'lon': -79, 'lat': 36 },\n",
    "        'zoom': 6.5\n",
    "    },\n",
    ")\n",
    "\n",
    "x_center = -80  # Example longitude\n",
    "y_center = 36    # Example latitude\n",
    "a = 1            # Semi-major axis (in degrees of lat/lon, approximate)\n",
    "b = 0.3            # Semi-minor axis (in degrees of lat/lon, approximate)\n",
    "angle = 30      # Rotation angle\n",
    "\n",
    "x, y = ellipse(x_center, y_center, angle, a, b)\n",
    "\n",
    "fig.add_trace(go.Scattermap(\n",
    "    mode=\"lines\",\n",
    "    lon=x,\n",
    "    lat=y,\n",
    "    marker={'size': 10},\n",
    "    line={'color': 'red'}\n",
    "))\n",
    "\n",
    "fig.show()"
   ]
  },
  {
   "cell_type": "code",
   "execution_count": null,
   "id": "2b6907a6-a4ec-451b-b5de-4c1eb5503cc2",
   "metadata": {},
   "outputs": [],
   "source": []
  }
 ],
 "metadata": {
  "language_info": {
   "name": "python"
  }
 },
 "nbformat": 4,
 "nbformat_minor": 5
}
