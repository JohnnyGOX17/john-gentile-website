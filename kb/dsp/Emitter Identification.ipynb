{
 "cells": [
  {
   "cell_type": "markdown",
   "id": "da27388f-ae72-479c-a6a6-d6b4d8549b57",
   "metadata": {},
   "source": [
    "# Emitter Identification"
   ]
  },
  {
   "cell_type": "code",
   "execution_count": null,
   "id": "e552cd03-ab60-4c94-99e1-8018b394821f",
   "metadata": {},
   "outputs": [],
   "source": [
    "import numpy as np\n",
    "import matplotlib.pyplot as plt\n",
    "\n",
    "import plotly.graph_objects as go\n",
    "import plotly.io as pio\n",
    "pio.renderers.default = \"png\" # \"notebook_connected\" "
   ]
  },
  {
   "cell_type": "markdown",
   "id": "9bba6257-ce1f-45fc-8e6e-83e0f0ecaac4",
   "metadata": {},
   "source": [
    "## Time Difference of Arrival (TDOA)\n",
    "\n",
    "* [Object Tracking Using Time Difference of Arrival (TDOA) - Mathworks](https://www.mathworks.com/help/fusion/ug/object-tracking-using-time-difference-of-arrival.html)"
   ]
  },
  {
   "cell_type": "code",
   "execution_count": null,
   "id": "237e331e-652b-40b0-9f00-e77a75742213",
   "metadata": {},
   "outputs": [],
   "source": [
    "# Define parameters\n",
    "c = 1.0  # Speed of signal (arbitrary units for simulation)\n",
    "#R = np.array([[0, -1], [12, 0], [0, 11], [14, 13]])  # Receiver positions in 2D\n",
    "R = np.array([[0, -1], [12, 0], [14, 13]])  # Receiver positions in 2D\n",
    "S_true = np.array([5, 5])  # True source position\n",
    "sigma = 0.5  # Noise standard deviation for time differences\n",
    "\n",
    "# Simulate true time differences with noise\n",
    "distances = np.linalg.norm(R - S_true, axis=1)  # Euclidean distances to source\n",
    "t = distances / c  # True time of arrivals\n",
    "delta_t_true = t[1:] - t[0]  # Time differences relative to first receiver\n",
    "delta_t_measured = delta_t_true + np.random.normal(0, sigma, size=delta_t_true.shape)\n",
    "\n",
    "# Create a grid for source position candidates\n",
    "x = np.arange(-5, 15, 0.1)  # X range\n",
    "y = np.arange(-5, 15, 0.1)  # Y range\n",
    "X, Y = np.meshgrid(x, y)  # 2D grid\n",
    "\n",
    "# Compute cost function over the grid\n",
    "R0 = R[0]  # Reference receiver\n",
    "d0 = np.sqrt((X - R0[0])**2 + (Y - R0[1])**2)  # Distance to reference receiver\n",
    "cost = np.zeros_like(X)  # Initialize cost array\n",
    "for i in range(1, len(R)):\n",
    "    Ri = R[i]\n",
    "    di = np.sqrt((X - Ri[0])**2 + (Y - Ri[1])**2)  # Distance to receiver i\n",
    "    delta_t_pred = (di - d0) / c  # Predicted time difference\n",
    "    e = delta_t_measured[i-1] - delta_t_pred  # Error\n",
    "    cost += e**2  # Sum of squared errors\n",
    "\n",
    "# Estimate source position\n",
    "min_idx = np.unravel_index(np.argmin(cost), cost.shape)  # Index of minimum cost\n",
    "S_est = [X[min_idx], Y[min_idx]]  # Estimated source position\n",
    "\n",
    "# Plot the localization heatmap with receivers and bearing lines\n",
    "plt.figure(figsize=(8, 6))\n",
    "plt.pcolormesh(X, Y, np.log(cost + 1), cmap='hot')  # Log scale for better visualization\n",
    "plt.colorbar(label='Log(Cost + 1)')\n",
    "plt.scatter(S_true[0], S_true[1], c='blue', label='True Source', edgecolors='k')\n",
    "plt.scatter(S_est[0], S_est[1], c='red', label='Estimated Source', edgecolors='k')\n",
    "plt.scatter(R[:, 0], R[:, 1], c='green', label='Receivers', edgecolors='k', s=100)\n",
    "for i, receiver in enumerate(R):\n",
    "    plt.plot([receiver[0], S_est[0]], [receiver[1], S_est[1]], 'b--', \n",
    "             label='Bearing Lines' if i == 0 else None)  # Label only first line\n",
    "plt.legend()\n",
    "plt.xlabel('X')\n",
    "plt.ylabel('Y')\n",
    "plt.title('TDOA Localization Heatmap with Receivers and Bearing Lines')\n",
    "plt.axis('equal')\n",
    "plt.show()"
   ]
  },
  {
   "cell_type": "markdown",
   "id": "4c734275-d6ae-48a9-9ee8-bd6338e456c3",
   "metadata": {},
   "source": [
    "## Geolocation"
   ]
  },
  {
   "cell_type": "code",
   "execution_count": null,
   "id": "b9bb3b82-bfb7-423c-b237-f771070a6e7f",
   "metadata": {},
   "outputs": [],
   "source": [
    "def ellipse(x_center=0, y_center=0, angle=0.0, a=1, b=1, N=100):\n",
    "    angle = np.deg2rad(angle)\n",
    "    ax1 = [np.cos(angle), np.sin(angle)]\n",
    "    ax2 = [-np.sin(angle), np.cos(angle)]\n",
    "    t = np.linspace(0, 2*np.pi, N)\n",
    "    xs = a * np.cos(t)\n",
    "    ys = b * np.sin(t)\n",
    "    R = np.array([ax1, ax2]).T\n",
    "    xp, yp = np.dot(R, [xs, ys])\n",
    "    x = xp + x_center\n",
    "    y = yp + y_center\n",
    "    return x, y"
   ]
  },
  {
   "cell_type": "code",
   "execution_count": null,
   "id": "2c173813-7340-458d-8616-86cc19d5239e",
   "metadata": {},
   "outputs": [],
   "source": [
    "fig = go.Figure(go.Scattermap(mode=\"markers\"))\n",
    "fig.update_layout(\n",
    "    margin={'r':0,'t':0,'l':0,'b':0},\n",
    "    map = {\n",
    "        'style': \"dark\",\n",
    "        'center': {'lon': -79, 'lat': 36 },\n",
    "        'zoom': 6.5\n",
    "    },\n",
    ")\n",
    "\n",
    "x_center = -80  # Example longitude\n",
    "y_center = 36    # Example latitude\n",
    "a = 1            # Semi-major axis (in degrees of lat/lon, approximate)\n",
    "b = 0.3            # Semi-minor axis (in degrees of lat/lon, approximate)\n",
    "angle = 30      # Rotation angle\n",
    "\n",
    "x, y = ellipse(x_center, y_center, angle, a, b)\n",
    "\n",
    "fig.add_trace(go.Scattermap(\n",
    "    mode=\"lines\",\n",
    "    lon=x,\n",
    "    lat=y,\n",
    "    marker={'size': 10},\n",
    "    line={'color': 'red'}\n",
    "))\n",
    "\n",
    "fig.show()"
   ]
  },
  {
   "cell_type": "markdown",
   "id": "722a3fe5-0001-4499-be21-fc6ad9af4fbc",
   "metadata": {},
   "source": [
    "## References\n",
    "\n",
    "- [Emitter Detection and Geolocation for Electronic Warfare](https://us.artechhouse.com/Emitter-Detection-and-Geolocation-for-Electronic-Warfare-P2291.aspx)\n",
    "  + [nodonoughue/emitter-detection-book](https://github.com/nodonoughue/emitter-detection-book) (MATLAB) & [nodonoughue/emitter-detection-python](https://github.com/nodonoughue/emitter-detection-python) (Python)\n",
    "- [Joint TDOA, FDOA and PDOA Localization Approaches and Performance Analysis](https://www.mdpi.com/2072-4292/15/4/915)"
   ]
  }
 ],
 "metadata": {
  "language_info": {
   "name": "python"
  }
 },
 "nbformat": 4,
 "nbformat_minor": 5
}
