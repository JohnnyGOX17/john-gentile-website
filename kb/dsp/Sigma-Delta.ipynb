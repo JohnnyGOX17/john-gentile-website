{
 "cells": [
  {
   "cell_type": "markdown",
   "id": "d0c8f276-efde-4c57-9bb1-5862a3f5625e",
   "metadata": {},
   "source": [
    "# Sigma-Delta Processes"
   ]
  },
  {
   "cell_type": "markdown",
   "id": "5b8eaca6-5c4b-4e46-a489-b7688538c05f",
   "metadata": {},
   "source": [
    "ADC from just an FPGA diff pair & RC Circuit (+ other apps to noise shaping):\n",
    "* [TAKING ADVANTAGE OF LVDS INPUT BUFFERS TO IMPLEMENT SIGMA-DELTA A/D CONVERTERS IN FPGAS](http://www.ee.nmt.edu/~erives/531_14/Sigma-Delta.pdf)\n",
    "* [FPGA SIGNAL PROCESSING USING SIGMA-DELTA MODULATION](https://static.aminer.org/pdf/PDF/000/215/814/implementing_sigma_delta_modulator_prototype_designs_on_an_fpga.pdf)\n",
    "* [Simple Sigma-Delta ADX using on-chip LVDS buffer](https://www.latticesemi.com/products/designsoftwareandip/intellectualproperty/referencedesigns/referencedesign03/simplesigmadeltaadc)"
   ]
  },
  {
   "cell_type": "markdown",
   "id": "9dc9fa4d-7d9e-4879-81ac-f2df7c877e1a",
   "metadata": {},
   "source": [
    "## References\n",
    "\n",
    "* [Delta Sigma Toolbox - MATLAB](https://www.mathworks.com/matlabcentral/fileexchange/19-delta-sigma-toolbox)\n",
    "* [Sigma-Delta ADC Tutorial - ADI](https://www.analog.com/en/design-center/interactive-design-tools/sigma-delta-adc-tutorial.html)"
   ]
  }
 ],
 "metadata": {
  "language_info": {
   "name": "python"
  }
 },
 "nbformat": 4,
 "nbformat_minor": 5
}
