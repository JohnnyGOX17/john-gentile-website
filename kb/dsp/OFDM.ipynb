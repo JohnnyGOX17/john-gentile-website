{
 "cells": [
  {
   "cell_type": "markdown",
   "id": "ae90ee86-33a3-452a-b533-683d6c651f16",
   "metadata": {},
   "source": [
    "# OFDM"
   ]
  },
  {
   "cell_type": "code",
   "execution_count": null,
   "id": "1a9a8978-403b-4bec-b3bc-bb96a0c1eaa7",
   "metadata": {},
   "outputs": [],
   "source": [
    "from IPython.display import YouTubeVideo"
   ]
  },
  {
   "cell_type": "code",
   "execution_count": null,
   "id": "235c1f85-3c1f-4498-9d3f-da650c418f6d",
   "metadata": {},
   "outputs": [],
   "source": [
    "YouTubeVideo('1rpoUqx0360', width=800, height=300)"
   ]
  },
  {
   "cell_type": "code",
   "execution_count": null,
   "id": "2848de2a-5e29-40c4-a8da-bf437ab7e472",
   "metadata": {},
   "outputs": [],
   "source": [
    "YouTubeVideo('UCRildDdrX4', width=800, height=300)"
   ]
  },
  {
   "cell_type": "markdown",
   "id": "46d99211-feaf-4263-88d2-8dd10adb8e0a",
   "metadata": {},
   "source": [
    "## References\n",
    "\n",
    "* [The History of Orthogonal Frequency-Division Multiplexing (OFDM) - IEEE](https://ieeexplore.ieee.org/stamp/stamp.jsp?tp=&arnumber=5307460)"
   ]
  }
 ],
 "metadata": {
  "language_info": {
   "name": "python"
  }
 },
 "nbformat": 4,
 "nbformat_minor": 5
}
