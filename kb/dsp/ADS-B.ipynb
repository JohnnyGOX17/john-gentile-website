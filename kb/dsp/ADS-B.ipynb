{
 "cells": [
  {
   "cell_type": "markdown",
   "id": "929b4b65-c05f-45d9-bc75-6c058f6e5018",
   "metadata": {},
   "source": [
    "# ADS-B"
   ]
  },
  {
   "cell_type": "code",
   "execution_count": null,
   "id": "246dc803-f15e-44f0-8603-93122c679410",
   "metadata": {},
   "outputs": [],
   "source": [
    "import numpy as np\n",
    "import matplotlib.pyplot as plt\n",
    "from scipy import signal\n",
    "from rfproto import plot, utils"
   ]
  },
  {
   "cell_type": "code",
   "execution_count": null,
   "id": "726fda08-5764-414c-ae80-0ea538fded51",
   "metadata": {},
   "outputs": [],
   "source": [
    "#iq = utils.open_iq_file('./data/ads-b_test_1641427457780.iq', np.int16)\n",
    "iq = utils.open_iq_file('./data/modes1.bin', np.uint8)\n",
    "fs = 2.0e6 # sample rate (Hz)\n",
    "fc = 1.09e9 # ADS-B carrier frequency of 1090 MHz\n",
    "w = signal.windows.hamming(31)\n",
    "plot.spectrogram(iq, w, 1024, 64, 20)"
   ]
  },
  {
   "cell_type": "code",
   "execution_count": null,
   "id": "1f2b2300-0c1e-4a12-a5fb-a60739b405d1",
   "metadata": {},
   "outputs": [],
   "source": [
    "# Magnitude detect input signal = sqrt(re^2 + im^2)\n",
    "mag = np.abs(iq)\n",
    "plot.samples(mag[:512])\n",
    "plt.show()"
   ]
  },
  {
   "cell_type": "code",
   "execution_count": null,
   "id": "2790f242-3404-4516-a8e0-65ead0e6771d",
   "metadata": {},
   "outputs": [],
   "source": [
    "pulses = np.zeros(512)\n",
    "for i in range(512):\n",
    "    if mag[i] > 15:\n",
    "        pulses[i] = 1\n",
    "\n",
    "plot.samples(pulses)\n",
    "plt.show()"
   ]
  },
  {
   "cell_type": "markdown",
   "id": "c787868c-9174-4c49-849b-68c8a9d684a9",
   "metadata": {},
   "source": [
    "## References\n",
    "\n",
    "- [adsb.lol](https://adsb.lol/): real-time, worldwide flight tracking of ADS-B data.\n",
    "- [readsb](https://github.com/wiedehopf/readsb): one of the most up-to-date ADS-B decoders.\n",
    "- [dump1090-fa](https://github.com/flightaware/dump1090): `dump1090` version maintained by FlightAware.\n",
    "- [dump1090_rs](https://github.com/rsadsb/dump1090_rs): Multi-SDR supported Rust translation of the popular dump1090 project for ADS-B demodulation\n",
    "- [antirez/dump1090](https://github.com/antirez/dump1090): one of the original ADS-B decoders with support for RTL-SDRs.\n",
    "- [gr-adsb](https://github.com/mhostetter/gr-adsb): A GNU Radio out-of-tree (OOT) module to demodulate and decode Automatic Dependent Surveillance Broadcast (ADS-B) messages.\n",
    "- [HW/SW Co-Design Implementation of ADS-B Receiver Using Analog Devices AD9361/AD9364](https://www.mathworks.com/help/soc/ug/hw-sw-co-design-implementation-of-ads-b-transmitter-receiver-using-analog-devices-ad9361-ad9364.html)"
   ]
  }
 ],
 "metadata": {
  "language_info": {
   "name": "python"
  }
 },
 "nbformat": 4,
 "nbformat_minor": 5
}
