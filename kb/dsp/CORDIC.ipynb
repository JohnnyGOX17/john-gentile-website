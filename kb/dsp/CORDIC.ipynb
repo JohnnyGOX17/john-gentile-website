{
 "cells": [
  {
   "cell_type": "markdown",
   "id": "5231c4b8-d0b1-4156-9eb9-66971ed55b5a",
   "metadata": {},
   "source": [
    "# CORDIC\n",
    "\n",
    "Angles represented in [binary angular measurement](https://en.wikipedia.org/wiki/Binary_angular_measurement)."
   ]
  },
  {
   "cell_type": "markdown",
   "id": "8669fe54-335f-49e5-ac53-ebd1f0cacb8b",
   "metadata": {},
   "source": [
    "## References\n",
    "\n",
    "* [CORDIC - Wikipedia](https://en.wikipedia.org/wiki/CORDIC)\n",
    "* [CORDIC, What is it? - Signal Processing Stack Exchange](https://dsp.stackexchange.com/questions/73536/cordic-what-is-it)\n",
    "* [A survey of CORDIC algorithms for FPGA based computers](http://www.andraka.com/files/crdcsrvy.pdf)\n",
    "* [CORDIC FAQ - DSP Guru](https://dspguru.com/dsp/faqs/cordic/)\n",
    "* [Exploring the CORDIC alogorithm](https://www.controlpaths.com/2022/04/25/exploring-the-cordic-algorithm/)\n",
    "* [CORDIC design in Verilog to produce sine and cosine functions](https://www.youtube.com/watch?v=pTgmySlijAs)\n",
    "* [Using a CORDIC to calculate sines and cosines in an FPGA](https://zipcpu.com/dsp/2017/08/30/cordic.html)\n",
    "  + [ZipCPU/cordic - GitHub](https://github.com/ZipCPU/cordic)\n",
    "  + [CORDIC - OpenCores](https://opencores.org/websvn/listing?repname=cordic&path=%2Fcordic%2Ftrunk%2Frect2polar%2F#path_cordic_trunk_rect2polar_)\n",
    "* [CORDIC IP Guide - AMD/Xilinx](https://docs.xilinx.com/v/u/en-US/pg105-cordic)\n",
    "* [Direct Digital Frequency Synthesizer with CORDIC Algorithm and Taylor Series Approximation for Digital Receivers](https://hal.science/hal-00516790/PDF/ejsr_30_4_03.pdf)\n",
    "* [Speeding up `atan2f` by 50x](https://mazzo.li/posts/vectorized-atan2.html)"
   ]
  }
 ],
 "metadata": {
  "language_info": {
   "name": "python"
  }
 },
 "nbformat": 4,
 "nbformat_minor": 5
}
