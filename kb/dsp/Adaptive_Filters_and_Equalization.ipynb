{
 "cells": [
  {
   "cell_type": "markdown",
   "id": "9f7a0fce-f241-4d3b-9c35-7897ecc0f44f",
   "metadata": {
    "editable": true,
    "slideshow": {
     "slide_type": ""
    },
    "tags": []
   },
   "source": [
    "# Adaptive Filters & Equalization\n",
    "\n",
    "The need for adaptive equalization in the receive path of the can be summarized by the [MathWorks documentation on Equalization](https://www.mathworks.com/help/comm/ug/equalization.html):\n",
    ">In a multipath fading scattering environment, the receiver typically detects several constantly changing, delayed versions of the transmitted signal. These time-dispersive channels cause intersymbol interference (ISI) that occurs when symbols received from multiple paths are delayed and overlap in time. ISI causes high error rates because the symbols from multiple received paths interfere with each other and become indistinguishable by the receiver.  \n",
    "\n",
    "Equalizers attempt to mitigate ISI and improve the receiver performance. Equalizer structures are filters that attempt to match the propagation channel response. For time-varying propagation channels, adapting the equalization filter tap weights so that they maintain a match to the channel over time improves the error rate performance.\n",
    "\n",
    "## Equalization Modes\n",
    "\n",
    "There are two main modes of equalization operation: `FFE` or `DFE`. The decision on which mode to use is based on waveform impairments and computational complexity:\n",
    "\n",
    "* `FFE` : Feed-Forward Equalization (FFE) is a linear adaptive filter which has the lowest computational complexity. It is useful for cleaning up received waveforms which have low Doppler speed and don’t have frequency-selective channel impairments. However, if a channel’s frequency response has nulls, a linear equalizer can increase noise, and `DFE` mode should be used instead.\n",
    "* `DFE`: Decision Feedback Equalization (DFE) is an adaptive filter which computes weights based on error fed-back from a decision node, such as a demapper block. DFE mode can resolve frequency-selective channels as well as waveforms with higher Doppler speed, at the cost of increased computational complexity (compared to FFE).\n",
    "\n",
    "### Equalization Algorithms\n",
    "\n",
    "There are three main algorithms for adaptively computing filter weights:\n",
    "* The Least Mean Square (LMS) algorithm executes quickly but converges slowly. Its complexity grows linearly with the number of weights.\n",
    "* The Recursive Least Square (RLS) algorithm converges quickly. Its complexity grows approximately with the square of the number of weights. This algorithm can also be unstable when the number of weights is large.\n",
    "* The constant modulus algorithm (CMA) is useful when no training signal is available. It works best for constant modulus modulations such as *M*-ary PSK.\n",
    "    * **NOTE:** If CMA has no additional side information, it can introduce phase ambiguity. For example, the weights found by the CMA might produce a perfect QPSK constellation but introduce a phase rotation of 90, 180, or 270 degrees. In this case, employ a phase ambiguity correction algorithm or choose a differential modulation scheme. Differential modulation schemes are insensitive to phase ambiguity."
   ]
  },
  {
   "cell_type": "code",
   "execution_count": null,
   "id": "933fafe6-79b3-4e91-a79d-5bddea263312",
   "metadata": {},
   "outputs": [],
   "source": [
    "import numpy as np\n",
    "import matplotlib.pyplot as plt\n",
    "from scipy import signal\n",
    "from rfproto import filter, modulation, plot"
   ]
  },
  {
   "cell_type": "markdown",
   "id": "4bb3b5c8-e70d-43bc-a24d-21757cf1c142",
   "metadata": {},
   "source": [
    "## Blind Equalization via CMA"
   ]
  },
  {
   "cell_type": "code",
   "execution_count": null,
   "id": "c6fa2e03-926f-42fd-a730-24daa40b06c9",
   "metadata": {},
   "outputs": [],
   "source": [
    "N = 4000\n",
    "IQ_data = np.array([4 + 4j, -4 + 4j, -4 - 4j, 4 - 4j])\n",
    "IQ_data = np.repeat(IQ_data, N // 4)\n",
    "# similar to random.shuffle(IQ_data)\n",
    "np.random.shuffle(IQ_data)\n",
    "# Add AWGN with unity power\n",
    "IQ_data += (np.random.randn(N) + 1j * np.random.randn(N)) / np.sqrt(2)\n",
    "plot.IQ(IQ_data, \"I/Q test plot\", alpha=0.2)\n",
    "plot.plt.show()"
   ]
  },
  {
   "cell_type": "code",
   "execution_count": null,
   "id": "2a77e3e0-0e86-4fc3-859f-9c5de0a484f1",
   "metadata": {},
   "outputs": [],
   "source": [
    "num_samples = len(IQ_data)\n",
    "num_taps = 9\n",
    "# adaptive filter taps\n",
    "w = np.zeros(num_taps) + 1j*np.zeros(num_taps)\n",
    "# start w/unity gain filter (passthrough)\n",
    "w[num_taps//2] = 1.0 + 1j*0.0\n",
    "# tapped delay line of input samples\n",
    "u = np.zeros(num_taps) + 1j*np.zeros(num_taps)\n",
    "# filter output\n",
    "y = np.zeros(num_samples) + 1j*np.zeros(num_samples)\n",
    "# CMA error vec\n",
    "e = np.zeros(num_samples) + 1j*np.zeros(num_samples)\n",
    "# desired modulus R = A^2, \n",
    "# so for I/Q amp = 1.0, mag = sqrt(2) = A, so A^2 = 2\n",
    "#R = 2.0\n",
    "R = 1.0\n",
    "step_size = 0.0000001 #0.0001\n",
    "\n",
    "\n",
    "for m in range(num_samples - num_taps):\n",
    "#for m in range(10):\n",
    "    # Shift input data in tapped delay line\n",
    "    # Then Perform filter convolution (dot product) of adaptive weights and \n",
    "    #  tapped delay line of input samples\n",
    "    for l in reversed(range(num_taps)):\n",
    "        if not l:\n",
    "            u[l] = IQ_data[m]\n",
    "        else:\n",
    "            u[l] = u[l-1]\n",
    "        y[m] += w[l] * u[l]\n",
    "    \n",
    "    # CMA error calc\n",
    "    # simplification of abs(y)^2\n",
    "    y_mag = (np.real(y[m]) * np.real(y[m])) + (np.imag(y[m]) * np.imag(y[m]))\n",
    "    e[m] = y[m] * (R - y_mag)\n",
    "\n",
    "    # Innovate filter to compute new weights\n",
    "    # NOTE: can also be batchified/averaged instead of computing new weights every cycle/sample\n",
    "    for l in range(num_taps):\n",
    "        w[l] += (step_size * np.conj(u[l]) * e[m])\n",
    "        \n",
    "\n",
    "plt.plot(abs(e[:-l]))\n",
    "plt.show()"
   ]
  },
  {
   "cell_type": "code",
   "execution_count": null,
   "id": "7ac311c8-216a-4d66-a29e-c4b59241b9dd",
   "metadata": {},
   "outputs": [],
   "source": [
    "plot.IQ(y[1000:], \"I/Q test plot\", alpha=0.2)\n",
    "plot.plt.show()"
   ]
  },
  {
   "cell_type": "code",
   "execution_count": null,
   "id": "112bb90c-dd88-4c74-8655-f38aefafb979",
   "metadata": {},
   "outputs": [],
   "source": [
    "plot.filter_coefficients(np.abs(w))\n",
    "plt.show()\n",
    "plot.filter_response(w)\n",
    "plt.show()"
   ]
  },
  {
   "cell_type": "markdown",
   "id": "181c56c8-1efb-433f-ba27-51cfa6fc4566",
   "metadata": {},
   "source": [
    "## References\n",
    "\n",
    "* [Adaptive Equalizers - Mathworks](https://www.mathworks.com/help/comm/ug/adaptive-equalizers.html)\n",
    "* [Blind Channel Equalization - Matlab File Exchange](https://www.mathworks.com/matlabcentral/fileexchange/39482-blind-channel-equalization)\n",
    "* [The multimodulus blind equalization and its generalized algorithms](https://ieeexplore.ieee.org/document/1007381)\n",
    "* [Blind adaptive equalization for QAM signals: New algorithms and FPGA implementation.](https://scholar.uwindsor.ca/cgi/viewcontent.cgi?article=2311&context=etd)\n",
    "* [Adaptive Equalization for SQPSK and SQPR Over Frequency Selective Microwave LOS Channels](https://ieeexplore.ieee.org/abstract/document/1096100)\n",
    "* [How Decision Feedback Equalizers (DFE) Work](https://wirelesspi.com/how-decision-feedback-equalizers-dfe-work/)\n",
    "* [AN ADAPTIVE BASEBAND EQUALIZER FOR HIGH DATA RATE BANDLIMITED CHANNELS](https://repository.arizona.edu/handle/10150/604050)\n",
    "* [Least Mean-Squares Equalizer - Liquid SDR](https://liquidsdr.org/blog/lms-equalizer/)\n",
    "* [Development of LMS Equalizer - DSP Stack Exchange](https://dsp.stackexchange.com/questions/31318/compensating-loudspeaker-frequency-response-in-an-audio-signal)\n",
    "* [Least Squares Solution Using the DFT vs Wiener-Hopf Equations - DSP Stack Exchange](https://dsp.stackexchange.com/questions/87326/least-squares-solution-using-the-dft-vs-wiener-hopf-equations)\n",
    "* [Fractionally Spaced Blind Equalizer Performance Improvement](https://vtechworks.lib.vt.edu/items/67ae7617-33bf-47d6-983c-f22cc5302845)"
   ]
  }
 ],
 "metadata": {
  "language_info": {
   "name": "python"
  }
 },
 "nbformat": 4,
 "nbformat_minor": 5
}
