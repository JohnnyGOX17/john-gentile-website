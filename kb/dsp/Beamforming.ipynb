{
 "cells": [
  {
   "cell_type": "markdown",
   "id": "f858a2c0-b9b1-4c5a-817b-df7c13190f92",
   "metadata": {},
   "source": [
    "# Beamforming"
   ]
  },
  {
   "cell_type": "code",
   "execution_count": null,
   "id": "8eca4852-013b-4247-9c57-af857fffe70e",
   "metadata": {},
   "outputs": [],
   "source": [
    "from IPython.display import YouTubeVideo"
   ]
  },
  {
   "cell_type": "code",
   "execution_count": null,
   "id": "a9514b83-20c3-48b9-914c-aae8e3965a13",
   "metadata": {},
   "outputs": [],
   "source": [
    "YouTubeVideo('ssuxQFzGJNU', width=800, height=300)"
   ]
  },
  {
   "cell_type": "markdown",
   "id": "aeb5654e-475b-4b7c-af62-f9f63bb9c3e0",
   "metadata": {},
   "source": [
    "## Broadband Beamforming\n",
    "\n",
    "* [Beamforming for Broadband Signals - Wireless Pi](https://wirelesspi.com/beamforming-for-broadband-signals/)\n",
    "* [Beamforming Narrowband and Broadband Signals - Sonar Systems](https://www.intechopen.com/chapters/18871)\n",
    "* [Subband Phase Shift Beamformer - MATLAB](https://www.mathworks.com/help/phased/ref/phased.subbandphaseshiftbeamformer-system-object.html#bs7mkit-1)\n",
    "* [An Efficient Broadband Adaptive Beamformer without Presteering Delays](https://www.ncbi.nlm.nih.gov/pmc/articles/PMC7916022/)\n",
    "* [Broadband Modal Coherence and Beamforming at Megameter Ranges](https://apps.dtic.mil/sti/pdfs/ADA384485.pdf)\n",
    "* [MVDR broadband beamforming using polynomial matrix techniques](https://stax.strath.ac.uk/concern/theses/g445cd716)\n",
    "* [Broadband Beamforming - UCSD](http://dsp.ucsd.edu/home/wp-content/uploads/ece251D_winter18/Broadband.pdf)"
   ]
  },
  {
   "cell_type": "markdown",
   "id": "07b48b6b-9046-4c3b-9265-988ae610d2b7",
   "metadata": {},
   "source": [
    "## Distributed Beamforming\n",
    "\n",
    "* [Distributed Beamforming Using 1-bit Feedback - MATLAB](https://www.mathworks.com/help/phased/ug/distributed-beamforming-using-1-bit-feedback.html)\n",
    "* [Research on distributed beamforming synchronization technology in inter-satellite link system](https://journals.sagepub.com/doi/10.1177/00202940221089256)\n",
    "* [Distributed Transmit Beamforming: Design and Demonstration from the Lab to UAVs](https://arxiv.org/abs/2110.13804)\n",
    "* [Distributed Transmit Beamforming: Challenges and Recent Progress](https://www.researchgate.net/publication/224386337_Distributed_Transmit_Beamforming_Challenges_and_Recent_Progress)\n",
    "* "
   ]
  },
  {
   "cell_type": "code",
   "execution_count": null,
   "id": "d2539231-58f9-472a-819f-f3488d4e343d",
   "metadata": {},
   "outputs": [],
   "source": [
    "YouTubeVideo('lZqMBmPGQiY', width=800, height=300)"
   ]
  },
  {
   "cell_type": "code",
   "execution_count": null,
   "id": "8c2a5ffb-ceab-46a8-b16a-aff7b6e3945a",
   "metadata": {},
   "outputs": [],
   "source": [
    "YouTubeVideo('IsmCQs5KVCs', width=800, height=300)"
   ]
  },
  {
   "cell_type": "markdown",
   "id": "63a69fa8-d5f7-4928-8c7c-d3351af5b54e",
   "metadata": {},
   "source": [
    "## References\n",
    "\n",
    "* [Beamforming and Direction Finding - MATLAB](https://www.mathworks.com/help/phased/beamforming-and-direction-finding.html)"
   ]
  }
 ],
 "metadata": {
  "language_info": {
   "name": "python"
  }
 },
 "nbformat": 4,
 "nbformat_minor": 5
}
