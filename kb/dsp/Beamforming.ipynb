{
 "cells": [
  {
   "cell_type": "markdown",
   "id": "f858a2c0-b9b1-4c5a-817b-df7c13190f92",
   "metadata": {},
   "source": [
    "# Beamforming\n",
    "\n",
    "Filtering is a commonly used operation in signal processing; in the discrete sense, samples are passed through a set of filter coefficients, or \"taps\", to perform the convolution and achieve the desired response. Analogous to such temporal filtering, an array of sensors can be filtered _spatially_ to produce a desired response across the elements.\n",
    "\n",
    "Specifically in the context of Radio Frequency (RF) antenna arrays, this spatial filtering can be utilized to optimize the overall antenna pattern, in a process commonly known as beamforming. The specific spatial optimization is often application dependent, however beamforming is generally seen as a method of beam steering, where gain is provided in a specific, desired direction- relative to the array's front-, with attenuation in other angles. Though the term \"beamforming\" sounds specific to transmitting applications- like radiating RF arrays-, beamforming, and consequently spatial filtering, can actually be performed on both the transmit and receive functions of any array, also known as array reciprocity. Beamforming is inclusive of non-RF arrays and applications as well, such as sound transducers used in SONAR arrays.\n",
    "\n",
    "The fundamental operation of beamforming is derived from the properties of constructive and destructive interference of propagating waves in phased array systems. These systems are so named in that the individual array elements shift the phase of a received, or transmitted, signal to create a desired far field array pattern that culminates into a steered wavefront.\n",
    "\n",
    "This phase shifting process can be achieved by digital or analog means; analog phase shifter units can perform the beam steering in the RF/analog domain. In this case, each phase shifter unit is attached to an individual array antenna element, and is manifolded to a single receiver- such as an Analog to Digital Converter (ADC)- and/or a single transmitter- such as a Digital to Analog Converter (DAC). The benefits of such a system is simplicity in the digital and RF electronics, as there is only one ADC and/or DAC- and possibly one mixing/heterodyne system for the array-, however the system is much less flexible in that it can only steer in one direction at a time.\n",
    "\n",
    "However for Multiple-Input Multiple-Output (MIMO) or other systems that need more flexibility, these phase shifting blocks could also be performed in the digital domain. In this case, each antenna element can be considered to be directly connected to an ADC and/or DAC and the associated phase shifts can be performed in digital logic- such as in a Field-Programmable Gate Array (FPGA) directly connected to each ADC/DAC- and then coherently combined to form the intended beam(s). The downside of a digitally beamformed system is increased complexity- and thereby often an increased cost- due to each channel requiring RF and sampling electronics that must be phase synchronous, however the upside is this system is much more flexible in how it can apply phase shifts, as well as it creates the opportunity for a system to create multiple spatial beams at one time.\n",
    "\n",
    "For MIMO communication arrays, these properties of directional gain and attenuation can be exploited for servicing multiple users, such as in Spatial Multiplexing, where distinct users are assumed to be in different spatial locations or directions, so digital beamforming with multiple beams can be used to target each user independently at the same time."
   ]
  },
  {
   "cell_type": "code",
   "execution_count": null,
   "id": "8eca4852-013b-4247-9c57-af857fffe70e",
   "metadata": {},
   "outputs": [],
   "source": [
    "from IPython.display import YouTubeVideo"
   ]
  },
  {
   "cell_type": "code",
   "execution_count": null,
   "id": "a9514b83-20c3-48b9-914c-aae8e3965a13",
   "metadata": {},
   "outputs": [],
   "source": [
    "YouTubeVideo('ssuxQFzGJNU')"
   ]
  },
  {
   "cell_type": "markdown",
   "id": "aeb5654e-475b-4b7c-af62-f9f63bb9c3e0",
   "metadata": {},
   "source": [
    "## Broadband Beamforming\n",
    "\n",
    "* [Beamforming for Broadband Signals - Wireless Pi](https://wirelesspi.com/beamforming-for-broadband-signals/)\n",
    "* [Beamforming Narrowband and Broadband Signals - Sonar Systems](https://www.intechopen.com/chapters/18871)\n",
    "* [Subband Phase Shift Beamformer - MATLAB](https://www.mathworks.com/help/phased/ref/phased.subbandphaseshiftbeamformer-system-object.html#bs7mkit-1)\n",
    "* [An Efficient Broadband Adaptive Beamformer without Presteering Delays](https://www.ncbi.nlm.nih.gov/pmc/articles/PMC7916022/)\n",
    "* [Broadband Modal Coherence and Beamforming at Megameter Ranges](https://apps.dtic.mil/sti/pdfs/ADA384485.pdf)\n",
    "* [MVDR broadband beamforming using polynomial matrix techniques](https://stax.strath.ac.uk/concern/theses/g445cd716)\n",
    "* [Broadband Beamforming - UCSD](http://dsp.ucsd.edu/home/wp-content/uploads/ece251D_winter18/Broadband.pdf)"
   ]
  },
  {
   "cell_type": "markdown",
   "id": "07b48b6b-9046-4c3b-9265-988ae610d2b7",
   "metadata": {},
   "source": [
    "## Distributed Beamforming\n",
    "\n",
    "* [Distributed Beamforming Using 1-bit Feedback - MATLAB](https://www.mathworks.com/help/phased/ug/distributed-beamforming-using-1-bit-feedback.html)\n",
    "* [Research on distributed beamforming synchronization technology in inter-satellite link system](https://journals.sagepub.com/doi/10.1177/00202940221089256)\n",
    "* [Distributed Transmit Beamforming: Design and Demonstration from the Lab to UAVs](https://arxiv.org/abs/2110.13804)\n",
    "* [Distributed Transmit Beamforming: Challenges and Recent Progress](https://www.researchgate.net/publication/224386337_Distributed_Transmit_Beamforming_Challenges_and_Recent_Progress)\n",
    "* "
   ]
  },
  {
   "cell_type": "code",
   "execution_count": null,
   "id": "d2539231-58f9-472a-819f-f3488d4e343d",
   "metadata": {},
   "outputs": [],
   "source": [
    "YouTubeVideo('lZqMBmPGQiY')"
   ]
  },
  {
   "cell_type": "code",
   "execution_count": null,
   "id": "8c2a5ffb-ceab-46a8-b16a-aff7b6e3945a",
   "metadata": {},
   "outputs": [],
   "source": [
    "YouTubeVideo('IsmCQs5KVCs')"
   ]
  },
  {
   "cell_type": "markdown",
   "id": "63a69fa8-d5f7-4928-8c7c-d3351af5b54e",
   "metadata": {},
   "source": [
    "## References\n",
    "\n",
    "* [Beamforming and Direction Finding - MATLAB](https://www.mathworks.com/help/phased/beamforming-and-direction-finding.html)\n",
    "* _Introduction to Direction-of-Arrival Estimation_- Zhizhang Chen, Gopal Gokeda, Yiqiang Yu"
   ]
  }
 ],
 "metadata": {
  "language_info": {
   "name": "python"
  }
 },
 "nbformat": 4,
 "nbformat_minor": 5
}
