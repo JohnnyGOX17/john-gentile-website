{
 "cells": [
  {
   "cell_type": "markdown",
   "id": "e936ad71-2a45-4c93-839f-80d91293033b",
   "metadata": {},
   "source": [
    "# Timing Synchronization & Timing Error Detectors (TED)"
   ]
  },
  {
   "cell_type": "markdown",
   "id": "d8aabaa7-f7a1-4b75-830c-76203adf7daa",
   "metadata": {},
   "source": [
    "## Timing Error Detector (TED)\n",
    "\n",
    "* [Gardner Timing Error Detector: A Non-Data-Aided Version of Zero-Crossing Timing Error Detectors](https://wirelesspi.com/gardner-timing-error-detector-a-non-data-aided-version-of-zero-crossing-timing-error-detectors/)\n",
    "* [Can we use Gardner timing error detector for multi level QAM or OFDM systems? - DSP Stack Exchange](https://dsp.stackexchange.com/questions/75927/can-we-use-gardner-timing-error-detector-for-multi-level-qam-or-ofdm-systems)\n",
    "* [Symbol Synchronizer - Matlab Communications Toolbox](https://www.mathworks.com/help/comm/ref/comm.symbolsynchronizer-system-object.html)"
   ]
  },
  {
   "cell_type": "markdown",
   "id": "869cfabb-1a82-4084-b7e1-336a678b4edf",
   "metadata": {},
   "source": [
    "## Polyphase Matched Filter for Timing Synchronization\n",
    "\n",
    "* [Symbol Synchronizer - Liquid SDR](https://liquidsdr.org/doc/symsync/)\n",
    "* [Polyphase Clock Sync - GNU Radio](https://wiki.gnuradio.org/index.php/Polyphase_Clock_Sync)\n",
    "* [Simulating the TED gain for a polyphase matched filter](https://destevez.net/2020/02/simulating-the-ted-gain-for-a-polyphase-matched-filter/)"
   ]
  },
  {
   "cell_type": "markdown",
   "id": "edf69315-067d-41c0-94bf-179ab62b0070",
   "metadata": {},
   "source": [
    "## References\n",
    "\n",
    "* [Carrier and Timing Synchronization in Digital Modems - fred harris](https://s3.amazonaws.com/embeddedrelated/user/124841/synchronization_qualcomm_2018_4_11449.pdf)\n",
    "* [On the Frequency Carrier Offset and Symbol Timing Estimation for CCSDS 131.2-B-1 High Data-Rate Telemetry Receivers](https://www.mdpi.com/1424-8220/21/9/2915)"
   ]
  }
 ],
 "metadata": {
  "language_info": {
   "name": "python"
  }
 },
 "nbformat": 4,
 "nbformat_minor": 5
}
