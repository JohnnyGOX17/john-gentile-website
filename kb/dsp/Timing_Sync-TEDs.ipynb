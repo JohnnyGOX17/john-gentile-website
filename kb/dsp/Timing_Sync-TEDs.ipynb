{
 "cells": [
  {
   "cell_type": "markdown",
   "id": "e936ad71-2a45-4c93-839f-80d91293033b",
   "metadata": {},
   "source": [
    "# Timing Synchronization & Timing Error Detectors (TED)"
   ]
  },
  {
   "cell_type": "code",
   "execution_count": null,
   "id": "127148c4-4894-46bc-a6aa-ece2e33e4851",
   "metadata": {},
   "outputs": [],
   "source": [
    "import numpy as np\n",
    "import matplotlib.pyplot as plt\n",
    "from scipy import signal\n",
    "from rfproto import filter, modulation, plot, sig_gen"
   ]
  },
  {
   "cell_type": "markdown",
   "id": "d8aabaa7-f7a1-4b75-830c-76203adf7daa",
   "metadata": {},
   "source": [
    "## Timing Error Detector (TED)\n",
    "\n",
    "* [Gardner Timing Error Detector: A Non-Data-Aided Version of Zero-Crossing Timing Error Detectors](https://wirelesspi.com/gardner-timing-error-detector-a-non-data-aided-version-of-zero-crossing-timing-error-detectors/)\n",
    "* [Can we use Gardner timing error detector for multi level QAM or OFDM systems? - DSP Stack Exchange](https://dsp.stackexchange.com/questions/75927/can-we-use-gardner-timing-error-detector-for-multi-level-qam-or-ofdm-systems)\n",
    "* [Symbol Synchronizer - Matlab Communications Toolbox](https://www.mathworks.com/help/comm/ref/comm.symbolsynchronizer-system-object.html)"
   ]
  },
  {
   "cell_type": "markdown",
   "id": "869cfabb-1a82-4084-b7e1-336a678b4edf",
   "metadata": {},
   "source": [
    "## Polyphase Matched Filter for Timing Synchronization\n",
    "\n",
    "Also see [the Multirate DSP page on Polyphase Filters](./Multirate_DSP.html#polyphase-filtering).\n",
    "\n",
    "* [Symbol Synchronizer - Liquid SDR](https://liquidsdr.org/doc/symsync/)\n",
    "* [Polyphase Clock Sync - GNU Radio](https://wiki.gnuradio.org/index.php/Polyphase_Clock_Sync)\n",
    "* [Symbol Synchronization for SDR Using a Polyphase Filterbank Based on an FPGA](https://www.radioeng.cz/fulltexts/2015/15_03_0772_0782.pdf)\n",
    "* [Simulating the TED gain for a polyphase matched filter](https://destevez.net/2020/02/simulating-the-ted-gain-for-a-polyphase-matched-filter/)"
   ]
  },
  {
   "cell_type": "code",
   "execution_count": null,
   "id": "620b63ab-98c1-43d9-9fcb-2e02f80d118a",
   "metadata": {},
   "outputs": [],
   "source": [
    "# simulate random binary input values\n",
    "num_symbols  = 2400\n",
    "sym_rate     = 1e6 # Baseband symbol rate\n",
    "# Generate random QPSK symbols\n",
    "rand_symbols = np.random.randint(0, 4, num_symbols)\n",
    "\n",
    "L  = 4               # Upsample ratio (Samples per Symbol)\n",
    "fs = L * sym_rate    # Output sample rate (Hz)\n",
    "\n",
    "rolloff          = 0.25 # Alpha of RRC\n",
    "num_filt_symbols = 6    # Symbol length of RRC matched filter\n",
    "\n",
    "qpsk_tx_filtered = sig_gen.gen_mod_signal(\n",
    "    \"QPSK\",\n",
    "    rand_symbols,\n",
    "    fs,\n",
    "    sym_rate,\n",
    "    \"RRC\",\n",
    "    rolloff,\n",
    "    num_filt_symbols,\n",
    ")\n",
    "\n",
    "plot.IQ(qpsk_tx_filtered, alpha=0.1)\n",
    "plt.show()"
   ]
  },
  {
   "cell_type": "code",
   "execution_count": null,
   "id": "9a07bf38-4fa0-4c43-a75a-3aedb0b82b7a",
   "metadata": {},
   "outputs": [],
   "source": [
    "plot.spec_an(qpsk_tx_filtered, fs=fs, fft_shift=True, show_SFDR=False, y_unit=\"dB\", title=\"QPSK (4x SPS)\")\n",
    "plt.show()"
   ]
  },
  {
   "cell_type": "code",
   "execution_count": null,
   "id": "c30e5788-c6a6-4efb-8465-059a3932f546",
   "metadata": {},
   "outputs": [],
   "source": [
    "qpsk_tx_filtered = qpsk_tx_filtered[::2] # arbitrary downsample by to bring input to 2SPS (no need to filter in this sim)\n",
    "plot.spec_an(qpsk_tx_filtered, fs=fs, fft_shift=True, show_SFDR=False, y_unit=\"dB\", title=\"QPSK (2x SPS)\")\n",
    "plt.show()"
   ]
  },
  {
   "cell_type": "code",
   "execution_count": null,
   "id": "0f2f0bde-ab55-4866-9903-4ed64602be9a",
   "metadata": {},
   "outputs": [],
   "source": [
    "# Pass transmitted waveform through same RRC (matched filter)\n",
    "L = 2\n",
    "rrc_coef = filter.RootRaisedCosine(L, 1, rolloff, 2 * num_filt_symbols * L + 1)\n",
    "rx_shaped = signal.lfilter(rrc_coef, 1, qpsk_tx_filtered)\n",
    "\n"
   ]
  },
  {
   "cell_type": "code",
   "execution_count": null,
   "id": "90040bbe-dc23-41a2-9be0-e8d167d823d0",
   "metadata": {},
   "outputs": [],
   "source": [
    "# adjust for best EVM, similar to slicer\n",
    "timing_offset = 4\n",
    "plot.IQ(rx_shaped[timing_offset::L], alpha=0.4)\n",
    "plt.show()"
   ]
  },
  {
   "cell_type": "code",
   "execution_count": null,
   "id": "43958fd8-5e44-431c-933a-74fce1ad0025",
   "metadata": {},
   "outputs": [],
   "source": [
    "# The number of taps of this filter is based on how long you expect the channel to be; that is, \n",
    "# how many symbols do you want to combine to get the current symbols energy back, usually 5 to 10+\n",
    "taps = 2 * num_filt_symbols * L + 1\n",
    "# With 32 filters, you get a good enough resolution in the phase to produce very small, almost \n",
    "# unnoticeable, ISI. Going to 64 filters can reduce this more, but after that there is very little \n",
    "# gain for the extra complexity. Total prototype filter taps = taps * num_filters, since we're \n",
    "# instantiating segments of these taps into the filterbanks in such a way that each bank now \n",
    "# represents the filter at different phases, equally spaced at 2pi/N, where N is the number of filters.\n",
    "num_filters = 31\n",
    "polyphase_rrc_coef = filter.RootRaisedCosine(num_filters * L, 1, rolloff, taps * num_filters)\n",
    "\n",
    "plot.filter_response(polyphase_rrc_coef)\n",
    "plot.plt.show()"
   ]
  },
  {
   "cell_type": "code",
   "execution_count": null,
   "id": "f0a02d08-bc54-46ed-b3e4-80dd346c9a17",
   "metadata": {},
   "outputs": [],
   "source": [
    "h_poly_rrc = polyphase_rrc_coef.reshape(len(polyphase_rrc_coef)//num_filters, num_filters).T\n",
    "print(np.shape(h_poly_rrc))"
   ]
  },
  {
   "cell_type": "code",
   "execution_count": null,
   "id": "e03b5aa5-7adc-4c00-9600-f0c406041e46",
   "metadata": {},
   "outputs": [],
   "source": [
    "from matplotlib.animation import FuncAnimation\n",
    "\n",
    "fig, ax = plt.subplots()\n",
    "line, = ax.plot([], [], \".\", alpha=0.3)\n",
    "plt.axvline(x=0, color=\"orange\")\n",
    "plt.axhline(y=0, color=\"orange\")\n",
    "plt.margins(x=0)\n",
    "plt.grid(True, linestyle=\"--\")\n",
    "plt.minorticks_on()\n",
    "plt.tick_params(labelsize=8)\n",
    "plt.xlabel(\"In-Phase (I)\", fontsize=12)\n",
    "plt.ylabel(\"Quadrature (Q)\", fontsize=12)\n",
    "ax.set_yticklabels([])\n",
    "ax.set_xticklabels([])\n",
    "ax.set_xlim([-0.02, 0.02])\n",
    "ax.set_ylim([-0.02, 0.02])\n",
    "\n",
    "def update_plot(frame):\n",
    "    poly_match_out = signal.lfilter(h_poly_rrc[frame], 1, qpsk_tx_filtered)\n",
    "    line.set_xdata(np.real(poly_match_out[::2]))\n",
    "    line.set_ydata(np.imag(poly_match_out[::2]))\n",
    "    ax.set_title(f\"Polyphase RRC Leg: {frame}\")\n",
    "    return line,\n",
    "\n",
    "anim = FuncAnimation(fig, update_plot, frames=num_filters, interval=100, blit=True, repeat=True)\n",
    "anim.save('iq_polyphase_timing.gif', writer='pillow')\n",
    "plt.close()"
   ]
  },
  {
   "cell_type": "markdown",
   "id": "67c6580a-d939-450a-845c-1806ac77802b",
   "metadata": {},
   "source": [
    "<img src=\"iq_polyphase_timing.gif\" width=\"750\" align=\"center\">"
   ]
  },
  {
   "cell_type": "markdown",
   "id": "edf69315-067d-41c0-94bf-179ab62b0070",
   "metadata": {},
   "source": [
    "## References\n",
    "\n",
    "* [Carrier and Timing Synchronization in Digital Modems - fred harris](https://s3.amazonaws.com/embeddedrelated/user/124841/synchronization_qualcomm_2018_4_11449.pdf)\n",
    "* [On the Frequency Carrier Offset and Symbol Timing Estimation for CCSDS 131.2-B-1 High Data-Rate Telemetry Receivers](https://www.mdpi.com/1424-8220/21/9/2915)"
   ]
  }
 ],
 "metadata": {
  "language_info": {
   "name": "python"
  }
 },
 "nbformat": 4,
 "nbformat_minor": 5
}
