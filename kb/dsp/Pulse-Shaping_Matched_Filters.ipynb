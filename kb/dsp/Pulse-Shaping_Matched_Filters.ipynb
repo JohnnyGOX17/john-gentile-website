{
 "cells": [
  {
   "cell_type": "markdown",
   "id": "e38ba8d1-ccb5-4ff5-97b8-2449e95a694c",
   "metadata": {
    "editable": true,
    "slideshow": {
     "slide_type": ""
    },
    "tags": []
   },
   "source": [
    "# TX Pulse Shaping & Matched Filters"
   ]
  },
  {
   "cell_type": "code",
   "execution_count": null,
   "id": "40d8ad16-ee81-40c0-a722-44bc900deaf0",
   "metadata": {},
   "outputs": [],
   "source": [
    "import numpy as np\n",
    "import matplotlib.pyplot as plt\n",
    "from scipy import signal\n",
    "from rfproto import filter, modulation, plot, sig_gen"
   ]
  },
  {
   "cell_type": "markdown",
   "id": "08af32eb-7f0a-4373-81c7-1a45d27c2c08",
   "metadata": {},
   "source": [
    "- [ ] The why (bandwidth and power amplifiers) -> https://dsp.stackexchange.com/questions/41130/envelope-behavior-difference-between-qpsk-oqpsk-and-pi-4-qpsk\n",
    "- [ ] https://en.wikipedia.org/wiki/Raised-cosine_filter "
   ]
  },
  {
   "cell_type": "code",
   "execution_count": null,
   "id": "a0b26b1c-9662-4a7e-bd79-ef26b69230be",
   "metadata": {},
   "outputs": [],
   "source": [
    "# CCSDS OQPSK SRRC rolloff=0.5: https://public.ccsds.org/Pubs/413x0g3e1.pdf\n",
    "rrc_test = filter.RootRaisedCosine(17.225e6, 7.5e6, 0.5, 63)\n",
    "# The matched filter is a time-reversed and conjugated version of the signal\n",
    "# NOTE: this is moot for a uniform, real filter...\n",
    "rrc_mf = np.conj(rrc_test[::-1])\n",
    "plot.filter_coefficients(rrc_mf)\n",
    "plt.show()\n",
    "\n",
    "plot.filter_response(rrc_mf)\n",
    "plt.show()"
   ]
  },
  {
   "cell_type": "code",
   "execution_count": null,
   "id": "e0ad4f7d-e61f-4194-89f6-6d4020d86a46",
   "metadata": {},
   "outputs": [],
   "source": [
    "# simulate random binary input values\n",
    "num_symbols  = 2400\n",
    "num_disp_sym = 16\n",
    "sym_rate     = 1e6 # Baseband symbol rate\n",
    "# Generate random QPSK symbols\n",
    "rand_symbols = np.random.randint(0, 4, num_symbols)\n",
    "\n",
    "L  = 4               # Upsample ratio (Samples per Symbol)\n",
    "fs = L * sym_rate    # Output sample rate (Hz)\n",
    "\n",
    "rolloff          = 0.25 # Alpha of RRC\n",
    "num_filt_symbols = 6    # Symbol length of RRC matched filter\n",
    "\n",
    "qpsk_tx_filtered = sig_gen.gen_mod_signal(\n",
    "    \"QPSK\",\n",
    "    rand_symbols,\n",
    "    fs,\n",
    "    sym_rate,\n",
    "    \"RRC\",\n",
    "    rolloff,\n",
    "    num_filt_symbols,\n",
    ")\n",
    "\n",
    "# Show time domain aspects of interpolation & pulse-shapinp\n",
    "fig, ax = plt.subplots()\n",
    "ax.plot(np.real(qpsk_tx_filtered[:num_disp_sym * L]), '.-', label='Pulse shaped output')\n",
    "num_taps = 64\n",
    "for i in range(num_disp_sym):\n",
    "    if not i:\n",
    "        plt.plot([i*L,i*L], [0, np.real(qpsk_tx_filtered[i*L])], color='k', label='Symbol')\n",
    "    else:\n",
    "        plt.plot([i*L,i*L], [0, np.real(qpsk_tx_filtered[i*L])], color='k')\n",
    "plt.grid(True)\n",
    "plt.legend()\n",
    "plt.show()"
   ]
  },
  {
   "cell_type": "code",
   "execution_count": null,
   "id": "792f5797-b4b3-4873-bebf-2395c04f4a18",
   "metadata": {},
   "outputs": [],
   "source": [
    "_,_ = plot.eye(qpsk_tx_filtered.real, L)\n",
    "plot.IQ(qpsk_tx_filtered, alpha=0.1)\n",
    "plt.show()"
   ]
  },
  {
   "cell_type": "code",
   "execution_count": null,
   "id": "ed3384ce-d106-4168-9afc-fad67e0fcf66",
   "metadata": {},
   "outputs": [],
   "source": [
    "plot.spec_an(qpsk_tx_filtered, fs=fs, fft_shift=True, show_SFDR=False, y_unit=\"dB\")\n",
    "plt.show()"
   ]
  },
  {
   "cell_type": "code",
   "execution_count": null,
   "id": "0f2f0bde-ab55-4866-9903-4ed64602be9a",
   "metadata": {},
   "outputs": [],
   "source": [
    "# Pass transmitted waveform through same RRC (matched filter)\n",
    "rrc_coef = filter.RootRaisedCosine(L * sym_rate, sym_rate, rolloff, 2 * num_filt_symbols * L + 1)\n",
    "rx_shaped = signal.lfilter(rrc_coef, 1, qpsk_tx_filtered)\n",
    "# don't plot begining samples while starting filter convolution process\n",
    "transient = (len(rrc_coef)//2 + 1) * L\n",
    "_,_ = plot.eye(rx_shaped.real[transient:], L )\n",
    "\n",
    "# adjust for best EVM, similar to slicer\n",
    "timing_offset = 4\n",
    "plot.IQ(rx_shaped[transient + timing_offset::4], alpha=0.1)\n",
    "plt.show()"
   ]
  },
  {
   "cell_type": "markdown",
   "id": "cce334d2-f743-4405-9561-a41633e8a541",
   "metadata": {
    "editable": true,
    "slideshow": {
     "slide_type": ""
    },
    "tags": []
   },
   "source": [
    "## References\n",
    "\n",
    "* [Digital Pulse-Shaping Filter Basics - ADI AN-922](https://www.analog.com/media/en/technical-documentation/application-notes/an-922.pdf)\n",
    "* [Root Raised Cosine (RRC) Filters and Pulse Shaping in Communication Systems - NASA](https://ntrs.nasa.gov/api/citations/20120008631/downloads/20120008631.pdf)\n",
    "* [Frequency Response of RRC Filter - DSP Stack Exchange](https://dsp.stackexchange.com/questions/51088/pulse-shaping-with-rrc-number-of-taps)\n",
    "* [Raised Cosine Filtering - MATLAB](https://www.mathworks.com/help/comm/ug/raised-cosine-filtering.html)\n",
    "* [Raised-Cosine Filter - Wikipedia](https://en.wikipedia.org/wiki/Raised-cosine_filter)\n",
    "* [The care and feeding of digital, pulse-shaping filters](https://www.nonstopsystems.com/radio/pdf-hell/article-raised-cosine.pdf)\n",
    "* [Matched Filter - Wikipedia](https://en.wikipedia.org/wiki/Matched_filter)"
   ]
  }
 ],
 "metadata": {
  "language_info": {
   "name": "python"
  }
 },
 "nbformat": 4,
 "nbformat_minor": 5
}
