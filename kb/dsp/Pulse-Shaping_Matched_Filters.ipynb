{
 "cells": [
  {
   "cell_type": "markdown",
   "id": "e38ba8d1-ccb5-4ff5-97b8-2449e95a694c",
   "metadata": {
    "editable": true,
    "slideshow": {
     "slide_type": ""
    },
    "tags": []
   },
   "source": [
    "# TX Pulse Shaping & Matched Filters"
   ]
  },
  {
   "cell_type": "code",
   "execution_count": null,
   "id": "40d8ad16-ee81-40c0-a722-44bc900deaf0",
   "metadata": {},
   "outputs": [],
   "source": [
    "import numpy as np\n",
    "import matplotlib.pyplot as plt\n",
    "from scipy import signal\n",
    "from rfproto import filter, modulation, plot"
   ]
  },
  {
   "cell_type": "markdown",
   "id": "08af32eb-7f0a-4373-81c7-1a45d27c2c08",
   "metadata": {},
   "source": [
    "- [ ] The why (bandwidth and power amplifiers) -> https://dsp.stackexchange.com/questions/41130/envelope-behavior-difference-between-qpsk-oqpsk-and-pi-4-qpsk\n",
    "- [ ] https://en.wikipedia.org/wiki/Raised-cosine_filter "
   ]
  },
  {
   "cell_type": "code",
   "execution_count": null,
   "id": "a0b26b1c-9662-4a7e-bd79-ef26b69230be",
   "metadata": {},
   "outputs": [],
   "source": [
    "# CCSDS OQPSK SRRC rolloff=0.5: https://public.ccsds.org/Pubs/413x0g3e1.pdf\n",
    "rrc_test = filter.RootRaisedCosine(17.225e6, 7.5e6, 0.5, 63)\n",
    "# The matched filter is a time-reversed and conjugated version of the signal\n",
    "# NOTE: this is moot for a uniform, real filter...\n",
    "rrc_mf = np.conj(rrc_test[::-1])\n",
    "plot.filter_coefficients(rrc_mf)\n",
    "plt.show()\n",
    "\n",
    "plot.filter_response(rrc_mf)\n",
    "plt.show()"
   ]
  },
  {
   "cell_type": "code",
   "execution_count": null,
   "id": "e0ad4f7d-e61f-4194-89f6-6d4020d86a46",
   "metadata": {},
   "outputs": [],
   "source": [
    "m = 4\n",
    "qpsk_mod = modulation.MPSKModulation(m)\n",
    "\n",
    "# simulate random binary input values\n",
    "num_symbols = 2400\n",
    "num_disp_sym = 16\n",
    "rand_symbols = np.random.randint(0, m, num_symbols)\n",
    "qpsk_symbols = qpsk_mod.modulate(rand_symbols)\n",
    "\n",
    "L = 4  # Upsample ratio (Samples per Symbol)\n",
    "\n",
    "def pulse_shape(symbols: np.ndarray, OSR: int, h: np.ndarray):\n",
    "    \"\"\" Similar to np.convolve(x, h, 'same') \"\"\"\n",
    "    N = len(h) # filter length (== number of symbols in filter impulse response)\n",
    "    sym_prepend = np.insert(symbols, 0, symbols[0]*np.ones(N // 2))\n",
    "    syms = np.append(sym_prepend, symbols[-1]*np.ones(N // 2))\n",
    "\n",
    "    # zero-insert upsampling\n",
    "    tx = np.zeros(len(syms) * OSR, dtype=complex)\n",
    "    tx[::OSR] = syms\n",
    "\n",
    "    # apply pulse shape filter using direct-form FIR SciPy convolution\n",
    "    conv_out = signal.lfilter(h, 1, tx)\n",
    "\n",
    "    # truncate first samples due to prepend and apped to align output with input\n",
    "    return conv_out[N * OSR:]\n",
    " \n",
    "rc_test = filter.RootRaisedCosine(L, 1, 0.25, 45)\n",
    "qpsk_tx_filtered = pulse_shape(qpsk_symbols, L, rc_test)\n",
    "\n",
    "fig, ax = plt.subplots()\n",
    "ax.plot(np.real(qpsk_tx_filtered[:num_disp_sym * L]), '.-', label='Pulse shaped output')\n",
    "num_taps = 64\n",
    "for i in range(num_disp_sym):\n",
    "    if not i:\n",
    "        plt.plot([i*L,i*L], [0, np.real(qpsk_tx_filtered[i*L])], color='k', label='Symbol')\n",
    "    else:\n",
    "        plt.plot([i*L,i*L], [0, np.real(qpsk_tx_filtered[i*L])], color='k')\n",
    "plt.grid(True)\n",
    "plt.legend()\n",
    "plt.show()"
   ]
  },
  {
   "cell_type": "code",
   "execution_count": null,
   "id": "792f5797-b4b3-4873-bebf-2395c04f4a18",
   "metadata": {},
   "outputs": [],
   "source": [
    "_,_ = plot.eye(qpsk_tx_filtered.real, L)"
   ]
  },
  {
   "cell_type": "code",
   "execution_count": null,
   "id": "ed3384ce-d106-4168-9afc-fad67e0fcf66",
   "metadata": {},
   "outputs": [],
   "source": [
    "plot.spec_an(qpsk_tx_filtered, fs=L*1e6, fft_shift=True, show_SFDR=False, y_unit=\"dB\")\n",
    "plt.show()"
   ]
  },
  {
   "cell_type": "code",
   "execution_count": null,
   "id": "0f2f0bde-ab55-4866-9903-4ed64602be9a",
   "metadata": {},
   "outputs": [],
   "source": [
    "# Pass transmitted waveform through same RRC (matched filter)\n",
    "rx_shaped = signal.lfilter(rc_test, 1, qpsk_tx_filtered)\n",
    "# don't plot begining samples while starting filter convolution process\n",
    "transient = (len(rc_test)//2 + 1) * L\n",
    "_,_ = plot.eye(rx_shaped.real[transient:], L )\n",
    "\n",
    "# adjust for best EVM, similar to slicer\n",
    "timing_offset = 4\n",
    "#plot.IQ(qpsk_tx_filtered[transient + timing_offset::4], alpha=0.3)\n",
    "plot.IQ(rx_shaped[transient + timing_offset::4], alpha=0.3)\n",
    "plt.show()"
   ]
  },
  {
   "cell_type": "markdown",
   "id": "cce334d2-f743-4405-9561-a41633e8a541",
   "metadata": {
    "editable": true,
    "slideshow": {
     "slide_type": ""
    },
    "tags": []
   },
   "source": [
    "## References\n",
    "\n",
    "* [Digital Pulse-Shaping Filter Basics - ADI AN-922](https://www.analog.com/media/en/technical-documentation/application-notes/an-922.pdf)\n",
    "* [Root Raised Cosine (RRC) Filters and Pulse Shaping in Communication Systems - NASA](https://ntrs.nasa.gov/api/citations/20120008631/downloads/20120008631.pdf)\n",
    "* [Frequency Response of RRC Filter - DSP Stack Exchange](https://dsp.stackexchange.com/questions/51088/pulse-shaping-with-rrc-number-of-taps)\n",
    "* [Raised Cosine Filtering - MATLAB](https://www.mathworks.com/help/comm/ug/raised-cosine-filtering.html)\n",
    "* [Raised-Cosine Filter - Wikipedia](https://en.wikipedia.org/wiki/Raised-cosine_filter)\n",
    "* [The care and feeding of digital, pulse-shaping filters](https://www.nonstopsystems.com/radio/pdf-hell/article-raised-cosine.pdf)\n",
    "* [Matched Filter - Wikipedia](https://en.wikipedia.org/wiki/Matched_filter)"
   ]
  }
 ],
 "metadata": {
  "language_info": {
   "name": "python"
  }
 },
 "nbformat": 4,
 "nbformat_minor": 5
}
