{
 "cells": [
  {
   "cell_type": "markdown",
   "id": "fbffd9b6-30d1-42d5-9533-fafee0cff23c",
   "metadata": {},
   "source": [
    "# Polyphase Filtering"
   ]
  },
  {
   "cell_type": "code",
   "execution_count": null,
   "id": "37cb6641-057e-46f8-b433-63a43ebb87d7",
   "metadata": {},
   "outputs": [],
   "source": [
    "from IPython.display import YouTubeVideo"
   ]
  },
  {
   "cell_type": "markdown",
   "id": "f237abef-ba38-4e63-a6f6-872dfec004f3",
   "metadata": {},
   "source": [
    "## References"
   ]
  },
  {
   "cell_type": "code",
   "execution_count": null,
   "id": "2f14535e-0562-4f64-b3f7-536acf5bca42",
   "metadata": {},
   "outputs": [],
   "source": [
    "YouTubeVideo('Zmjk9NE-3k0', width=800, height=300)"
   ]
  },
  {
   "cell_type": "code",
   "execution_count": null,
   "id": "0c3686e7-23ce-40de-adf3-e866b49941b0",
   "metadata": {},
   "outputs": [],
   "source": [
    "YouTubeVideo('afU9f5MuXr8', width=800, height=300)"
   ]
  }
 ],
 "metadata": {
  "language_info": {
   "name": "python"
  }
 },
 "nbformat": 4,
 "nbformat_minor": 5
}
