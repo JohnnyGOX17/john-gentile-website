{
 "cells": [
  {
   "cell_type": "markdown",
   "id": "fbffd9b6-30d1-42d5-9533-fafee0cff23c",
   "metadata": {},
   "source": [
    "# Polyphase Filtering"
   ]
  },
  {
   "cell_type": "code",
   "execution_count": null,
   "id": "37cb6641-057e-46f8-b433-63a43ebb87d7",
   "metadata": {},
   "outputs": [],
   "source": [
    "from IPython.display import YouTubeVideo"
   ]
  },
  {
   "cell_type": "markdown",
   "id": "07a12e01-1c29-459b-8f61-4f4293803b06",
   "metadata": {},
   "source": [
    "## Polyphase Filter Banks (PFBs) and Channelizers\n",
    "\n",
    "* [Xilinx XAPP1161 Polyphase Filter Bank Channelizer, v1.0, Application Note](https://docs.amd.com/v/u/en-US/xapp1161)"
   ]
  },
  {
   "cell_type": "code",
   "execution_count": null,
   "id": "c67e1461-b96e-4e6f-8c78-ee397061ef1b",
   "metadata": {},
   "outputs": [],
   "source": [
    "YouTubeVideo('WRO9VD6MYy4')"
   ]
  },
  {
   "cell_type": "markdown",
   "id": "f237abef-ba38-4e63-a6f6-872dfec004f3",
   "metadata": {},
   "source": [
    "## References\n",
    "\n",
    "* [A Review of Polyphase Filter Banks and Their Application](https://apps.dtic.mil/sti/tr/pdf/ADA457390.pdf)"
   ]
  },
  {
   "cell_type": "code",
   "execution_count": null,
   "id": "2f14535e-0562-4f64-b3f7-536acf5bca42",
   "metadata": {},
   "outputs": [],
   "source": [
    "YouTubeVideo('Zmjk9NE-3k0')"
   ]
  },
  {
   "cell_type": "code",
   "execution_count": null,
   "id": "0c3686e7-23ce-40de-adf3-e866b49941b0",
   "metadata": {},
   "outputs": [],
   "source": [
    "YouTubeVideo('afU9f5MuXr8')"
   ]
  }
 ],
 "metadata": {
  "language_info": {
   "name": "python"
  }
 },
 "nbformat": 4,
 "nbformat_minor": 5
}
