{
 "cells": [
  {
   "cell_type": "markdown",
   "id": "b0eb81f7-97d8-4dde-950d-6ed861cb9d43",
   "metadata": {},
   "source": [
    "# Fixed-Point Notebook\n"
   ]
  },
  {
   "cell_type": "code",
   "execution_count": null,
   "id": "9d88e2f8-b681-4172-8ffd-b62ebd8b82bf",
   "metadata": {},
   "outputs": [],
   "source": [
    "import random\n",
    "import numpy as np\n",
    "import matplotlib.pyplot as plt\n",
    "from rfproto import sig_gen, plot"
   ]
  },
  {
   "cell_type": "markdown",
   "id": "dd840b19-ab86-4309-9ded-617da757b211",
   "metadata": {},
   "source": [
    "## Rounding Techniques"
   ]
  },
  {
   "cell_type": "code",
   "execution_count": null,
   "id": "6c8ef1eb-8699-41e5-85d2-482d2172bca0",
   "metadata": {},
   "outputs": [],
   "source": [
    "bitwidth = 16\n",
    "N = bitwidth - 1\n",
    "num_tests = 10000\n",
    "\n",
    "MIN_VAL = -2**N\n",
    "MAX_VAL = (2**N) - 1\n",
    "\n",
    "shift_err = np.zeros(num_tests)\n",
    "halfup_err = np.zeros(num_tests)\n",
    "tozero_err = np.zeros(num_tests)\n",
    "conv_err = np.zeros(num_tests)\n",
    "\n",
    "def err_mag(x, ref):\n",
    "    return (ref - (x / 2**N))\n",
    "\n",
    "for i in range(num_tests):\n",
    "    a = random.randint(MIN_VAL, MAX_VAL)\n",
    "    b = random.randint(MIN_VAL, MAX_VAL)\n",
    "    # full-width integer product, before any rounding/scaling scheme\n",
    "    c = a * b\n",
    "\n",
    "    # Floating-point comparison\n",
    "    a_fp = 1.0 * a / 2**N\n",
    "    b_fp = 1.0 * b / 2**N\n",
    "    c_fp = a_fp * b_fp\n",
    "\n",
    "    # Truncation: Simple bit shift >>\n",
    "    c_shift = c >> N\n",
    "    shift_err[i] = err_mag(c_shift, c_fp)\n",
    "\n",
    "    # Round half up: basic scheme, similar to mulhrs AVX intrinisc\n",
    "    # Truncate to N+1 bits, += 1, truncate down to final size >> 1\n",
    "    # Better than raw truncation, but still some bias...\n",
    "    c_halfup = ((c >> (N-1)) + 1) >> 1\n",
    "    halfup_err[i] = err_mag(c_halfup, c_fp)\n",
    "\n",
    "    # Round towards 0:\n",
    "    c_to_0 = ((c >> (N-1)) + 1) >> 1 if (c < 0) else ((c >> (N-1)) - 1) >> 1\n",
    "    tozero_err[i] = err_mag(c_to_0, c_fp)\n",
    "\n",
    "    # Convergent rounding\n",
    "    # default rounding mode used in IEEE 754 FP computing functions\n",
    "    # from https://docs.xilinx.com/r/en-US/ug901-vivado-synthesis/Rounding-to-Even-Verilog\n",
    "    multadd = c + 32768\n",
    "    c_conv = multadd >> N\n",
    "    if ((multadd & 0xFFFF) == 0): # pattern detect DSP48\n",
    "        c_conv &= 0xFFFFFFFE\n",
    "    #print(f\"{c_shift} {c_conv}\")\n",
    "    conv_err[i] = err_mag(c_conv, c_fp)\n",
    "\n",
    "\n",
    "schemes = [\n",
    "    \"Shift\",\n",
    "    \"Half-Up\",\n",
    "    \"Towards-Zero\",\n",
    "    \"Convergent\",\n",
    "]\n",
    "means = [\n",
    "    abs(np.average(shift_err)),   \n",
    "    abs(np.average(halfup_err)),\n",
    "    abs(np.average(tozero_err)),\n",
    "    abs(np.average(conv_err)),\n",
    "]\n",
    "\n",
    "stds = [\n",
    "    np.std(shift_err),\n",
    "    np.std(halfup_err),\n",
    "    np.std(tozero_err),\n",
    "    np.std(conv_err),\n",
    "]\n",
    "\n",
    "bar_width = 0.5\n",
    "spacing = 1.25\n",
    "n_sch = len(schemes)\n",
    "x_means = np.linspace(0, spacing*(n_sch-1), n_sch)\n",
    "x_stds  = [x + bar_width for x in x_means]\n",
    "x_lbls  = [x + bar_width/2 for x in x_means]\n",
    "\n",
    "idx_min = np.argmin(means)\n",
    "\n",
    "plt.bar(x_means, means, width=bar_width, label = r'$\\mu_{error}$')\n",
    "plt.bar(x_stds, stds, width=bar_width, label = r'$\\sigma_{error}$')\n",
    "plt.xticks(x_lbls, schemes)\n",
    "plt.ylabel('Error Magnitude')\n",
    "plt.title(r'Min. error scheme is {0}, $\\mu$ = {1:.2e}'.format(schemes[idx_min], means[idx_min]))\n",
    "plt.legend()\n",
    "plt.show()"
   ]
  },
  {
   "cell_type": "code",
   "execution_count": null,
   "id": "8a61a8d5-5227-406b-895e-051a9632a800",
   "metadata": {},
   "outputs": [],
   "source": [
    "input_sig = sig_gen.cmplx_dt_sinusoid(2**20, 10000, 40000, 10000).real\n",
    "floor_sig = np.floor(input_sig / 8)\n",
    "\n",
    "plot.spec_an(input_sig, 40000, \"Input Signal Spectrum\", scale_noise=True, norm=True)\n",
    "plot.spec_an(floor_sig, 40000, \"Input Signal Spectrum\", scale_noise=True, norm=True)\n",
    "plt.show()"
   ]
  },
  {
   "cell_type": "markdown",
   "id": "1862f7eb-f217-4864-a1ed-d0c05f311394",
   "metadata": {},
   "source": [
    "## References\n",
    "\n",
    "* [Rounding to Nearest Integer - Wikipedia](https://en.wikipedia.org/wiki/Rounding#Rounding_to_the_nearest_integer)\n",
    "* [Convergent Rounding LSB Correction Technique - Vivado UG901](https://docs.xilinx.com/r/en-US/ug901-vivado-synthesis/Convergent-Rounding-LSB-Correction-Technique)\n",
    "* [Rounding Numbers without Adding a Bias](https://zipcpu.com/dsp/2017/07/22/rounding.html)"
   ]
  }
 ],
 "metadata": {
  "language_info": {
   "name": "python"
  }
 },
 "nbformat": 4,
 "nbformat_minor": 5
}
