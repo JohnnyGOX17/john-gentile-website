{
 "cells": [
  {
   "cell_type": "markdown",
   "id": "6a9fed79-a850-4fab-b55f-f2b07722fcf7",
   "metadata": {},
   "source": [
    "# Direction of Arrival (DoA) Estimation"
   ]
  },
  {
   "cell_type": "code",
   "execution_count": null,
   "id": "d2a1cf9b-f880-40e1-9252-1733a620bd29",
   "metadata": {},
   "outputs": [],
   "source": [
    "from IPython.display import YouTubeVideo"
   ]
  },
  {
   "cell_type": "markdown",
   "id": "3d562977-b86a-4645-85e2-85027cc8ee25",
   "metadata": {
    "jp-MarkdownHeadingCollapsed": true
   },
   "source": [
    "## Monopulse\n",
    "\n",
    "### References\n",
    "\n",
    "* [Monopulse radar - Wikipedia](https://en.wikipedia.org/wiki/Monopulse_radar)\n",
    "* [Monopulse Tracking with a Low Cost Pluto SDR - Jon Kraft - YouTube](https://www.youtube.com/watch?v=XP8OWMDHfOQ)"
   ]
  },
  {
   "cell_type": "markdown",
   "id": "b354daa6-0ad9-45dd-8bbd-20c766010a84",
   "metadata": {},
   "source": [
    "## References\n",
    "\n",
    "- _Introduction to Direction-of-Arrival Estimation_- Zhizhang Chen, Gopal Gokeda, Yiqiang Yu\n",
    "- [KrakenRF Wiki/Docs](https://github.com/krakenrf/krakensdr_docs/wiki) for the [KrakenRF 5-Channel RX SDR](https://www.krakenrf.com/)\n",
    "  + [KrakenRF Forum](https://forum.krakenrf.com/)\n",
    "- [Joint TDOA, FDOA and PDOA Localization Approaches and Performance Analysis](https://www.mdpi.com/2072-4292/15/4/915)"
   ]
  },
  {
   "cell_type": "code",
   "execution_count": null,
   "id": "47d5751c-d112-4a3e-bae8-e1ad9d97dbe0",
   "metadata": {},
   "outputs": [],
   "source": [
    "YouTubeVideo('_UBPVi1vp2s')"
   ]
  },
  {
   "cell_type": "markdown",
   "id": "4b76f6fb-4afa-4ddd-9ea9-bbd00df75a12",
   "metadata": {},
   "source": [
    "- [gr-doa: Direction Finding in GNU-Radio](https://www.gnuradio.org/grcon/grcon17/presentations/gr_doa_gnuradio_direction_finding/Travis-Collins-gr-doa.pdf)"
   ]
  }
 ],
 "metadata": {
  "language_info": {
   "name": "python"
  }
 },
 "nbformat": 4,
 "nbformat_minor": 5
}
