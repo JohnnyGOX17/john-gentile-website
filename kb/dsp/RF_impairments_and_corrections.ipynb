{
 "cells": [
  {
   "cell_type": "markdown",
   "id": "7d2d55bd-9c8b-4812-b177-9a47b876d719",
   "metadata": {},
   "source": [
    "# RF Impairments & Corrections"
   ]
  },
  {
   "cell_type": "code",
   "execution_count": null,
   "id": "fb2ba9db-6e53-46d2-a5ed-745ada49dade",
   "metadata": {},
   "outputs": [],
   "source": [
    "from IPython.display import YouTubeVideo"
   ]
  },
  {
   "cell_type": "code",
   "execution_count": null,
   "id": "45193f42-dc01-4987-b482-9dbd60dc6274",
   "metadata": {},
   "outputs": [],
   "source": [
    "YouTubeVideo('PNMOwhEHE6w')"
   ]
  },
  {
   "cell_type": "code",
   "execution_count": null,
   "id": "a2408c0f-5552-4f59-8c00-0d5059a626a7",
   "metadata": {},
   "outputs": [],
   "source": [
    "YouTubeVideo('LBLvmNyAdSI')"
   ]
  },
  {
   "cell_type": "markdown",
   "id": "3cea1a9c-1494-4287-bede-c7db0f437e1d",
   "metadata": {},
   "source": [
    "## DC Offset Removal"
   ]
  },
  {
   "cell_type": "markdown",
   "id": "8554fb56-0457-4d3a-ace5-c23bb187558e",
   "metadata": {},
   "source": [
    "## I/Q Offset Correction"
   ]
  },
  {
   "cell_type": "markdown",
   "id": "c2ffda28-d816-4134-8b49-cc87bdf0dd0b",
   "metadata": {},
   "source": [
    "## References\n",
    "\n",
    "* [Direct Conversion (Zero-IF) Receiver - Wireless Pi](https://wirelesspi.com/direct-conversion-zero-if-receiver/)\n",
    "* [Digitally Removing a DC Offset: DSP Without Mathematics](https://docs.xilinx.com/v/u/en-US/wp279)\n",
    "* [What does correcting I/Q do? - DSP Stack Exchange](https://dsp.stackexchange.com/questions/40734/what-does-correcting-iq-do)"
   ]
  }
 ],
 "metadata": {
  "language_info": {
   "name": "python"
  }
 },
 "nbformat": 4,
 "nbformat_minor": 5
}
