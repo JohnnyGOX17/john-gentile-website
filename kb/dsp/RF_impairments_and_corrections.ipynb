{
 "cells": [
  {
   "cell_type": "markdown",
   "id": "7d2d55bd-9c8b-4812-b177-9a47b876d719",
   "metadata": {},
   "source": [
    "# RF Impairments & Corrections"
   ]
  },
  {
   "cell_type": "code",
   "execution_count": null,
   "id": "fb2ba9db-6e53-46d2-a5ed-745ada49dade",
   "metadata": {},
   "outputs": [],
   "source": [
    "from IPython.display import YouTubeVideo\n",
    "import numpy as np\n",
    "import matplotlib.pyplot as plt"
   ]
  },
  {
   "cell_type": "code",
   "execution_count": null,
   "id": "45193f42-dc01-4987-b482-9dbd60dc6274",
   "metadata": {},
   "outputs": [],
   "source": [
    "YouTubeVideo('PNMOwhEHE6w')"
   ]
  },
  {
   "cell_type": "code",
   "execution_count": null,
   "id": "a2408c0f-5552-4f59-8c00-0d5059a626a7",
   "metadata": {},
   "outputs": [],
   "source": [
    "YouTubeVideo('LBLvmNyAdSI')"
   ]
  },
  {
   "cell_type": "markdown",
   "id": "2617f632-7759-4db9-8144-f0320a82c4ff",
   "metadata": {},
   "source": [
    "## Noise\n",
    "\n"
   ]
  },
  {
   "cell_type": "markdown",
   "id": "3cea1a9c-1494-4287-bede-c7db0f437e1d",
   "metadata": {},
   "source": [
    "## DC Offset Removal"
   ]
  },
  {
   "cell_type": "markdown",
   "id": "8554fb56-0457-4d3a-ace5-c23bb187558e",
   "metadata": {},
   "source": [
    "## I/Q Offset Correction"
   ]
  },
  {
   "cell_type": "markdown",
   "id": "4fde20b3-d93f-4e2a-aeab-f60e6048955b",
   "metadata": {},
   "source": [
    "## Wireless Channels"
   ]
  },
  {
   "cell_type": "code",
   "execution_count": null,
   "id": "c0970f5d-dadb-422b-b441-ef23b2a09504",
   "metadata": {},
   "outputs": [],
   "source": [
    "N = 5000000\n",
    "EbNodB_range = range(11)\n",
    "itr = len(EbNodB_range)\n",
    "ber = [None]*itr\n",
    "\n",
    "for n in range (itr): \n",
    "    EbNodB = EbNodB_range[n]   \n",
    "    EbNo=10.0**(EbNodB/10.0)\n",
    "    x = 2 * (np.random.rand(N) >= 0.5) - 1\n",
    "    noise_std = 1/np.sqrt(2*EbNo)\n",
    "    y = x + noise_std * np.random.randn(N)\n",
    "    y_d = 2 * (y >= 0) - 1\n",
    "    errors = (x != y_d).sum()\n",
    "    ber[n] = 1.0 * errors / N\n",
    "\n",
    "plt.figure()\n",
    "plt.plot(EbNodB_range, ber, 'bo', EbNodB_range, ber, 'k')\n",
    "plt.axis([0, 10, 1e-6, 0.1])\n",
    "plt.xscale('linear')\n",
    "plt.yscale('log')\n",
    "plt.xlabel('EbNo(dB)')\n",
    "plt.ylabel('BER')\n",
    "plt.grid(True)\n",
    "plt.title('BPSK Modulation')\n",
    "plt.show()"
   ]
  },
  {
   "cell_type": "markdown",
   "id": "c2ffda28-d816-4134-8b49-cc87bdf0dd0b",
   "metadata": {},
   "source": [
    "## References\n",
    "\n",
    "* [Direct Conversion (Zero-IF) Receiver - Wireless Pi](https://wirelesspi.com/direct-conversion-zero-if-receiver/)\n",
    "* [Digitally Removing a DC Offset: DSP Without Mathematics](https://docs.xilinx.com/v/u/en-US/wp279)\n",
    "* [What does correcting I/Q do? - DSP Stack Exchange](https://dsp.stackexchange.com/questions/40734/what-does-correcting-iq-do)"
   ]
  }
 ],
 "metadata": {
  "language_info": {
   "name": "python"
  }
 },
 "nbformat": 4,
 "nbformat_minor": 5
}
