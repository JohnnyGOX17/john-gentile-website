{
 "cells": [
  {
   "cell_type": "markdown",
   "id": "17a8a85e-fbf8-4c7c-aa41-992323febd3b",
   "metadata": {},
   "source": [
    "# Time-Frequency Analysis"
   ]
  },
  {
   "cell_type": "markdown",
   "id": "759a850a-357d-4985-9665-79dd94c89099",
   "metadata": {},
   "source": [
    "## References\n",
    "\n",
    "- [Short-time Fourier Transform - Wikipedia](https://en.m.wikipedia.org/wiki/Short-time_Fourier_transform)\n",
    "  + [STFT SciPy](https://docs.scipy.org/doc/scipy/reference/generated/scipy.signal.stft.html)"
   ]
  }
 ],
 "metadata": {
  "kernelspec": {
   "display_name": "Python 3 (ipykernel)",
   "language": "python",
   "name": "python3"
  },
  "language_info": {
   "codemirror_mode": {
    "name": "ipython",
    "version": 3
   },
   "file_extension": ".py",
   "mimetype": "text/x-python",
   "name": "python",
   "nbconvert_exporter": "python",
   "pygments_lexer": "ipython3",
   "version": "3.12.4"
  }
 },
 "nbformat": 4,
 "nbformat_minor": 5
}
