{
 "cells": [
  {
   "cell_type": "markdown",
   "id": "17a8a85e-fbf8-4c7c-aa41-992323febd3b",
   "metadata": {},
   "source": [
    "# Time-Frequency Analysis"
   ]
  },
  {
   "cell_type": "markdown",
   "id": "4873b866-29ad-4ac6-afcc-e1978589e82a",
   "metadata": {
    "jp-MarkdownHeadingCollapsed": true
   },
   "source": [
    "## Fourier-Based Analysis Methods\n",
    "\n",
    "### Short-Time Fourier Transforms (STFTs)\n",
    "\n",
    "* [Short-time Fourier Transform - Wikipedia](https://en.m.wikipedia.org/wiki/Short-time_Fourier_transform)\n",
    "  + [STFT SciPy](https://docs.scipy.org/doc/scipy/reference/generated/scipy.signal.stft.html)\n",
    "\n",
    "### Polyphase Filter Bank (PFB) Channelizers\n",
    "\n",
    "For higher quality spectral analysis than STFT methods, one should use a filterbank approach instead of a windowed FFT. Put simply, the STFT approaches use a single multiplication per sample at the input of the FFT- a channelizer uses a polyphase filter for each input. With PFB filtering, much better spectral separation is achieved between the FFT bins compared to just windowing.\n",
    "\n",
    "For more info, see [the Multirate DSP page on PFB Channelizers](./Multirate_DSP.html#polyphase-filter-banks-pfbs-and-channelizers).\n",
    "\n",
    "* [Near Perfect Reconstruction Polyphase Filterbank - MATLAB Central](https://www.mathworks.com/matlabcentral/fileexchange/15813-near-perfect-reconstruction-polyphase-filterbank)"
   ]
  },
  {
   "cell_type": "markdown",
   "id": "759a850a-357d-4985-9665-79dd94c89099",
   "metadata": {},
   "source": [
    "## References\n",
    "\n"
   ]
  }
 ],
 "metadata": {
  "language_info": {
   "name": "python"
  }
 },
 "nbformat": 4,
 "nbformat_minor": 5
}
