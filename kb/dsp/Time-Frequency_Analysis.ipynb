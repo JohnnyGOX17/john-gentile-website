{
 "cells": [
  {
   "cell_type": "markdown",
   "id": "17a8a85e-fbf8-4c7c-aa41-992323febd3b",
   "metadata": {},
   "source": [
    "# Time-Frequency Analysis"
   ]
  },
  {
   "cell_type": "code",
   "execution_count": null,
   "id": "b300162a-b7e6-4f7f-95f8-66c6e7c53013",
   "metadata": {},
   "outputs": [],
   "source": [
    "import numpy as np\n",
    "import matplotlib.pyplot as plt\n",
    "from scipy import signal\n",
    "from rfproto import impairments, plot, sig_gen"
   ]
  },
  {
   "cell_type": "markdown",
   "id": "4873b866-29ad-4ac6-afcc-e1978589e82a",
   "metadata": {},
   "source": [
    "## Fourier-Based Analysis Methods\n",
    "\n",
    "### Short-Time Fourier Transforms (STFTs)\n",
    "\n",
    "* [Short-time Fourier Transform - Wikipedia](https://en.m.wikipedia.org/wiki/Short-time_Fourier_transform)\n",
    "  + [STFT SciPy](https://docs.scipy.org/doc/scipy/reference/generated/scipy.signal.stft.html)"
   ]
  },
  {
   "cell_type": "code",
   "execution_count": null,
   "id": "b2cc4c9b-f496-4a67-a9a7-79a5c55a60a4",
   "metadata": {},
   "outputs": [],
   "source": [
    "# simulate random binary input values\n",
    "num_symbols  = 2**15\n",
    "num_disp_sym = 16\n",
    "sym_rate     = 1e6 # Baseband symbol rate\n",
    "# Generate random QPSK symbols\n",
    "rand_symbols = np.random.randint(0, 4, num_symbols)\n",
    "\n",
    "L  = 4               # Upsample ratio (Samples per Symbol)\n",
    "fs = L * sym_rate    # Output sample rate (Hz)\n",
    "\n",
    "rolloff          = 0.25 # Alpha of RRC\n",
    "num_filt_symbols = 6    # Symbol length of RRC matched filter\n",
    "\n",
    "qpsk_tx_filtered = sig_gen.gen_mod_signal(\n",
    "    \"QPSK\",\n",
    "    rand_symbols,\n",
    "    fs,\n",
    "    sym_rate,\n",
    "    \"RRC\",\n",
    "    rolloff,\n",
    "    num_filt_symbols,\n",
    ")\n",
    "\n",
    "noise = impairments.awgn(-34, len(qpsk_tx_filtered))\n",
    "qpsk_sig = qpsk_tx_filtered + noise"
   ]
  },
  {
   "cell_type": "code",
   "execution_count": null,
   "id": "f3acf8f6-d118-4345-ab62-8c5497d7c878",
   "metadata": {},
   "outputs": [],
   "source": [
    "w = signal.windows.hamming(31)\n",
    "plot.spectrogram(qpsk_sig, w, 2048, 64, 34)"
   ]
  },
  {
   "cell_type": "markdown",
   "id": "ca098e31-43ca-4d73-962a-09151bc58134",
   "metadata": {},
   "source": [
    "### Polyphase Filter Bank (PFB) Channelizers\n",
    "\n",
    "For higher quality spectral analysis than STFT methods, one should use a filterbank approach instead of a windowed FFT. Put simply, the STFT approaches use a single multiplication per sample at the input of the FFT- a channelizer uses a polyphase filter for each input. With PFB filtering, much better spectral separation is achieved between the FFT bins compared to just windowing.\n",
    "\n",
    "For more info, see [the Multirate DSP page on PFB Channelizers](./Multirate_DSP.html#polyphase-filter-banks-pfbs-and-channelizers).\n",
    "\n",
    "* [ ] [Near Perfect Reconstruction Polyphase Filterbank - MATLAB Central](https://www.mathworks.com/matlabcentral/fileexchange/15813-near-perfect-reconstruction-polyphase-filterbank)"
   ]
  },
  {
   "cell_type": "markdown",
   "id": "759a850a-357d-4985-9665-79dd94c89099",
   "metadata": {},
   "source": [
    "## References\n",
    "\n"
   ]
  }
 ],
 "metadata": {
  "language_info": {
   "name": "python"
  }
 },
 "nbformat": 4,
 "nbformat_minor": 5
}
