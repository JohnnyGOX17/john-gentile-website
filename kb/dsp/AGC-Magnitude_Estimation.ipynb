{
 "cells": [
  {
   "cell_type": "markdown",
   "id": "d9d84a2f-4a13-4376-b60f-95c80d3d2a34",
   "metadata": {},
   "source": [
    "# Magnitude Estimation & Automatic Gain Control (AGC)"
   ]
  },
  {
   "cell_type": "code",
   "execution_count": null,
   "id": "bf81ebb4-0554-42d5-b434-11df9e871e4e",
   "metadata": {},
   "outputs": [],
   "source": [
    "import numpy as np\n",
    "import matplotlib.pyplot as plt\n",
    "from rfproto import utils, agc_magest\n",
    "# to support function type hinting w/Python < 3.10\n",
    "from __future__ import annotations"
   ]
  },
  {
   "attachments": {
    "2635fe2d-02a4-493b-af4d-dc45d0d48465.png": {
     "image/png": "[encoded data removed]"
    }
   },
   "cell_type": "markdown",
   "id": "1e216a22-6dfe-4295-920a-7f7326983d74",
   "metadata": {},
   "source": [
    "To get the instantaneous magnitude of a sample from it’s rectangular I/Q coordinates, one can use the Pythagorean theorem: $I^{2}+Q^{2}$. In high-throughput code however, the square-root operation is a very costly, iterative process; for instance, even the AVX-512 SIMD intrinsic `_mm512_sqrt_ps` has an instruction latency of 19 cycles and- even worse- a CPI ([Cycles per Instruction](https://en.wikipedia.org/wiki/Cycles_per_instruction)) of 12 (ignoring the fact that it only supports floating-point data types as well). In digital HW (e.g. FPGA), the square root operation can be even more untenable.\n",
    "\n",
    "![image.png](attachment:2635fe2d-02a4-493b-af4d-dc45d0d48465.png)\n",
    "\n",
    "The _Alpha-Max Beta-Min estimator_ is an efficient, low-latency, low-resource magnitude estimator defined by:\n",
    "$$ \\text{Magnitude} \\approx \\alpha \\cdot \\text{max}(|I|, |Q|) + \\beta \\cdot \\text{min}(|I|, |Q|) $$\n",
    "\n",
    "It operates by:\n",
    "> The absolute value operations folds the complex number into the range of 0-90 degrees, and the min, max operations further fold the complex number into the range of 0-45 degrees. Within this limited range, a linear combination of I and Q are a good approximation of magnitude.\n",
    "\n",
    "The maximum and average magnitude estimation error (compared to floating-point truth) for different coefficients can be calculated as:"
   ]
  },
  {
   "cell_type": "code",
   "execution_count": null,
   "id": "563de1ac-b095-491d-ab13-45292e98405b",
   "metadata": {},
   "outputs": [],
   "source": [
    "# given phase wrapping of |theta|, need only test 0->45deg\n",
    "test_phases = np.linspace(0, np.pi/4, 1025)\n",
    "test_IQ     = np.cos(test_phases) + 1j*np.sin(test_phases)\n",
    "test_mag    = np.abs(test_IQ)\n",
    "\n",
    "peak_detect = agc_magest.alphaMax_betaMin(test_IQ, 1, 0)\n",
    "a1_b1_2     = agc_magest.alphaMax_betaMin(test_IQ, 1, 0.5)\n",
    "a1_b1_4     = agc_magest.alphaMax_betaMin(test_IQ, 1, 0.25)\n",
    "a15_b15_32  = agc_magest.alphaMax_betaMin(test_IQ, 15/16, 15/32)\n",
    "a15_b1_2    = agc_magest.alphaMax_betaMin(test_IQ, 15/16, 1/2)\n",
    "# \"closest geometric approximation\" (minimum error) from: https://en.wikipedia.org/wiki/Alpha_max_plus_beta_min_algorithm\n",
    "a0 = (2*np.cos(np.pi/8))/(1+np.cos(np.pi/8))\n",
    "b0 = (2*np.sin(np.pi/8))/(1+np.cos(np.pi/8))\n",
    "ab_min_err  = agc_magest.alphaMax_betaMin(test_IQ, a0, b0)\n",
    "\n",
    "peak_detect_err = 100*(test_mag - peak_detect)/test_mag\n",
    "a1_b1_2_err     = 100*(test_mag - a1_b1_2)/test_mag\n",
    "a1_b1_4_err     = 100*(test_mag - a1_b1_4)/test_mag\n",
    "a15_b15_32_err  = 100*(test_mag - a15_b15_32)/test_mag\n",
    "a15_b1_2_err    = 100*(test_mag - a15_b1_2)/test_mag\n",
    "ab_min_err_err  = 100*(test_mag - ab_min_err)/test_mag\n",
    "\n",
    "# create zero mean error a0/b0 values\n",
    "avg_a0b0_err = np.mean(ab_min_err_err/100)\n",
    "a0_z0 = a0/(1 - avg_a0b0_err)\n",
    "b0_z0 = b0/(1 - avg_a0b0_err)\n",
    "ab_min_err_z0     = agc_magest.alphaMax_betaMin(test_IQ, a0_z0, b0_z0)\n",
    "ab_min_err_err_z0 = 100*(test_mag - ab_min_err_z0)/test_mag\n",
    "\n",
    "plt.plot(180*test_phases/np.pi, peak_detect_err, color='red',\n",
    "         label=r\"Peak Detect ($\\alpha = 1, \\beta = 0$)\")\n",
    "plt.plot(180*test_phases/np.pi, a1_b1_2_err, color='grey',\n",
    "         label=r\"$\\alpha = 1, \\beta = 1/2$\")\n",
    "plt.plot(180*test_phases/np.pi, a1_b1_4_err, color='blue',\n",
    "         label=r\"$\\alpha = 1, \\beta = 1/4$\")\n",
    "plt.plot(180*test_phases/np.pi, a15_b15_32_err, color='green',\n",
    "         label=r\"$\\alpha = 15/16, \\beta = 15/32$\")\n",
    "plt.plot(180*test_phases/np.pi, a15_b1_2_err, color='black',\n",
    "         label=r\"$\\alpha = 15/16, \\beta = 1/2$\")\n",
    "plt.plot(180*test_phases/np.pi, ab_min_err_err, color='purple',\n",
    "         label=r\"$\\alpha = \\alpha_{0}, \\beta = \\beta_{0}$\")\n",
    "plt.plot(180*test_phases/np.pi, ab_min_err_err_z0, color='orange', linestyle='dashed',\n",
    "         label=r\"$\\alpha = \\alpha_{0}, \\beta = \\beta_{0}$ (zero mean)\")\n",
    "plt.legend()\n",
    "plt.title('Magnitude Estmation Error over Phase Angle')\n",
    "plt.xlabel('Angle (degrees)')\n",
    "plt.ylabel('Error Compared to True Magnitude (%)')\n",
    "plt.show()\n",
    "\n",
    "def print_err_stats(a: str, b: str, err: list[float]):\n",
    "    print(f\"Max (mean) error a={a}, b={b}: {max(abs(err)):.2f}% ({np.mean(err):.2f}%)\")\n",
    "\n",
    "print_err_stats('1', '0', peak_detect_err)\n",
    "print_err_stats('1', '1/2', a1_b1_2_err)\n",
    "print_err_stats('1', '1/4', a1_b1_4_err)\n",
    "print_err_stats('15/16', '15/32', a15_b15_32_err)\n",
    "print_err_stats('15/16', '1/2', a15_b1_2_err)\n",
    "print_err_stats(str(a0), str(b0), ab_min_err_err)\n",
    "print_err_stats(str(a0_z0), str(b0_z0), ab_min_err_err_z0)"
   ]
  },
  {
   "cell_type": "markdown",
   "id": "72899892-fe10-4ef4-8f3a-a0b50c2440e8",
   "metadata": {},
   "source": [
    "Several observations can be seen based on various $\\alpha,\\beta$ coefficient values:\n",
    "* In digital HW, a multiplier-less implementation can be achieved with fractional coefficients such as $\\alpha = 1$ and $\\beta = 1/4$; dividing a value by $2^{N}$ is simply achieved by right-shifting a value by $N$ bits.\n",
    "* The geometric coefficients of $\\alpha_{0} = \\frac{2\\cos(\\pi/8)}{1+\\cos(\\pi/8)}, \\quad \\beta_{0} = \\frac{2\\sin(\\pi/8)}{1+\\cos(\\pi/8)}$ have the lowest overall error, but require two multipliers.\n",
    "* Moreover, in an algorithm which averages, or accumulates, these values over time (e.x. in an Automatic Gain Control (AGC) loop), it's desirable to have coefficients with zero mean error, such that over time the overall error goes to 0. These are the last coefficients found by using the lowest error geometric coefficients and removing the mean bias over the sweep of phase values $0 \\rightarrow \\pi/4$\n",
    "\n",
    "To find the associated `short` (signed 16 bit integer) values of these coefficients:"
   ]
  },
  {
   "cell_type": "code",
   "execution_count": null,
   "id": "812c8896-5c52-487b-b39e-6ce6adfc9011",
   "metadata": {},
   "outputs": [],
   "source": [
    "# scale a0/b0 decimal values -> FXP integer\n",
    "bit_width = 16\n",
    "\n",
    "# Q0.15 format so bit_width - 1 is # of fractional bits\n",
    "# Golden 15b values: a0_fxp = 31068, b0_fxp = 12870\n",
    "a0_fxp = utils.dbl_to_fxp(a0_z0, bit_width - 1)\n",
    "# In testing, +1 to b0 actually gives slightly lower error w/mulhrs rounding scheme\n",
    "b0_fxp = utils.dbl_to_fxp(b0_z0, bit_width - 1) + 1\n",
    "print(f\"{bit_width}b FXP a0 = {a0_fxp}, b0 = {b0_fxp}\")"
   ]
  },
  {
   "cell_type": "markdown",
   "id": "56b7f604-d839-4803-988a-e53b9f4b3012",
   "metadata": {},
   "source": [
    "### Average Error over Time\n",
    "\n",
    "We can show that over time, these coefficients average out to zero error next.\n",
    "\n",
    "**NOTE:** In `numpy` the `abs()` function computes the magnitude of each complex sample as in $\\sqrt{i^{2} + q^{2}}$. The floating-point value is then rounded, to match integer representation of fixed-point values."
   ]
  },
  {
   "cell_type": "code",
   "execution_count": null,
   "id": "bd69e014-8364-44b9-84ef-daf88792107e",
   "metadata": {},
   "outputs": [],
   "source": [
    "true_avg = 0 # true, running average of real mag values, calculated after each iteration\n",
    "est_avg  = 0 # running average based on magnitude estimation method\n",
    "\n",
    "N = 1024 # number of I/Q samples to show convergence\n",
    "mag_est_phase     = np.zeros(N, dtype=np.int32) # est. magnitude values\n",
    "mag_est_phase_err = np.zeros(N)                 # accumulation of error average magnitudes\n",
    "mag_true_phase    = np.zeros(N)\n",
    "\n",
    "# simulate FXP SIMD mag est. math (e.g. _mm512_mulhrs_epi16 instruction) using scaled a0/b0 constants\n",
    "def mulhrs(iq_samp: complex, a_fxp: int, b_fxp: int) -> int:\n",
    "    # create intermediate 32b value\n",
    "    int_prod = a_fxp*max(abs(iq_samp.real), abs(iq_samp.imag)) + b_fxp*min(abs(iq_samp.real), abs(iq_samp.imag))\n",
    "    # model rounding & final scaling (keep only lower 16 LSBs) \n",
    "    return ((int(int_prod) >> 14) + 1) >> 1\n",
    "\n",
    "for i in range(N):\n",
    "    # calculate across all phase angles\n",
    "    temp_phase = i*(np.pi/100)\n",
    "    temp_IQ    = np.cos(temp_phase) + 1j*np.sin(temp_phase)\n",
    "    temp_IQ    = np.round(temp_IQ * (2**15))\n",
    "    \n",
    "    mag_true_phase[i] = np.abs(temp_IQ)\n",
    "    true_avg = np.sum(mag_true_phase[:i+1])/(i+1)\n",
    "    \n",
    "    mag_est_phase[i]= mulhrs(temp_IQ, a0_fxp, b0_fxp)\n",
    "    est_avg = np.sum(mag_est_phase[:i+1])/(i+1)\n",
    "    if true_avg: # check for /0\n",
    "        mag_est_phase_err[i] = 100*(est_avg - true_avg)/true_avg\n",
    "    else:\n",
    "        mag_est_phase_err[i] = 0\n",
    "\n",
    "plt.title('Average FXP Magnitude Estmation Error over Sample Count')\n",
    "plt.xlabel('Average Magnitude Estimation Sample Size')\n",
    "plt.ylabel('Error to True Average Magnitude (%)')\n",
    "plt.plot(mag_est_phase_err,\n",
    "         label=r\"$0 \\leq \\theta \\leq \\pi/4$\")\n",
    "plt.legend()\n",
    "plt.show()\n",
    "\n",
    "conv_err = np.mean(mag_est_phase_err[-10:-1])\n",
    "print(f\"Converged error over accumulated averages: {conv_err:.6f}%\")\n",
    "print(f\"Error quantized to 15b magnitude: {(conv_err/100)*(2**15):.6f}\\n\")"
   ]
  },
  {
   "cell_type": "markdown",
   "id": "5dc7d65d-80c2-4133-9f81-182446031fbe",
   "metadata": {},
   "source": [
    "### Received Signal Strength Indication (RSSI) \n",
    "\n",
    "With $N$ number of magnitude estimation values, the average magnitude can be found, which also models the discrete-time energy computation of:\n",
    "\n",
    "$$ E[x] = \\frac{1}{N}\\sum|x^{2}| $$\n",
    "\n",
    "Given the above average magnitude calculation ($\\approx I^{2} + Q^{2}$), we can convert to a dBFS (dB full-scale) value by taking $20\\log_{10}()$ of the normalized magnitude (e.g. magnitude calculation divided by full-scale integer/FXP value)."
   ]
  },
  {
   "cell_type": "markdown",
   "id": "9e6c5e36-11ad-4f5d-b349-40f493724964",
   "metadata": {},
   "source": [
    "## References\n",
    "\n",
    "* [Alpha Max plus Beta Min Algorithm - WikiPedia](https://en.wikipedia.org/wiki/Alpha_max_plus_beta_min_algorithm)\n",
    "* [Magnitude Estimator - DSP Guru](https://dspguru.com/dsp/tricks/magnitude-estimator/)"
   ]
  }
 ],
 "metadata": {
  "language_info": {
   "name": "python"
  }
 },
 "nbformat": 4,
 "nbformat_minor": 5
}
