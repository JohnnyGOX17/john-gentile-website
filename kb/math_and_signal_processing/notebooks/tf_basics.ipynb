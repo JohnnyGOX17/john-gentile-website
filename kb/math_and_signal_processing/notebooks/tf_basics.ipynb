{
 "cells": [
  {
   "cell_type": "markdown",
   "metadata": {},
   "source": [
    "This is a `test` markdown cell.\n",
    "$e^{i\\pi} + 1 = 0$"
   ]
  },
  {
   "cell_type": "code",
   "execution_count": 1,
   "metadata": {},
   "outputs": [
    {
     "name": "stdout",
     "output_type": "stream",
     "text": [
      "Tensorflow version:  2.2.0\n",
      "Tensorflow built with CUDA?  True\n",
      "All devices:  [PhysicalDevice(name='/physical_device:CPU:0', device_type='CPU'), PhysicalDevice(name='/physical_device:XLA_CPU:0', device_type='XLA_CPU'), PhysicalDevice(name='/physical_device:XLA_GPU:0', device_type='XLA_GPU'), PhysicalDevice(name='/physical_device:GPU:0', device_type='GPU')]\n",
      "GPU devices:  [PhysicalDevice(name='/physical_device:GPU:0', device_type='GPU')]\n",
      "tf.Tensor(-0.07034129, shape=(), dtype=float32)\n"
     ]
    }
   ],
   "source": [
    "import tensorflow as tf\n",
    "\n",
    "# Check TF version & if CUDA is supported\n",
    "print(\"Tensorflow version: \", tf.__version__)\n",
    "print(\"Tensorflow built with CUDA? \", tf.test.is_built_with_cuda())\n",
    "\n",
    "# Print regular & CUDA devices present\n",
    "print(\"All devices: \", tf.config.list_physical_devices(device_type=None))\n",
    "print(\"GPU devices: \", tf.config.list_physical_devices(device_type='GPU'))\n",
    "\n",
    "# Print a randomly generated tensor\n",
    "print(tf.math.reduce_sum(tf.random.normal([1, 10])))"
   ]
  }
 ],
 "metadata": {
  "kernelspec": {
   "display_name": "Python 3",
   "language": "python",
   "name": "python3"
  },
  "language_info": {
   "codemirror_mode": {
    "name": "ipython",
    "version": 3
   },
   "file_extension": ".py",
   "mimetype": "text/x-python",
   "name": "python",
   "nbconvert_exporter": "python",
   "pygments_lexer": "ipython3",
   "version": "3.8.5"
  }
 },
 "nbformat": 4,
 "nbformat_minor": 4
}
