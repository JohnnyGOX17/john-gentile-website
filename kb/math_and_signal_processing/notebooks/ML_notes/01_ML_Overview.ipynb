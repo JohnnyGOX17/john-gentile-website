{
 "cells": [
  {
   "cell_type": "markdown",
   "metadata": {},
   "source": [
    "# Machine Learning Overview\n",
    "\n",
    "> A computer program is said to learn from experience E with respect to some task T and some performance measure P, if its performance on T, as measured by P, improves with experience E.- Tom Mitchell (1997)\n",
    "\n"
   ]
  },
  {
   "cell_type": "markdown",
   "metadata": {},
   "source": [
    "## When to Use Machine Learning\n",
    "\n",
    "todo..."
   ]
  },
  {
   "cell_type": "markdown",
   "metadata": {},
   "source": [
    "## Types of Machine Learning Systems\n",
    "\n",
    "ML systems can be broadly categorized by:\n",
    "- If they are trained with human supervision/intervention (e.g. [supervised](#supervised_learning), [unsupervised](#unsupervised_learning), semisupervised, and Reinforcement Learning)\n",
    "- If they can learn incrementally (e.g. online versus batch learning)\n",
    "- If they can work by comparing new data points to known ones, or rather by interpreting patterns in training data to build predictive a model (e.g. instance-based vs model-based learning)"
   ]
  },
  {
   "cell_type": "markdown",
   "metadata": {},
   "source": [
    "<a id='supervised_learning'></a>\n",
    "### Supervised Learning\n",
    "\n",
    "Here the training dataset you feed the ML model includes the desired solutions/outcomes which are called _labels_. Some typical applications of Supervised Learning are:\n",
    "- **Classification:** many image classification tasks fit this model, such as a passing a training data set of different looks of images, each labeled by a specific _class_ (like \"cat\", \"dog\", \"giraffe\", etc.)\n",
    "- **Regression:** for example a model can be given a set of _features/attributes_ like mileage, age, brand, etc. (called _predictors_) to predict a _target_ car price. The label would still be the attributed price given a certain configuration of predictors.\n",
    "- **Logistic Regression:** outputs a value, but can be used for classification, for instance outputting a probability of an input sample belonging to a given class."
   ]
  },
  {
   "cell_type": "markdown",
   "metadata": {},
   "source": [
    "<a id='unsupervised_learning'></a>\n",
    "### Unsupervised Learning\n",
    "\n",
    "Here the training dataset fed to the ML model is unlabeled, so the system must learn without an explicit \"teacher\". Some examples of unsupervised learning applications are:\n",
    "- **Clustering:** here the model will try and \"cluster\" or group data sets for you\n",
    "- **Visualization:** "
   ]
  },
  {
   "cell_type": "code",
   "execution_count": null,
   "metadata": {},
   "outputs": [],
   "source": []
  }
 ],
 "metadata": {
  "kernelspec": {
   "display_name": "Python 3",
   "language": "python",
   "name": "python3"
  },
  "language_info": {
   "codemirror_mode": {
    "name": "ipython",
    "version": 3
   },
   "file_extension": ".py",
   "mimetype": "text/x-python",
   "name": "python",
   "nbconvert_exporter": "python",
   "pygments_lexer": "ipython3",
   "version": "3.8.2"
  }
 },
 "nbformat": 4,
 "nbformat_minor": 4
}
