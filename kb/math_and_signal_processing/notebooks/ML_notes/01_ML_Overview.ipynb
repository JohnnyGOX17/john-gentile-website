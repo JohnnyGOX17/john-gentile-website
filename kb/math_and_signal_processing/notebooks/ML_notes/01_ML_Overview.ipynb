{
 "cells": [
  {
   "cell_type": "markdown",
   "metadata": {},
   "source": [
    "# Machine Learning Overview\n",
    "\n",
    "> A computer program is said to learn from experience E with respect to some task T and some performance measure P, if its performance on T, as measured by P, improves with experience E.- Tom Mitchell (1997)\n",
    "\n"
   ]
  },
  {
   "cell_type": "markdown",
   "metadata": {},
   "source": [
    "## When to Use Machine Learning\n",
    "\n",
    "todo..."
   ]
  },
  {
   "cell_type": "markdown",
   "metadata": {},
   "source": [
    "## Types of Machine Learning Systems\n",
    "\n",
    "ML systems can be broadly categorized by:\n",
    "- If they are trained with human supervision/intervention (e.g. [supervised](#supervised_learning), [unsupervised](#unsupervised_learning), [semisupervised](#semisupervised_learning), and [Reinforcement Learning](#reinforcement_learning))\n",
    "- If they can learn incrementally (e.g. online versus batch learning)\n",
    "- If they can work by comparing new data points to known ones, or rather by interpreting patterns in training data to build predictive a model (e.g. instance-based vs model-based learning)"
   ]
  },
  {
   "cell_type": "markdown",
   "metadata": {},
   "source": [
    "<a id='supervised_learning'></a>\n",
    "### Supervised Learning\n",
    "\n",
    "Here the training dataset you feed the ML model includes the desired solutions/outcomes which are called _labels_. Some typical applications of Supervised Learning are:\n",
    "- **Classification:** many image classification tasks fit this model, such as a passing a training data set of different looks of images, each labeled by a specific _class_ (like \"cat\", \"dog\", \"giraffe\", etc.)\n",
    "- **Regression:** for example a model can be given a set of _features/attributes_ like mileage, age, brand, etc. (called _predictors_) to predict a _target_ car price. The label would still be the attributed price given a certain configuration of predictors.\n",
    "- **Logistic Regression:** outputs a value, but can be used for classification, for instance outputting a probability of an input sample belonging to a given class."
   ]
  },
  {
   "cell_type": "markdown",
   "metadata": {},
   "source": [
    "<a id='unsupervised_learning'></a>\n",
    "### Unsupervised Learning\n",
    "\n",
    "Here the training dataset fed to the ML model is unlabeled, so the system must learn without an explicit \"teacher\". Some examples of unsupervised learning applications are:\n",
    "- **Clustering:** here the model will try and \"cluster\" or group data sets for you. If using a _hierarchical clustering_ algorithm, it also may subdivide each group into smaller groups.\n",
    "- **Visualization:** these algorithms are great for visualizing a 2D, or 3D, representation of your unlabeled dataset while maintaining clustering structure.\n",
    "- **Dimensionality Reduction:** here the goal is to simplify an input dataset without losing too much information by learning to merge correlated features into one, called _feature extraction_. Note that using this dimension reduction on very complex input training data is a great idea before feeding that dataset into another ML algorithm; the feature extraction can help to reduce the dataset size (e.g. to run faster) and may even improve performance of the ML algorithm.\n",
    "- **Anomaly Detection:** for applications like fraud detection (or anything where we want to detect \"unusualness\" in a dataset), we show mostly \"normal\" instances during training so when a \"new instance\" is seen, it can tell whether it looks like a normal one or an anomaly.\n",
    "- **Association Rule Learning:** here the goal is for the algorithm to discover new/interesting relations between attributes in a dataset."
   ]
  },
  {
   "cell_type": "markdown",
   "metadata": {},
   "source": [
    "<a id='semisupervised_learning'></a>\n",
    "### Semisupervised Learning\n",
    "\n",
    "Labeling data can be a costly activity so some _semisupervised learning_ algorithms can deal with partially labeled datasets. Many are a combination of supervised and unsupervised learning algorithms. For instance for Google Photos, you can upload a bunch of pictures and the unsupervised part of the system will cluster faces/people, and then when you label a person (technically the supervised part), it is able to use that label across any other photos it has clustered already; this is common for searching for people across unlabeled photos."
   ]
  },
  {
   "cell_type": "markdown",
   "metadata": {},
   "source": [
    "<a id='reinforcement_learning'></a>\n",
    "### Reinforcement Learning\n",
    "\n",
    "_Reinforcement Learning_ (RL) is very different compared to the (un)supervised learning methods; in this system, the learning model- called an _agent_- can observe the given environment, perform actions, and then get _rewards_ (positive reinforcement) or _penalties_ (negative reinforcement) in return. Based on the reinforcement, the system must then learn the best strategy to optimize positive rewards over time, called a _policy_; a policy is an action the agent should choose in a given situation.\n",
    "\n",
    "RL is used often in how robots learn to walk, or famously how DeepMind's AlphaGo program learned to play the complicated game of Go:"
   ]
  },
  {
   "cell_type": "code",
   "execution_count": 1,
   "metadata": {},
   "outputs": [
    {
     "data": {
      "text/html": [
       "\n",
       "        <iframe\n",
       "            width=\"560\"\n",
       "            height=\"315\"\n",
       "            src=\"https://www.youtube.com/embed/WXuK6gekU1Y\"\n",
       "            frameborder=\"0\"\n",
       "            allowfullscreen\n",
       "        ></iframe>\n",
       "        "
      ],
      "text/plain": [
       "<IPython.lib.display.IFrame at 0x7fe0a55b2340>"
      ]
     },
     "execution_count": 1,
     "metadata": {},
     "output_type": "execute_result"
    }
   ],
   "source": [
    "from IPython.display import IFrame\n",
    "IFrame('https://www.youtube.com/embed/WXuK6gekU1Y', width=560, height=315)"
   ]
  },
  {
   "cell_type": "code",
   "execution_count": null,
   "metadata": {},
   "outputs": [],
   "source": []
  }
 ],
 "metadata": {
  "kernelspec": {
   "display_name": "Python 3",
   "language": "python",
   "name": "python3"
  },
  "language_info": {
   "codemirror_mode": {
    "name": "ipython",
    "version": 3
   },
   "file_extension": ".py",
   "mimetype": "text/x-python",
   "name": "python",
   "nbconvert_exporter": "python",
   "pygments_lexer": "ipython3",
   "version": "3.8.5"
  },
  "toc-autonumbering": false,
  "toc-showmarkdowntxt": false
 },
 "nbformat": 4,
 "nbformat_minor": 4
}
