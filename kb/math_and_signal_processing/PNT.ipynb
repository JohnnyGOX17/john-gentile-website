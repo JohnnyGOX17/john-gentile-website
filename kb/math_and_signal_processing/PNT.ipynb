{
 "cells": [
  {
   "cell_type": "markdown",
   "id": "516a27ad-8d81-41bf-b580-427e1f53e190",
   "metadata": {},
   "source": [
    "# Position Navigation and Timing (PNT)"
   ]
  },
  {
   "cell_type": "markdown",
   "id": "0d4ad9d3-1357-489f-940a-e9dde11f9f36",
   "metadata": {},
   "source": [
    "## GPS\n"
   ]
  },
  {
   "cell_type": "markdown",
   "id": "24ba224f-236b-4cd5-abd9-bfadbe6f1d80",
   "metadata": {},
   "source": [
    "### References\n",
    "\n",
    "* [Building a GPS Receiver - Phillip Tennen](https://axleos.com/building-a-gps-receiver-part-1-hearing-whispers/): great blog and [software source (gypsum)](https://github.com/codyd51/gypsum) on making a GPS receiver from a simple RTL-SDR.\n",
    "* [GPS Receiver Acquisition and Tracking Using C/A-Code](https://www.mathworks.com/help/satcom/ug/gps-receiver-acquisition-and-tracking-using-ca-code.html)\n",
    "* [GPS disciplined oscillator - Wikipedia](https://en.wikipedia.org/wiki/GPS_disciplined_oscillator)\n",
    "* [osqzss/gps-sdr-sim](https://github.com/osqzss/gps-sdr-sim): software-defined GPS Signal Simulator.\n",
    "* [JiaoXianjun/GNSS-GPS-SDR](https://github.com/JiaoXianjun/GNSS-GPS-SDR): some efforts on GPS replay, receive and test."
   ]
  },
  {
   "cell_type": "markdown",
   "id": "a5b779e3-6d9f-4e0d-b9fd-cb7bdaaaa660",
   "metadata": {},
   "source": [
    "## Other Methods of PNT\n",
    "\n",
    "### Blind Signal Receiver for PNT\n",
    "\n",
    "* [Signal Structure of the Starlink Ku-Band Downlink](https://radionavlab.ae.utexas.edu/wp-content/uploads/starlink_structure.pdf): Abstract—We develop a technique for blind signal identification of the Starlink downlink signal in the 10.7 to 12.7 GHz band and present a detailed picture of the signal’s structure. Importantly, the signal characterization offered herein includes the exact values of synchronization sequences embedded in the signal that can be exploited to produce pseudorange measurements. Such an understanding of the signal is essential to emerging efforts that seek to dual-purpose Starlink signals for positioning, navigation, and timing, despite their being designed solely for broadband Internet provision.\n",
    "  + https://radionavlab.ae.utexas.edu/publications/ has interesting research on PNT and distributed array effects.\n",
    "* [Multi-Constellation Blind Beacon Estimation, Doppler Tracking, and Opportunistic Positioning with OneWeb, Starlink, Iridium NEXT, and Orbcomm LEO Satellites](https://people.engineering.osu.edu/sites/default/files/2023-05/Kassas_Multi_constellation_blind_beacon_estimation_Doppler_tracking_and_opportunistic_positioning_with_OneWeb_Starlink_Iridium_NEXT_and_Orbcomm_LEO_satellites.pdf)\n",
    "* [Unveiling Starlink LEO Satellite OFDM-Like Signal Structure Enabling Precise Positioning](https://ieeexplore.ieee.org/document/10098597)\n",
    "* [Receiver Design for Doppler Positioning with Leo Satellites](https://ieeexplore.ieee.org/document/8682554)\n",
    "* [CCSDS Data Transmission and PN Ranging for 2 GHz CDMA Link via Data Relay Satellite](https://public.ccsds.org/Pubs/415x1b1.pdf)\n",
    "\n",
    "### Known Terrestrial Signals\n",
    "\n",
    "* [LTE Disciplined Oscillator](https://rfnm.io/docs/software/disciplined-oscillator)"
   ]
  }
 ],
 "metadata": {
  "language_info": {
   "name": "python"
  }
 },
 "nbformat": 4,
 "nbformat_minor": 5
}
