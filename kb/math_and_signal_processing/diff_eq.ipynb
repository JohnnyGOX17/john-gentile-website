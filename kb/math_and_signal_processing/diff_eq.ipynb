{
 "cells": [
  {
   "cell_type": "markdown",
   "id": "e8ff827d-802b-43f7-9176-a11cac2c4348",
   "metadata": {},
   "source": [
    "# Differential Equations\n",
    "\n",
    "## Overview\n",
    "\n",
    "Differential equations are important for fields such as engineering, physics, science and others as they have phenomena that are best described, modeled and solved via differential equations. Ordinary differential equations are differential equations that depend on a single variable. Complex differential equations that are dependent on more than one variable are partial differential equations."
   ]
  },
  {
   "cell_type": "code",
   "execution_count": null,
   "id": "e7e7495a-2635-4d6f-ae45-99c3b5b4fbfe",
   "metadata": {},
   "outputs": [],
   "source": [
    "from sympy import *\n",
    "x, y, z = symbols('x y z')\n",
    "init_printing()"
   ]
  },
  {
   "cell_type": "markdown",
   "id": "59e13043-750c-4af7-b9b0-ee3207d7a5c4",
   "metadata": {},
   "source": [
    "## Ordinary Differential Equations (ODEs)\n",
    "### First-Order ODEs\n",
    "\n",
    "The simplest ODEs are first-order because they involve the first derivative of an unknown function and no higher derivatives; specific differential equations are generally described of order _n_ where the _nth_ derivative of the unknown function is the highest derivative present. These unknown functions represent $$ y(x) $$ or $$ y(t) $$ depending on the units in question.\n",
    "\n",
    "Thus, a _first-order ODE_ takes the explicit form:\n",
    "$$  y{}'=f(x,y)  $$"
   ]
  },
  {
   "cell_type": "markdown",
   "id": "6e0025b8-609a-4411-b20d-4f96fe7cf886",
   "metadata": {},
   "source": [
    "### Solving\n",
    "\n",
    "Using Sympy, can represent the differential equation $ f''(x) - 2f'(x) + f(x) = \\sin(x)$:"
   ]
  },
  {
   "cell_type": "code",
   "execution_count": null,
   "id": "cdb90f07-a279-489e-8741-560bb36a2b7f",
   "metadata": {},
   "outputs": [],
   "source": [
    "# Create an undefined functions f(x) and g(x)\n",
    "f, g = symbols('f g', cls=Function)\n",
    "diffeq = Eq(f(x).diff(x, x) - 2*f(x).diff(x) + f(x), sin(x))\n",
    "diffeq"
   ]
  },
  {
   "cell_type": "code",
   "execution_count": null,
   "id": "e2770642-960a-4986-9068-7d1602b38f34",
   "metadata": {},
   "outputs": [],
   "source": [
    "# solve using `dsolve` with arbitrary constants C1, C2, etc.\n",
    "dsolve(diffeq, f(x))"
   ]
  },
  {
   "cell_type": "markdown",
   "id": "1e98d0cb-152a-4156-abee-3b8221459bf5",
   "metadata": {},
   "source": [
    "## Partial Differential Equations (PDEs)"
   ]
  },
  {
   "cell_type": "markdown",
   "id": "fe6ffb32-526f-4e0d-82be-b6ac9fc5b659",
   "metadata": {},
   "source": [
    "## References\n",
    "\n",
    "- [Advanced Engineering Mathematics 10th Edition - Erwin Kreyszig](https://www.amazon.com/Advanced-Engineering-Mathematics-Enhanced-eText/dp/0470458364)"
   ]
  }
 ],
 "metadata": {
  "language_info": {
   "name": "python"
  }
 },
 "nbformat": 4,
 "nbformat_minor": 5
}
