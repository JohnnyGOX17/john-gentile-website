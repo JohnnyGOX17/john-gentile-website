{
 "cells": [
  {
   "cell_type": "markdown",
   "id": "40780732-b250-42cf-a242-9b55b043c6cb",
   "metadata": {},
   "source": [
    "# Orbital Mechanics"
   ]
  },
  {
   "cell_type": "markdown",
   "id": "4c33840c-7794-4323-a3f2-9570de30aec4",
   "metadata": {},
   "source": [
    "## Overview\n",
    "\n",
    "[Rocket Equation](https://en.wikipedia.org/wiki/Tsiolkovsky_rocket_equation)\n",
    "\n",
    "## Tools & Simulators\n",
    "\n",
    "* [Basilisk: an Astrodynamics Simulation Framework](http://hanspeterschaub.info/basilisk/)\n",
    "\n",
    "\n",
    "## References\n",
    "\n",
    "* [poliastro - Astrodynamics Python package](https://docs.poliastro.space/en/stable/index.html)\n",
    "* [NASA Small Spacecraft Virtual Institute](https://www.nasa.gov/smallsat-institute)"
   ]
  }
 ],
 "metadata": {
  "kernelspec": {
   "display_name": "Python 3 (ipykernel)",
   "language": "python",
   "name": "python3"
  },
  "language_info": {
   "codemirror_mode": {
    "name": "ipython",
    "version": 3
   },
   "file_extension": ".py",
   "mimetype": "text/x-python",
   "name": "python",
   "nbconvert_exporter": "python",
   "pygments_lexer": "ipython3",
   "version": "3.12.4"
  }
 },
 "nbformat": 4,
 "nbformat_minor": 5
}
