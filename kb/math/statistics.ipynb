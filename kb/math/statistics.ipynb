{
 "cells": [
  {
   "cell_type": "markdown",
   "id": "e7f5da52-4730-4a4d-af02-bbf9e365c7cd",
   "metadata": {},
   "source": [
    "# Statistics"
   ]
  },
  {
   "cell_type": "markdown",
   "id": "4253c5cc-7a5c-47c6-8324-32bf4c815b3e",
   "metadata": {},
   "source": [
    "## References\n",
    "\n",
    "* [Introduction to Modern Statistics](https://openintro.org/book/ims/)\n",
    "* [Probability, Statistics and Random Processes - Free Course](https://www.probabilitycourse.com/)"
   ]
  }
 ],
 "metadata": {
  "language_info": {
   "name": "python"
  }
 },
 "nbformat": 4,
 "nbformat_minor": 5
}
