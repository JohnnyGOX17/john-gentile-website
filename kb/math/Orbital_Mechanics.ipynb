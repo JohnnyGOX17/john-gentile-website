{
 "cells": [
  {
   "cell_type": "markdown",
   "id": "40780732-b250-42cf-a242-9b55b043c6cb",
   "metadata": {},
   "source": [
    "# Orbital Mechanics"
   ]
  },
  {
   "cell_type": "markdown",
   "id": "4c33840c-7794-4323-a3f2-9570de30aec4",
   "metadata": {},
   "source": [
    "## Overview\n",
    "\n",
    "[Rocket Equation](https://en.wikipedia.org/wiki/Tsiolkovsky_rocket_equation)\n",
    "\n",
    "## Tools & Simulators\n",
    "\n",
    "* [Basilisk: an Astrodynamics Simulation Framework](http://hanspeterschaub.info/basilisk/)\n",
    "\n",
    "\n",
    "## References\n",
    "\n",
    "* [Fundamentals of Orbital Mechanics- NASA JPL](https://spsweb.fltops.jpl.nasa.gov/portaldataops/mpg/MPG_Docs/MPG%20Book/Release/Chapter7-OrbitalMechanics.pdf)\n",
    "* [Orbital Mechanics- Braeunig](http://www.braeunig.us/space/orbmech.htm)\n",
    "* [orbital-mechanics.space](https://orbital-mechanics.space/intro.html)\n",
    "* [poliastro - Astrodynamics Python package](https://docs.poliastro.space/en/stable/index.html)\n",
    "* [NASA Small Spacecraft Virtual Institute](https://www.nasa.gov/smallsat-institute)"
   ]
  }
 ],
 "metadata": {
  "language_info": {
   "name": "python"
  }
 },
 "nbformat": 4,
 "nbformat_minor": 5
}
