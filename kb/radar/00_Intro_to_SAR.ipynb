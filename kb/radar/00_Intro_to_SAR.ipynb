{
 "cells": [
  {
   "cell_type": "markdown",
   "id": "6af9e6fe-8fc6-4c2e-916e-ceeac0a21766",
   "metadata": {},
   "source": [
    "# Intro to SAR\n",
    "\n",
    "Synthetic Aperture Radar (SAR) is the process of using specialized radar processing techniques for imaging. The \"Synthetic Aperture\" in SAR is so called due to the concept of creating the effect of a very long antenna using signal processing, along with aperture techniques similar to other optical engineering domains.\n",
    "\n",
    "SAR is popular for remote sensing due to its four distinct principles:\n",
    "1. An active SAR carries it's own illumination which means it can work equally well day or night.\n",
    "2. Most common SAR frequencies can pass through clouds, smoke, and precipitation allowing imaging in adverse conditions. As well, some frequencies can even penetrate foliage or other materials.\n",
    "3. Radio Frequency (RF) energy used in a SAR system scatters off materials in different ways than light; SAR can then be used as a complementary, or more discriminatory, information source with optical imaging.\n",
    "4. SAR systems rely on complex phase information of the returned signals; not only can images be formed, but other important information such as target motion can be garnered from this data as well."
   ]
  },
  {
   "cell_type": "markdown",
   "id": "2f044bba-fa56-4dd9-aed8-c5895a5d2b4f",
   "metadata": {},
   "source": [
    "## SAR History\n",
    "\n",
    "The most basic form of radar measures _range_ (by measuring time delay between signal transmission and reception of reflection from target/scatterer) and _direction_ (given knowledge of an antenna's pointing angle and directivity). The received Doppler shift can be used to measure a target's relative speed, but it was also found that Doppler could also be used to obtain finer resolution perpendicular to the beam direction. This concept is often credited to Carl Wiley of Goodyear Aerospace in 1951.\n",
    "\n",
    "Since the raw collected radar data in a SAR system is unfocused, it takes further signal processing to turn into a usable image. Like a hologram, the essential information is contained in the phase of the data (a.k.a. phase history). Early systems used the principles of Fourier optics to transform phase history data recorded on film into images using lens that performed two-dimensional Fourier transforms and focusing. While novel, this analog process has been since replaced with digital processing and collection methods."
   ]
  },
  {
   "cell_type": "markdown",
   "id": "bd4b8eb8-e9c8-469c-aa52-3a6928ec6c74",
   "metadata": {},
   "source": [
    "## Platforms\n",
    "\n",
    "Most of the heritage of SAR technology was developed on aircraft, however it is commonly in use on spacecraft like [Capella Space satellites](https://www.capellaspace.com/):\n",
    "![capella_satellite](./img/capella.jpg)"
   ]
  },
  {
   "cell_type": "markdown",
   "id": "73b99102-fcf8-4ddd-95b5-6bd8bc3ef5db",
   "metadata": {},
   "source": [
    "## SAR Modes\n",
    "\n",
    "**NOTE:** images from [Radartutorial website](https://www.radartutorial.eu/20.airborne/ab08.en.html)\n",
    "\n",
    "- **Stripmap:** Here the antenna is held in a constant pointing direction, usually perpendicular to the path of travel. The beam sweeps across the ground in a contiguous strip. The length of the imaged strip is related to how far the sensor platform moves. The azimuth resolution is directly related to antenna length.\n",
    "![](./img/stripmap_mode.png)\n",
    "- **Scan:** In this mode, the antenna is scanned (either mechanically or electrically) in range several times during a synthetic aperture. This creates a wider image swath at the cost of degraded azimuth resolution. Azimuth resolution is equal to Stripmap mode's azimuth resolution times the number of swaths scanned.\n",
    "![](./img/scan_mode.png)\n",
    "- **Spotlight:** This is the highest resolution mode, however it images the least area during a given time interval. The azimuth resolution is improved by increasing the angular extent during a synthetic aperture by scanning the antenna to hold on a given area of interest.\n",
    "![](./img/spotlight_mode.png)\n",
    "- **Bistatic:** When the transmitter and receiver are co-located, or are part of the same platform, this is known as _monostatic_ operation. When the transmitter and receiver are at different locations, or on different platforms, this is known as _bistatic_.\n",
    "![](./img/bistatic_SAR.gif)\n",
    "- **Inverse SAR (ISAR):** In the above modes, it's assumed the target is stationary and the SAR platform is moving. However the principles of SAR also work in \"inverse\" where the target is in motion, while the radar system is static. An example is tracking satellites from a fixed ground-based radar. This can also be generalized to where both target and SAR platform are moving, such as on a ship in heavy seas being imaged by an airborne SAR.\n",
    "![](./img/ISAR_mode.png)\n",
    "- **Interferometric SAR (InSAR):** here extra post-processing is performed to extract features such as terrain height, or displacement, from complex SAR images. Commonly this is done as two complex SAR images acquired at the same spatial positions (differential InSAR) or slightly different positions (terrain height InSAR). These two complex images are then conjugate multiplied which gives an interferogram with contours of equal displacement/elevation.\n",
    "![](./img/InSAR.jpg)"
   ]
  },
  {
   "cell_type": "code",
   "execution_count": null,
   "id": "24b454e5-3885-4697-b07d-022fcdddffec",
   "metadata": {},
   "outputs": [],
   "source": []
  }
 ],
 "metadata": {
  "kernelspec": {
   "display_name": "Python 3 (ipykernel)",
   "language": "python",
   "name": "python3"
  },
  "language_info": {
   "codemirror_mode": {
    "name": "ipython",
    "version": 3
   },
   "file_extension": ".py",
   "mimetype": "text/x-python",
   "name": "python",
   "nbconvert_exporter": "python",
   "pygments_lexer": "ipython3",
   "version": "3.12.4"
  }
 },
 "nbformat": 4,
 "nbformat_minor": 5
}
