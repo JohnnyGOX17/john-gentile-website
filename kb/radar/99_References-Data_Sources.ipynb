{
 "cells": [
  {
   "cell_type": "markdown",
   "id": "09273edd-9447-4cd3-98e9-6eebf88d9749",
   "metadata": {},
   "source": [
    "# SAR References\n",
    "\n",
    "* I. G. Cumming and F. H. Wong, _Digital Processing of Synthetic Aperture Radar Data: Algorithms and Implementation_, Artech House, 2005.\n",
    "* W. G. Carrara and R. M. Majewski and R. S. Goodman, _Spotlight Synthetic Aperture Radar: Signal Processing Algorithms_, Artech House, 1995.\n",
    "* L. J. Cantafio, _Space-Based Radar Handbook_, Artech House, 1989.\n",
    "* [Introduction to Synthetic Aperture Radar Using Python and MATLAB - GitHub](https://github.com/SARBook/software)\n",
    "* [SAR 101: An Introduction to Synthetic Aperture Radar - Capella Space](https://www.capellaspace.com/sar-101-an-introduction-to-synthetic-aperture-radar/)\n",
    "  + [SAR 201: An Introduction to Synthetic Aperture Radar, Part 2](https://medium.com/the-downlinq/sar-201-an-introduction-to-synthetic-aperture-radar-part-2-895beb0b4c0a)\n",
    "* [OSTI.gov](https://www.osti.gov/search/semantic:synthetic%20aperture%20radar)\n",
    "  + [Basics of Polar-Format algorithm for processing Synthetic Aperture Radar images](https://www.osti.gov/biblio/1044949)\n",
    "  + [Bistatic Synthetic Aperture Radar - Issues Analysis and Design](https://www.osti.gov/biblio/1669735)\n",
    "  + [Generating nonlinear FM chirp waveforms for radar](https://www.osti.gov/biblio/894743)\n",
    "  + [SAR processing with non-linear FM chirp waveforms](https://www.osti.gov/biblio/902597)\n",
    "* [A Review of Synthetic-Aperture Radar Image Formation Algorithms and Implementations: A Computational Perspective](https://www.mdpi.com/2072-4292/14/5/1258)\n",
    "* [Squinted Spotlight Synthetic Aperture Radar (SAR) Image Formation - MATLAB](https://www.mathworks.com/help/radar/ug/squinted-spotlight-sar-image-formation.html)\n",
    "* [Stripmap Synthetic Aperture Radar (SAR) Image Formation - MATLAB](https://www.mathworks.com/help/radar/ug/stripmap-synthetic-aperture-radar-sar-image-formation.html)\n",
    "* [Radar for Space Observation: Systems, Methods and Applications](https://www.mdpi.com/journal/remotesensing/special_issues/7C43H2J2V2)\n",
    "* [Interference Mitigation for Synthetic Aperture Radar Based on Deep Residual Network](https://www.mdpi.com/2072-4292/11/14/1654)\n",
    "* [Synthetic Impulse and Aperture Radar (SIAR): A Novel Multi‐Frequency MIMO Radar](https://onlinelibrary.wiley.com/doi/book/10.1002/9781118609576)\n",
    "\n",
    "\n",
    "## Open-Source SAR Repos\n",
    "\n",
    "* [ngageoint/sarypy](https://github.com/ngageoint/sarpy)\n",
    "* https://github.com/ron-kemker/sar\n",
    "* https://github.com/AlexeyPechnikov/pygmtsar\n",
    "  + https://insar.dev/\n",
    "* https://github.com/insarlab/MintPy\n",
    "* [Alaska Satellite Facility](https://asf.alaska.edu/)\n",
    "\n",
    "\n",
    "## SAR Data Sources\n",
    "\n",
    "- [Sandia Pathfinder Radar ISR & SAR Systems](https://www.sandia.gov/radar/)\n",
    "  + [Sandia Complex SAR Data](https://www.sandia.gov/radar/pathfinder-radar-isr-and-synthetic-aperture-radar-sar-systems/complex-data/)\n",
    "- [Capella Open Data](https://www.capellaspace.com/community/capella-open-data/)\n",
    "  + [Capella SAR Open Dataset - AWS Open Data Registry](https://registry.opendata.aws/capella_opendata/)\n",
    "- [Umbra Open Data Catalog](http://umbra-open-data-catalog.s3-website.us-west-2.amazonaws.com/?prefix=)\n",
    "  + [Umbra Open Data Resources](https://umbra.space/open-data/)\n",
    "  + Look at how [boxMica](https://boxmica.com/) does automated MTI & AI/ML on Umbra open data SAR\n",
    "  + Look at Coherent Chage Detection (CCD) w/Umbra open data [like this](https://www.linkedin.com/posts/robert-riley-33792a191_the-other-day-umbra-posted-a-closely-matched-activity-7171956815218356224-NRbW?utm_source=share&utm_medium=member_desktop)\n",
    "- [ICEYE SLC/GRD for Research](https://www.iceye.com/free-data/iceye-data-for-research)\n",
    "- [Open Radar Initiative Github (micro-Doppler)](https://github.com/openradarinitiative/open_radar_datasets)\n",
    "- [My lab's CI4R Github (micro-Doppler)](https://github.com/ci4r)\n",
    "- [Australian Unified Radar Archive (weather radar data)](https://www.openradar.io/aura)\n",
    "- [RADIATE (multi-modal automotive radar dataset)](http://pro.hw.ac.uk/radiate/)\n",
    "- [NuScenes (multi-modal automotive radar dataset)](https://www.nuscenes.org/)\n",
    "- [DLR Marine Radar Dataset for Tracking](https://www.dlr.de/kn/en/desktopdefault.aspx/tabid-15772/25571_read-64760/)\n",
    "- [Dop-NET (micro-Doppler)](http://dop-net.com/)\n",
    "- [NASA SAR Datasets for Earth Observation](https://earthdata.nasa.gov/learn/articles/getting-started-with-sar)\n",
    "- [Labeled SAR dataset of geophysical phenomenon](https://www.seanoe.org/data/00456/56796/)\n",
    "- [High-resolution SAR image dataset for ship detection](https://github.com/chaozhong2010/HRSID)\n",
    "- [AFRL MSTAR SAR Dataset](https://www.sdms.afrl.af.mil/index.php?collection=mstar)\n",
    "- [Radar signatures of human activities](https://researchdata.gla.ac.uk/848/)"
   ]
  }
 ],
 "metadata": {
  "kernelspec": {
   "display_name": "Python 3 (ipykernel)",
   "language": "python",
   "name": "python3"
  },
  "language_info": {
   "codemirror_mode": {
    "name": "ipython",
    "version": 3
   },
   "file_extension": ".py",
   "mimetype": "text/x-python",
   "name": "python",
   "nbconvert_exporter": "python",
   "pygments_lexer": "ipython3",
   "version": "3.12.4"
  }
 },
 "nbformat": 4,
 "nbformat_minor": 5
}
