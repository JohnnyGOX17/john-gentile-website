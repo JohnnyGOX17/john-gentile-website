{
 "cells": [
  {
   "cell_type": "markdown",
   "id": "d780a8b4-8907-4ca4-88fd-1375842974d1",
   "metadata": {},
   "source": [
    "# Frequency-Modulated Continuous-Wave (FMCW) Radar"
   ]
  },
  {
   "cell_type": "code",
   "execution_count": null,
   "id": "c1150e2e-3deb-4b21-a2db-05370caf61db",
   "metadata": {},
   "outputs": [],
   "source": [
    "from IPython.display import YouTubeVideo"
   ]
  },
  {
   "cell_type": "markdown",
   "id": "db36a8a6-8351-4b6a-b6cc-62025365c95d",
   "metadata": {},
   "source": [
    "## References\n",
    "\n",
    "- [FMCW Radar - radartutorial.eu](https://www.radartutorial.eu/02.basics/Frequency%20Modulated%20Continuous%20Wave%20Radar.en.html)\n",
    "- [FMCW Radar Part 1 - Ranging - Wireless Pi](https://wirelesspi.com/fmcw-radar-part-1-ranging/)\n",
    "- [FMCW Range Doppler Notebook](https://colab.research.google.com/drive/1lmYojrI1X7sbctWFrS_61IRUMnzKjAsV)"
   ]
  },
  {
   "cell_type": "code",
   "execution_count": null,
   "id": "1a959642-ae59-4d38-b4bc-c14ab3ac1469",
   "metadata": {},
   "outputs": [],
   "source": [
    "YouTubeVideo('G_tmNtP0gw8')"
   ]
  }
 ],
 "metadata": {
  "language_info": {
   "name": "python"
  }
 },
 "nbformat": 4,
 "nbformat_minor": 5
}
