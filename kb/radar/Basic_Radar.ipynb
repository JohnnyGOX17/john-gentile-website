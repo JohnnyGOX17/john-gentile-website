{
 "cells": [
  {
   "cell_type": "markdown",
   "id": "afb7e46e-77ab-40f7-9512-a93b92c9f88b",
   "metadata": {},
   "source": [
    "# Basic Radar"
   ]
  },
  {
   "cell_type": "code",
   "execution_count": null,
   "id": "coordinate-crisis",
   "metadata": {},
   "outputs": [],
   "source": [
    "import random\n",
    "import numpy as np\n",
    "\n",
    "from rfproto import plot, impairments, sig_gen"
   ]
  },
  {
   "cell_type": "markdown",
   "id": "virgin-shadow",
   "metadata": {
    "tags": []
   },
   "source": [
    "Create a basic pulse of the form:\n",
    "$$ y(t) = A \\cos ( 2\\pi f t  + \\phi) $$"
   ]
  },
  {
   "cell_type": "code",
   "execution_count": null,
   "id": "incorporated-handling",
   "metadata": {},
   "outputs": [],
   "source": [
    "# time vector based on sampling frequency\n",
    "fs       = 1e6  # sampling frequency (Hz)\n",
    "rx_swath = 1e-1 # RX Swath length (seconds)\n",
    "num_samp = int(np.ceil(fs * rx_swath))  # number of RX samples\n",
    "\n",
    "# fast time vector\n",
    "t = np.linspace(1,num_samp,num_samp)/fs\n",
    "y = impairments.awgn(0.1, len(t))\n",
    "y[int(0.1*num_samp):int(0.2*num_samp)] += sig_gen.cmplx_ct_sinusoid(1, 3e5, t[:int(0.1*num_samp)])\n",
    "plot.time_sig(t, y.real, \"Basic Sine Pulse\")\n",
    "plot.spec_an(y, fs, title=\"Power Spectrum\")"
   ]
  },
  {
   "cell_type": "markdown",
   "id": "03b9bf9e-73c0-4a42-b509-aa072b1003df",
   "metadata": {},
   "source": [
    "## References\n",
    "\n",
    "* [Introduction to Radar Using Python and MATLAB](https://github.com/RadarBook/software)\n",
    "* [Build Your Own Radar - Jon Kraft YouTube Playlist](https://www.youtube.com/playlist?list=PLxC4LYGYcMqmPDEr8E8AlktQPcuHx4izm)"
   ]
  }
 ],
 "metadata": {
  "language_info": {
   "name": "python"
  }
 },
 "nbformat": 4,
 "nbformat_minor": 5
}
