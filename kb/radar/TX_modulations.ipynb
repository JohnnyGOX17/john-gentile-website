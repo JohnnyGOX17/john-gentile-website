{
 "cells": [
  {
   "cell_type": "markdown",
   "id": "b898e460-00c4-43a8-9786-88d0c34e05b4",
   "metadata": {},
   "source": [
    "# Transmit (TX) Modulations"
   ]
  },
  {
   "cell_type": "code",
   "execution_count": null,
   "id": "38448984-c22f-4957-9304-2f588f8f7cb4",
   "metadata": {},
   "outputs": [],
   "source": [
    "import numpy as np\n",
    "import matplotlib.pyplot as plt\n",
    "\n",
    "from rfproto import measurements, plot, sig_gen"
   ]
  },
  {
   "cell_type": "markdown",
   "id": "129b63d5-29d9-4dd9-ab50-50d48a99e93c",
   "metadata": {},
   "source": [
    "## Chirp\n",
    "\n",
    "A **chirp** is a signal where the frequency increases (_up-chirp_) or decreases (_down-chirp_) with time, (also known as a frequency sweep).\n",
    "\n",
    "### Linear Frequency Modulated (LFM) Chirp\n",
    "\n",
    "In LFM chirp, the instantaneous frequency, $f(t)$ (in Hz), varies linearly with time:\n",
    "$$f(t) = ct + f_{0}$$\n",
    "\n",
    "where $f_{0}$ is the starting frequency (Hz), and $c$ is the constant chirp rate given an end frequency $f_{1}$ (Hz) and the sweep time between frequencies $T$:\n",
    "$$c = \\frac{f_{1} - f_{0}}{T}$$\n",
    "\n",
    "Since [frequency is the derivative of phase](https://en.wikipedia.org/wiki/Instantaneous_phase_and_frequency) (e.g. $\\omega(t) = \\frac{d\\phi(t)}{dt}$), and frequency is linearly changing (increasing or decreasing), it is expected that phase changes _quadratic_ over time, as shown by:\n",
    "$$\\phi(t) = \\phi_{0} + 2\\pi \\int^{t}_{0}f(\\tau)d\\tau \\rightarrow \\phi_{0} + 2\\pi \\int^{t}_{0}(c\\tau + f_{0})d\\tau $$\n",
    "$$\\therefore \\phi(t) = \\phi_{0} + 2\\pi \\left( \\frac{c}{2}t^{2} + f_{0}t \\right)$$\n",
    "\n",
    "The corresponding time-domain output is simply the $\\sin()$ of this phase function, or $e^{j\\phi(t)}$ for complex output."
   ]
  },
  {
   "cell_type": "code",
   "execution_count": null,
   "id": "d0419797-268e-40bc-b4df-b18177e3cd26",
   "metadata": {},
   "outputs": [],
   "source": [
    "f_start = 10e3\n",
    "f_end = 40e3\n",
    "fs = 100e3\n",
    "num_samples = 10000\n",
    "\n",
    "lfm_chirp_sig = sig_gen.cmplx_dt_lfm_chirp(1, f_start, f_end, fs, num_samples)\n",
    "freq, y_PSD = measurements.PSD(lfm_chirp_sig, fs, norm=True)\n",
    "plot.freq_sig(freq, y_PSD, \"LFM Chirp Spectrum\", scale_noise=True)\n",
    "plt.show()"
   ]
  },
  {
   "cell_type": "markdown",
   "id": "339c885e-0a0f-453e-8dbd-6b66c6415855",
   "metadata": {},
   "source": [
    "## References\n",
    "\n",
    "* [Chirp - Wikipedia](https://en.wikipedia.org/wiki/Chirp)\n",
    "* [Coherent Processing of Up/Down Linear Frequency Modulated Chirps - Sandia National Lab](https://www.osti.gov/servlets/purl/1716574)"
   ]
  }
 ],
 "metadata": {
  "language_info": {
   "name": "python"
  }
 },
 "nbformat": 4,
 "nbformat_minor": 5
}
